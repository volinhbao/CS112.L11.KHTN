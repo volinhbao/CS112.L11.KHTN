{
  "nbformat": 4,
  "nbformat_minor": 0,
  "metadata": {
    "colab": {
      "name": "Water_Supply_Report.ipynb",
      "provenance": []
    },
    "kernelspec": {
      "name": "python3",
      "display_name": "Python 3"
    }
  },
  "cells": [
    {
      "cell_type": "markdown",
      "metadata": {
        "id": "cGmt3OV9PZeg"
      },
      "source": [
        "#**NHÓM 7**\n",
        "| STT |Họ và tên            | Description |Role|\n",
        "| ----| --------------------|------------ |----|\n",
        "| 1   | Nguyễn Quốc Cường   | 1852|Leader|\n",
        "| 2   | Nguyễn Trung Hiếu   | 1852|Member|\n",
        "| 3   | Võ Linh Bảo         | 18520503|Member|"
      ]
    },
    {
      "cell_type": "markdown",
      "metadata": {
        "id": "qTyExAh10PWq"
      },
      "source": [
        "Vùng đất diệu kỳ Wonderland có N hộ gia đình đã được trang bị một hệ thống cung cấp nước sạch đến từng ngôi nhà. Mỗi đường ống nối trực tiếp 2 nhà, nước chảy trong đường ống theo 2 chiều, có thể truyền qua nhiều trung gian trước khi đến một nhà nào đó. Trong hồ sơ lưu trữ, các ngôi nhà được ghi số từ 1 đến N.\n",
        "\n",
        "Một trận động đất đã gây nên sự cố nghiêm trọng làm cho cả vùng bị chia cắt thành nhiều khu vực rời nhau, không còn tiếp cận được với nguồn nước. Để khắc phục, những người có trách nhiệm đã khảo sát hiện trạng và ghi nhận được toàn vùng đất đang thảm họa vẫn còn M đường ống đang hoạt động tốt.\n",
        "\n",
        "Nhiệm vụ đặt ra là phải khôi phục hệ thống cấp nước bằng cách lắp thêm một số đường ống. Tuy nhiên, do hạn chế về thời gian và kinh phí nên đòi hỏi phương án khôi phục phải được thực hiện với ít đường ống được lắp thêm nhất. Câu hỏi đặt ra: cần lắp thêm ít nhất bao nhiêu đường ống để hệ thống cấp nước có thể đưa nước đến từng ngôi nhà. Câu hỏi phụ: có bao nhiêu phương án khác nhau đáp ứng yêu cầu; số phương án có thể khá lớn nên chỉ cần đưa ra số dư khi chia cho $10^9+7$.\n",
        "\n",
        "Dữ liệu: Vào từ thiết bị nhập chuẩn:\n",
        "\n",
        "Dòng đầu tiên chứa 2 số nguyên $N, M$ ($1 ≤ N, M  ≤ 10^5$)\n",
        "\n",
        "Mỗi dòng trong M dòng tiếp theo chứa 2 số nguyên a, b ($1 ≤ a,  b ≤ N$). cho biết vẫn còn đường ống nối nhà a với nhà b\n",
        "\n",
        "Kết quả: Đưa ra thiết bị xuất chuẩn số đường ống cần được lắp thêm và số phương án đáp ứng yêu cầu (theo mô đun $10^9+7$) mỗi số trên một dòng.\n",
        "\n",
        "Dữ liệu mẫu:  \n",
        "\n",
        "![image.png](data:image/png;base64,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)"
      ]
    },
    {
      "cell_type": "markdown",
      "metadata": {
        "id": "5ODWLQL21UcQ"
      },
      "source": [
        "#Abstraction\n",
        "Cho 1 đồ thị vô hướng gồm n đỉnh \n",
        " - Tìm số cạnh ít nhất cần thêm vào để đồ thị trở thành liên thông\n",
        " - Tìm số cách thêm cạnh với modun $10^9+7$"
      ]
    },
    {
      "cell_type": "markdown",
      "metadata": {
        "id": "9RnI83Tv187B"
      },
      "source": [
        "# Pattern recognition\n",
        "- Bài toán yêu cầu đếm số cạnh cần thêm để đồ thị liên thông $\\rightarrow$ dạng bài toán tìm các thành phần liên thông trong đồ thị\n",
        "- Đếm số cách thêm cạnh $\\rightarrow$ dạng bài toán số học, cụ thể là dạng phương pháp đếm"
      ]
    },
    {
      "cell_type": "markdown",
      "metadata": {
        "id": "zDjU-QxZ4vig"
      },
      "source": [
        "# Algorithm Design \n",
        "Giả sử đồ thị bao gồm k thành phần liên thông. Số lượng đỉnh của từng thành phần liên thông lần lượt là $b_1,b_2,...,b_k$\n",
        "## Số cạnh cần thiết cần thêm vào để đồ thị liên thông\n",
        "Ta xem mỗi thành phần liên thông là 1 đỉnh thuộc 1 đồ thị mới. Khi đó số cạnh cần thêm vào chính là số cạnh của 1 cây khung. Với đồ thị mới gồm n đỉnh thì đáp án là k-1\n",
        "## Số cách thêm cạnh\n",
        "Đây là 1 công thức ứng dụng của của Prüfer code.  \n",
        "Công thức để tính số cách thêm cạnh là $n^{k-1}*b_1*b_2*...*b_k$"
      ]
    },
    {
      "cell_type": "markdown",
      "metadata": {
        "id": "abdnhQYv9Azs"
      },
      "source": [
        "#Pseudo code\n",
        "```\n",
        "input -> n,m\n",
        "input -> edges of the graph\n",
        "\n",
        "Use BFS or DFS to find the adjacent components\n",
        "output <- number of component - 1\n",
        "output <- $n^{k-1}*b_1*b_2*...*b_k$\n",
        "```"
      ]
    },
    {
      "cell_type": "markdown",
      "metadata": {
        "id": "baTuqBa_8qFs"
      },
      "source": [
        "#Execution\n"
      ]
    },
    {
      "cell_type": "code",
      "metadata": {
        "id": "bIsdWVHA8y0A",
        "outputId": "7e5249ca-36a0-4fda-bb8b-b6f310acb23a",
        "colab": {
          "base_uri": "https://localhost:8080/"
        }
      },
      "source": [
        "n,m = map(int,input().split(\" \"))\n",
        "adj = {}\n",
        "visited = {}\n",
        "mod = int(10**9 + 7)\n",
        "\n",
        "for i in range(m):\n",
        "\ta, b= map(int, input().split(\" \"))\n",
        "\tif a < 1 or a > n or b < 1 or b > n:\n",
        "\t\tcontinue\n",
        "\tif a in adj:\n",
        "\t\tadj[a].append(b)\n",
        "\telse:\n",
        "\t\tadj[a] = [b]\n",
        "\t\n",
        "\tif b in adj:\n",
        "\t\tadj[b].append(a)\n",
        "\telse:\n",
        "\t\tadj[b] = [a]\n",
        "\n",
        "comp = []\n",
        "#print(adj)\n",
        "\n",
        "for i in range(1,n+1):\n",
        "\tif not i in visited:\n",
        "\t\tls = [i]\n",
        "\t\tvisited[i] = True\n",
        "\t\tind = 0\n",
        "\t\twhile ind < len(ls):\n",
        "\t\t\tif not ls[ind] in adj:\n",
        "\t\t\t\tind += 1\n",
        "\t\t\t\tcontinue\n",
        "\t\t\tfor e in adj[ls[ind]]:\n",
        "\t\t\t\tif not e in visited:\n",
        "\t\t\t\t\tvisited[e] = True\n",
        "\t\t\t\t\tls.append(e)\n",
        "\t\t\tind += 1\n",
        "\t\tcomp.append(len(ls))\n",
        "\n",
        "#print(comp)\n",
        "\n",
        "ans = 0\n",
        "if len(comp)>1:\n",
        "\tans = (n**(len(comp)-2)) % mod\n",
        "\tfor x in comp:\n",
        "\t\tans = (ans * x) % mod\n",
        "\n",
        "print(len(comp)-1)\n",
        "print(int(ans)) "
      ],
      "execution_count": null,
      "outputs": [
        {
          "output_type": "stream",
          "text": [
            "3 1\n",
            "1 2\n",
            "1\n",
            "2\n"
          ],
          "name": "stdout"
        }
      ]
    }
  ]
}