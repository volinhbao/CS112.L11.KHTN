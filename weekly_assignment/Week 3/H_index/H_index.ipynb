{
  "nbformat": 4,
  "nbformat_minor": 0,
  "metadata": {
    "colab": {
      "name": "H_index.ipynb",
      "provenance": [],
      "authorship_tag": "ABX9TyP2Stpyjn5ItGLTdPOpMAx4",
      "include_colab_link": true
    },
    "kernelspec": {
      "name": "python3",
      "display_name": "Python 3"
    }
  },
  "cells": [
    {
      "cell_type": "markdown",
      "metadata": {
        "id": "view-in-github",
        "colab_type": "text"
      },
      "source": [
        "<a href=\"https://colab.research.google.com/github/volinhbao/CS112.L11.KHTN/blob/master/Week%203/H_index/H_index.ipynb\" target=\"_parent\"><img src=\"https://colab.research.google.com/assets/colab-badge.svg\" alt=\"Open In Colab\"/></a>"
      ]
    },
    {
      "cell_type": "markdown",
      "metadata": {
        "id": "cGmt3OV9PZeg"
      },
      "source": [
        "#**NHÓM 7**\n",
        "| STT |Họ và tên            | Description |Role|\n",
        "| ----| --------------------|------------ |----|\n",
        "| 1   | Nguyễn Quốc Cường   | 1852|Leader|\n",
        "| 2   | Nguyễn Trung Hiếu   | 1852|Member|\n",
        "| 3   | Võ Linh Bảo         | 18520503|Member|"
      ]
    },
    {
      "cell_type": "markdown",
      "metadata": {
        "id": "GteHGFnvVlND"
      },
      "source": [
        "# **ĐỀ BÀI**\n",
        "Làm thế nào để đánh giá sự thành công của một nhà khoa học?  Dựa vào số bài báo được công bố hay dựa vào số lần một bài báo được trích dẫn tới ở công trình của những người khác? Cả hai tham số đó đều quan trọng.\n",
        "\n",
        "Một bài báo có điểm số trích dẫn là **c** nếu nó được trích dẫn tới **c** lần trong các công trình của những nhà khoa học khác. Một trong số các cách đánh giá sự thành công của một nhà khoa học là tính chỉ số ảnh hưởng **H_Index** dựa trên sự kết hợp giữa số lượng bài báo và chỉ số trích dẫn của các bài báo đó.\n",
        "\n",
        "Chỉ số **H_Index** của một nhà khoa học bằng **k** lớn nhất nếu người đó có **k** bài báo, mỗi bài có điểm số trích dẫn không nhỏ hơn **k**. Ví dụ, một người có 10 bài báo, mỗi bài báo được trích dẫn không dưới 10 lần thì **H_Index** của người đó ít nhất là bằng 10.\n",
        "\n",
        "Một người có **n** bài báo, bài báo thứ **$i$** có điểm trích dẫn là $ci, i = 1 ÷ n$. Hãy xác định **H_Index** của người đó.\n",
        "\n",
        "***Dữ liệu:*** Vào từ thiết bị nhập chuẩn:\n",
        "\n",
        "- Dòng đầu tiên chứa một số nguyên **n**, $(1 ≤ n ≤ 5×105)$\n",
        "- Dòng thứ hai chứa **n** số nguyên $c1, c2, . . ., cn (0 ≤ ci ≤ 106, i = 1 ÷ n)$\n",
        "\n",
        "***Kết quả:*** Đưa ra thiết bị xuất chuẩn một số nguyên – **H_Index** tìm được.\n",
        "\n",
        "| INPUT | OUTPUT |\n",
        "| - | - |\n",
        "| 5 | 4 |\n",
        "| 8 5 3 4 10 | |"
      ]
    },
    {
      "cell_type": "markdown",
      "metadata": {
        "id": "_zuhsHgUV_Tz"
      },
      "source": [
        "## **1. Abstraction**\n",
        "Tìm số $k$ lớn nhất sao cho $k$ nhỏ hơn hoặc bằng $k$ phần tử trong dãy $n$ số nguyên."
      ]
    },
    {
      "cell_type": "markdown",
      "metadata": {
        "id": "zBAWQr0wYpPz"
      },
      "source": [
        "*Ví dụ* \\\n",
        "Cho dãy số nguyên có 5 phần tử $[8, 5, 3, 4, 10]$, ta có:\n",
        "\n",
        "| Chỉ số | Mô tả | Chứng minh | Thoả mãn điều kiện |\n",
        "| - | - | - | - |\n",
        "| 1 | **8** nhỏ hơn hoặc bằng **8** phần tử | $8 <= 8$<br>$8<=10$ | Không |\n",
        "<br>\n",
        "| 2 | **5** nhỏ hơn hoặc bằng **5** con số | $5 <= 8$<br>$5 <= 5$<br>$5<=10$ | Không |\n",
        "<br>\n",
        "| 3 | **3** nhỏ hơn hoặc bằng **3** con số | $3 <= 8$<br>$3 <= 5$<br>$3 <= 3$<br>$3<=10$| Có |\n",
        "<br>\n",
        "| 4 | **4** nhỏ hơn hoặc bằng **4** con số | $4 <= 8$<br>$4 <= 5$<br>$4 <= 4$<br>$4 <= 10$ | Có | \n",
        "<br>\n",
        "| 5 | **10** nhỏ hơn hoặc bằng **10** con số | $10 <= 10$ | Không |\n",
        "<br>\n",
        "\n",
        "**Kết luận** $k_{max} = 4$"
      ]
    },
    {
      "cell_type": "markdown",
      "metadata": {
        "id": "SAyrthRpaeQ3"
      },
      "source": [
        "## **2. Pattern Recognition**\n",
        "- Đây là bài toán duyệt mảng và đếm phần tử\n"
      ]
    },
    {
      "cell_type": "markdown",
      "metadata": {
        "id": "uuM5vV5NaeMk"
      },
      "source": [
        "## **3. Algorithms**\n",
        "Bài này có 3 hướng tiếp cận như sau:\n",
        "### **1. Duyệt mảng và đếm: $O(n^2)$**\n",
        "- Lần lượt duyệt qua từng phần tử trong mảng $A$\n",
        "- Với mỗi phần tử $A_i$, so sánh $A_i$ với từng phần tử $A_0, A_1,...,A_{n-1}$\n",
        "- Gọi ```count``` là số phần tử lớn hơn hoặc bằng $A_i$, nếu $A_i <= A_j$ thì tăng biến ```count``` lên 1.\n",
        "- Gọi ```res``` là kết quả. Nếu ```count``` lớn hơn hoặc bằng $A_i$ và $A_i$ lớn hơn ```res``` thì cập nhật lại ```res```."
      ]
    },
    {
      "cell_type": "markdown",
      "metadata": {
        "id": "0NIh2wUdens0"
      },
      "source": [
        "Pseudo-code"
      ]
    },
    {
      "cell_type": "code",
      "metadata": {
        "id": "CexC_JJUelFr"
      },
      "source": [
        "array A[n]: integer\n",
        "count = 0\n",
        "res = 0\n",
        "for i in range(0,n):\n",
        "  for j in range(0,n):\n",
        "    if A[i]<=A[j]:\n",
        "      count <- count +1\n",
        "  if count >= A[i] && A[i]>res:\n",
        "    res <- A[i]"
      ],
      "execution_count": null,
      "outputs": []
    },
    {
      "cell_type": "markdown",
      "metadata": {
        "id": "BoHB8qILgOy_"
      },
      "source": [
        "### **2. Duyệt mảng giảm dần:** $O(nlog(n))+O(n)$\n",
        "- Sắp xếp mảng $A$ theo giá trị giảm dần\n",
        "- Lần lượt duyệt qua các phần tử trong mảng và dừng lại khi phần tử $A_i$ nhỏ hơn $i$"
      ]
    },
    {
      "cell_type": "markdown",
      "metadata": {
        "id": "M1mBferkiMNS"
      },
      "source": [
        "Pseudo-code"
      ]
    },
    {
      "cell_type": "code",
      "metadata": {
        "id": "5zyLYidliPTT"
      },
      "source": [
        "array A[n]: integer\n",
        "sort(A, reverse = True)\n",
        "for i in range(0,n):\n",
        "  if A[i]<i\n",
        "    res <- A[i-1]\n",
        "    break loop\n"
      ],
      "execution_count": null,
      "outputs": []
    },
    {
      "cell_type": "markdown",
      "metadata": {
        "id": "X_N17viBiOwq"
      },
      "source": [
        "### **3. Chặt nhị phân:** $O(nlog(n))$\n",
        "- Sắp xếp mảng A theo giá trị giảm dần\n",
        "- Đặt ```low = 0``` và ```high = n - 1``` (tương ứng với chỉ số đầu và cuối của mảng)\n",
        "- Đặt ```mid = (low + high) div 2```\n",
        "- Nếu $A_{mid}$ lớn hơn hoặc bằng ```mid + 1``` (chỉ số tính từ 1) thì cập nhật giá trị cho ```res = mid + 1```, sau đó cập nhật ```low = mid + 1```; ngược lại ta cập nhật ```high = mid - 1```\n",
        "- Dừng khi ```high < low```"
      ]
    },
    {
      "cell_type": "markdown",
      "metadata": {
        "id": "FXQNPVOnkYm8"
      },
      "source": [
        "Pseudo-code\n"
      ]
    },
    {
      "cell_type": "code",
      "metadata": {
        "id": "R7xgmN9Dkfl8"
      },
      "source": [
        "array A[n]: integer\n",
        "sort(A,reverse= True)\n",
        "low = 0\n",
        "high = n-1\n",
        "res = 0\n",
        "while low<=high:\n",
        "  mid = (low + high) div 2\n",
        "  if A[mid]>= mid + 1:\n",
        "    res = mid + 1\n",
        "    low = mid + 1\n",
        "  else if\n",
        "    high = mid - 1"
      ],
      "execution_count": null,
      "outputs": []
    },
    {
      "cell_type": "markdown",
      "metadata": {
        "id": "T295eHJ1ke_t"
      },
      "source": [
        "## **4. Result**\n",
        "Kết quả submit trên Wecode\n",
        "![submit.PNG](data:image/png;base64,iVBORw0KGgoAAAANSUhEUgAABgsAAABoCAYAAADPecCRAAAAAXNSR0IArs4c6QAAAARnQU1BAACxjwv8YQUAAAAJcEhZcwAAEnQAABJ0Ad5mH3gAACoeSURBVHhe7d1/jBzVteDx/Pf4jRN+BSfAM2DmjVb4rQQsrBQUCe+KEWL5EQEPeddriV+RUWBFYNdamegJA4MQlogUsIXfwxsWCyzZY6JZEEaxnm2E7Ri9Z3vFekgCDhicN8pIkAw2Zkwina1bXd1ddftUdXXXj75d9f1IRzDd1dXle+re6jlnuvsbv/vkX4UgCIIgCIIgCIIgCIIgCIIgiHpFmN8sgI6xyYbxA1Am1hzkhXPJfeTIfeSoPsg1AKAMXG+AYthzi2ZBAsYmG8YPQJlYc5AXziX3kSP3kaP6INcAgDJwvQGKYc8tmgUJGJtsGD8AZWLNQV44l9xHjtxHjuqDXAMAysD1BiiGPbdoFiRgbLJh/ACUiTUHeeFcch85ch85qg9yDQAoA9cboBj23KJZkICxyYbxA1Am1hzkhXPJfeTIfeSoPsg1AKAMXG+AYthzi2ZBAsYmG8YPQJlYc5AXziX3kSP3kaP6INcAgDJwvQGKYc8tmgUJGJtsGD8AZWLNQV44l9xHjtxHjuqDXAMAysD1BiiGPbdoFiRgbLJh/ACUiTUHeeFcch85ch85qg9yDQAoA9cboBj23KJZkICxyYbxA1Am1hzkhXPJfeTIfeSoPsg1AKAMXG+AYthzi2ZBAsYmG8YPQJlYc5AXziX3kSP3kaP6INcAgDJwvQGKYc8tmgUJGJtsGD8AZWLNQV44l9xHjtxHjuqDXAMAysD1BiiGPbdoFiRgbLJh/ACUiTUHeeFcch85ch85qg9yDQAoA9cboBj23KJZkICxyYbxA1Am1hzkhXPJfeTIfeSoPsg1AKAMXG+AYthzi2ZBAsYmG8YPQJlYc5AXziX3kSP3kaP6INcAgDJwvQGKYc8tmgUJGJtsGD8AZWLNQV44l9xHjtxHjuqDXAMAysD1BiiGPbecaBacmJ2Vo9NT8u57e4OYksPmtmPBBgPCQpQN4wegTKw5yAvnkvvIkfvIUX2Qa9TF72Y/kR/vekKunviB/M2r/3HgYY7j4V1PysdfHAmOEKg2rjcJvvyNyPt3iew6X2TnXxF2mHH59T0ixz8MBgxh9twaTLPg2BE5sH21rFg/JmPPjcjixBiT+zaulsmpI3Liz8HjS8JClA3jB6BMrDnIC+eS+8iR+8hRfZBr1MEHsx/Lv9t8q1q0H3RctfkWOTR7ODhSoLq43sQ49v9Eds0X2XlqZ5GcCIU3Pru+LfLlr4OBQ5M9t8ptFszslX/YeEeKBkFc3CErtu6V6ZKaBixE2TB+AMrEmoO8cC65jxy5jxzVB7lG1f3ui0/kKkcbBc0wDYPDX/w+OGKgmrjeKMw7CvxGgVYcJ9Qw7zI4figYQBj23CqnWXDskExuvDlDk8COm+Un2w/J0WD3RWEhyobxA1Am1hzkhXPJfeTIfeSoPsg1qu6h3U/KiFKgdy0e2T0eHDFQTVxvFFP/RWTn6Z0FcSIhzvDGbVkwgDDsuVV4s+Dob38u96kF/0aMrV0qK7aslld2N7+voBFbt62WpzculduUxzRj7KWfy4HZ4IkKwEKUDeMHoEysOcgL55L7yJH7yFF9kGtUnflugGFoFpjjBKqM641i13lKMZzoGubjiNBiz61CmwWHt98f826CpfL09v1yOOUXGJ+Y3i+TW5bG7Ot+mSzo+3xYiLJh/ACUiTUHeeFcch85ch85qg9yjarTCvOuBlBlXG8UWiGcSBdosedWYc2C6e13K8V98/FBU/1/fNDsVMzHGd0tk9PBNjliIcqG8QNQJtYc5IVzyX3kyH3kqD7INapOK8q7GkCVcb1RaEVwIl2gxZ5bhTQLtEbB2PrV8u7nwQYZffbeauWjjfJvGLAQZcP4ASgTaw7ywrnkPnLkPnJUH+QaVacV5V0NoMq43ii0IjiRLtBiz638mwXTW+RHViH/to2/lNz/8H/6l/KTddHnWfzSllyfh4UoG8YPZZne6S1mK0VenQluQC2x5iAvnEvuI0fuI0f1Qa5RdVpR3tUAqozrjUIrghPpAi323Mq5WTAlz1sF/LGcC/gRWmPijangzuxYiLJh/IbQjMjNK73YGfysOdgozD/l/bcXrz7rPc6LItYDmgUwWHOQlyqeS7P718mt/2Zc9gU/Dzvmu/vIUX2Qa1SdVpR3NYAq43qj0IrgRLpAiz23cm0WHN52R6Rwv3jdk3Ig5ZcY9+vo1JNyW/g5n7tDXsnpC49ZiLJh/IYQzQIMMdYc5KVS59LslGz6H7fKyMJRWbCQZgHKQ47qg1yj6rSivKsBVBnXG4VWBCfSBVrsuZVfs+DY2/J4QUX7buwmxdimt/v/EuUQFqJsGL8hRLMAQ4w1B3mpxrl0RDbdda3fJBj5T/9THrmLZkFV7XvCy+0TB4Kf3FHVHLk63oPEfETVaUV5VwOoMq43Cq0ITqQLtNhzK7dmgV2wv2nLfjkR3Jen6UN75cD0XPBTYG6/PLu2/dymUbE5h0aFGwvRAVnl/zVgM+6VTVZBdGbi3tD9XjjyCwwL+RCiWYAh5s6aMyOb/MJsO5ZNKCfn/vHINqv2B7cH/IJU6H59bbeuET2t/90ea/87eig0z2yRZeF9K9eusMZ1LHmbMlXj+nVAnv7398qq16dk1vupcT7RLOimOe/s+djQmDP6fb2wX9s1o785QLNA1/H62MRdW8xLnUwGPt7WtSOPf1NWvOZH1WlFeVcDqDKuNwqtCE6kC7TYcyunZsGUPB8p1t8vWz8P7srR4e13y5i//7vllY+jDYPPdt8fev4RuSmH7y5wYiGa2SKbQr+UagWVfRPhXxKCX0Ad+KWRhXwIeSdSmc2CZpF/j/f/73v/f/3fN36+6HGRtb9pbBPxtcj2X7S3O8/771N7RT6KaxYcF3ltg8jVof0+tUvkq+Bu41nvtm884+0j+LnptZ95t3v3Za4JoTTOrDn7x6PFxKBwHrnNL/aE1nL7Z+8xqyINhsbaHm062Ldp28Tp9tigURC6lvgFspRFqX1PRIvSjWtXXKG68dw0C4pFsyCdZrNAH6vGuZpXs6BjP80icI+v4WgW6Px1J7JmBetaD8X1zn0MfrxnvNf97XOz939TEXjNj6rTivKuBlBlXG8UWhGcSBdosedWPs2CQy/ITaFC/dimvTm/q2BOPtjWbBQ0426ZDFcd5/ZGPwZp7QumppmJmwtR919UtV9sBoGFfAh5J80gmgVPbRD5/j+KvPl/Rbb/i8gPTQHfu/1/WafQq6aA792+7BfedmbbXd7/PyVydbB9pFlw3Nuvud2Ltd52ZvvXNotc5G13tfffpq9+4/3s3fbDvcENnq+8YzjPu+3Z3wU3YCi4vOZEi0uN4o5d1O9WgLLXdnWt94uN3QvCXR+r7idLoTT+sebfveyJcVlGs6BQ/vlFs6Crxjzc0tEsayi4WWBozcUuuq0dgzLoeaSuc/74pl9rtH04N94p1/0i8ZofVacV5V0NoMq43ii0IjiRLtBiz61cmgXT25eGiviXy+MHrI8JykRrFDSe58e7wy/d5+SdTZeH7l8qmzN+3ombCxHNAhTIO2lMs8AU3rtFns2CqzdE/9pfPhG53rv9b0NF/VZjwX7er4N3B3j3hZsFe7x9mkbBnuPBDYGPtja2ffOL4AZPa1tvX2Z/pskQbihgOLi85kSKSzHFqm5rd/R+veGQrhCW4rGm+KQci/l3dDwulZhrV/N5eizgFa2K1y//HKRZ0FVrrvrnpH3O6uexPze921vRtZCc/FpOK0Y38teM6Fzp3L6x//b27bxr+45dEzIa9DzS19T22CePxfuNhlF4HIN9NR8Xzbsyt/wifvN+L+xjaa170Xz1nAeaBUDhtKK8qwFUGdcbhVYEJ9IFWuy5lUOzwBTpw0X8h+SfzIfj5iK+UbBkcn/Hlxgf3f1QZLusTQsXFyL/FxSlgNOi/nI7GCzkQ8g7sUyz4Psbgr/c1+IXjWJ7ns0C7bsG/AaAdxxNrz7j/fwzkT8GP4c1GwCt/Xwt8t/Mv+P14Oew4N8YOf7jIiu857ve237/Zm9f3v87MIXQI3fXHKswGFfYSSz42MW8uGJj3O1hKR6rHkvjGDqLaylo+ws3CGgWFM5//TDggmKeispRuIDcKAaHx6xz7nSOazBPkl6rdZmndpE7fEw+fz6154t9/8zEeGczobm/bnMxR4OeR2qzIPxvTTEW2j4aOQ+vx51rY+PciY5px7niP5d1m5Xb7hrnUt6Nnl7xmh9VpxXlXQ2gyrjeKLQi+DDF5Fn+66Fl46fo9xcZaLHnVg7NgiOyeX2okL/uVTkc3JNNb40C35FXZUlo2/u2Z/uWY1cWosYvHPYvJmGNXxQa21i/9AwQC/kQ8k6vvj6GKHicuT0c4SZAt+8ssNnbP+Vtpxb/PR1Nh5jjCYf9b2x+9BAfPzS83FxzlMKhVqAy4m73dBSZYouNyUXIhjSPDa4rHcWv6G2pBAWx6PXLOoaCipX9quL1q/McGm5F5cgfp9Y5bheBU563Xc/nuDkYMGtBc83w92XnrXFczTkVPWZFZG1pPDb83P7c7nVepzDoedRZ6LfXte5j0bmPYLyt26JjHJdf7fyxt4vmVhecl+bf4si6yWt+VJ1WlM8cb/6jvH38hMz+YY1+f58BVBnXG4VWBM8Sb54ukw9eIHdee1nwWqMRi669WF5cr2yfNWgWOMGeWzk0C/bLs6EC/eKXXpfPgns6HJuVE38O/j9RfKPgvjem9EaB8fnr8qPw9ls6XqX3xMWFqFms6fwFpCn4Rcj+JWYAWMiHkHfS9NUs8Pzxi84If7RQHs2Cm7cGP1jimgWt7zZQYr81QZrfXRDZD4aKc2tOUAjqKML11CyIW9PTFKOCx7aiWVRK81gj+nhTvDJFslYRyz/e0P6V645+zVKKYV2Lq+Wq4vWLZkE6HYX3SEHXmiNmDqivtzqL0FFxc7AhUqC251kokpoFzbnXjnbu/fsSCuZ5GfQ86hwDa93xdBuLSC4C2nhH1m+1wdMQWUPVdU9ZHxM1th/03OY1P6pOK8r3HZMPy/jHh6X5YQw0C4D0uN4otCJ4n/HpM9+VxeY106JL5L57zpcXx+fJnmfOlqcfPF9W3n6JrKFZUFn23Mq/WRBToD869aTcZu5f96QcOBbcqJqTg2/c0XujwJfuWNJydSFSf0kJc6TowkI+hLxzpt9mQTdZmwX+xxL93Ppug8BHrzf20yryfyHyQ+/nuHcidAi+DNl8T8FraxvP+1FwF4aHU2tOUOBTC3Axa3RHUSooUupFo5iCUqr1v9/HdhbSkvjXKq2AlVD89CPp+laSKl6/YvMxpIrKkfYaq1F0NmNXTrMgUlCOfY626DEHTb7wY8KFbMOf68HP5v+77L9fg55HWqG/Q5excL9ZYCSfT2XgNT+qTivK9xMPfXxYmh+UPHvsM///aRYA6XG9UWhF8D7i0/GLZGThiNywfJ7MKPcXFjQLnGDPrVKaBa1GQTNiGwZZGgUGzQKf+stH+VjIh5B3zrjaLPC/hDjcEGj6ovH9BPZ9r/3Mu+1x73HWFxxrml9wvN98wXFzDGLexQB3ObPm+EWjpDVYL+x0FpGSiz+xBasUhb++HmsXHBP4+09xHC2OXLeaqnj98nOSMn/DoKgcqXPDO5NNAXfBE1uiTYC487br+ZxQ3LXnWYq5ETlmbZ4qt5nHmOc3xfDeCtPpDXoepWoWeJLGoq9mQWx+rdvV3NIsAFykFeX7ifE/fCZzxz+UN979ofzNvxzw311AswBIj+uNQiuC9xpBwX7x8jNkTru/yKBZ4AR7bpXwMUQzMvlS6P4gxtatthoGWRsFngp+DNG+J7Rf+KK/aKyK/EIR/ELbS5GmICzkQ8g7aVxtFphj+ztvW7P9Cu9x5qOE3vT+e/Pfe8eiNRKa25v7g+1NvPoL7/a17f1+5d32t2af3n+bOt6pgKHgyppjCkndCj1+ASpcvLOKef79HQVLi19oCheIeigYdX2sdy2ZCD1/x/ZJzL56LPyrRbPBqeL1yy9w2kXkIVZUjtRCsBHMgchrME/nuDYbC0nzV5+rjX3pxePOgnX7OSPH3DGXGs/VkXuz5vjNj+Lm3aDnUdpmQeJYWGuzoZ4j2hpu5dJ/XPh41HWvW7PAy6f13J3nYPl4zY+q04rymYNmAdAzrjcKrQjeYxxccaksGP2O7Nim3x8bk2fKi0v+WhYvMq9FvFh0idy55BzZM6ls68XMunPkgesXyojZdnShLFs+Tz6diGsWnCJ7Hr1Abr1ixN/3yBUL5IFHz8z3XQ9osedWOV9wfGRLtIgfxNj6F+Sg3zDIoVFgVPALjhu/bAQTzw/7l4rmL4GhSPwFtTws5EPIO7ecbRYYn4usXSsy4j3GPO7qn4m89kl7Px3FfWt70zj4vveYV38T3H+88a6E8+yPN/ra+/eZjz3ynp+PIxoebqw5QWHPXpf9iK7f0fVdKUZFHtuOSIExVMDsuK+bxMfa/w6liBbH2m8k4gp3atFscKp4/XKhoJinonKkFoIDzTmrF/nb0f2vwpXXbiZiX791rivh57CPuWNtUQrerWMo8DXjoOeRPw6p/ngmaSxCYx/sSz1HlDHueA1vP6avZoFyjUn1bywWr/lRdVpRPnPQLAB6xvVGoRXBe4rTZMN13uuJe+b19K6CufXnyw2jozJy3QXy4jNnyp51Z8qO8flyp2kcjF4kmyai27c+5mjJOTLpbbtn3bfkxSUXy6JrL5Hvea9nos2CU2XTLSPefhbIKvO9CWbfj3238XxLvimzof1mCrTYcyuHZsGcvLMpXOB/SP6p+W09YXENg5dela15NAo8R3c/FNnH4weanwjYHxaibBg/AGVizUFeOJfcR46yahTIe2ow9mh4clT8WFQd8xFVpxXlMwfNAqBnXG8UWhG8pzjDfx10w2OnKffFxDbvMdeMysgtZ8mn2n3XjsqC27/VLuonfMzRwRWX+H/8EG4WzIxf5N3W2XCYWzdfvrfwUlnzcvT2vgMt9tzKoVkgMr19aahIf3l8kT6mYdAZl8uPth3qqVHQaFpcHtrHUtkc+ZPk3rEQZcP4ASgTaw7ywrnkPnKUkfpug3wNTY5KGIuqYz6i6rSifOagWQD0jOuNQiuC9xSNZkEv3xkw9/x3vNdO8UX7ZrF/Mvg4ok/H/9r7+UKZfLNzW5k4S+6MPH/SOx3O7PlYEwMt9tzKpVkgh16Qm0LF/rFNe+VEcFeHrg2DfhoFnrm98nh4P2tfMJ+WkgkLUTaMH4AyseYgL5xL7iNHWXT7qJt8DEeOyhmLqmM+ouq0onzmoFkA9IzrjUIrgvcUZ8jTo6OyYPmZyn16NJoBCd9xsH6+d/+IPL2+8fO+5d7+rztbPrS3M9HxBceN5kXkIxftWH5GdB/9BlrsuZVPs0Cm5Pm1oUL9c/fL1s+DuzSxDYM+GwWez3bfH9nXTW9MBff0j4UoG8YPQJlYc5AXziX3kaP+tD5Hv8DvKmhyPUdljkXVMR9RdVpRPnPQLAB6xvVGoRXBe4qT5a0l3uuha86Vg+r9ndFXs+BG5SOLTMQ0Cxbf8y3/uwrU2HhydB/9BlrsuZVTs0Dk8LY7osX6Lfvj311gdDQM+m8UyNx+eTbSrLhDNmf7bmMfC1E2jB+AMrHmIC+cS+4jR+4jR/VBrlF1WlE+c9AsAHrG9UahFcF7jLl13/G/fHjZ+Knq/Xak+xiiC+St4GOHDq64NL65sPFsuSHSLDhd1lwz2vMXLvcVaLHnVm7NAjn2dvRjgJ67Q17pVrBvNQwyNAo8dqNibNPbfe8rjIUoG8YPQJlYc5AXziX3kSP3kaP6INeoOq0onzloFgA943qj0IrgPccpMnnLiCxYeIk88kyKhsG2M2XlaPIXHI8s+Wb7C47Xz5cRvyFg7/tk2XGPed5ws6DZXOj8guPcAy323MqvWeCxi/aL1z0pB44Fd8Y4+vHrMvle/58TenTqSbkt/JxpmhQpsRBlw/gBKBNrDvLCueQ+cuQ+clQf5BpVpxXlMwfNAqBnXG8UWhG8n9h2mmy4/TK/cD9yxUWy8sGzZdJ85M8zZ8vTD86XB268RNYEHytkYm79fFlstr3uAnnxmcbHA+0Yny93LhqVBdfOl32RdxE0mxEjcuvys2SH2e/zZ8mqGxfKsuXeY6xmQbPhsGD0Ynng0fbHEU0+5h3H9efKvtZ+MwZa7LmVa7PA/+6CdeHC/YiMvbRFpoN7czfd+d0Ht+XwXQVNLETZMH4Omfu9yIcPi/xqob5IDjrMcZnjM8eZYPrLr+TRd9+XKyZ2yHn/e+tAwxyDORZzTHADaw7ywrnkPnLkPnJUH+QaVacV5TMHzQKgZ1xvFFp9JUPMrDtbVt5+sVxlvvR4YRCLLpEbbrxAJq2/9J+bmCdrQtuOXLFAHnh0nnyqfpfBKbLn0Qvk1isa7yRYdO2FsuqZ02Su4zsLgnjzdJlcfqEsNs0HcwyjC/1jePH5U/P7eCK02HMr52aBRyvgb/xl/g2D6V/KT6zGxOKcGxMsRNkwfo4wBfhfXaYvjq7F3tHYhoEpyl85sVMt3A8yrt6yk4aBI1hzkBfOJfeRI/eRo/og16g6rSjvagBVxvVGodVViHSBFntu5d8s8Exvv1vGwkV8L8bWr5Z3Pw82yOiz91bLfdb+Fz93t0zm3JFgIcqG8XOE+Yt9bWF0NT74cXDgUeav+LVivQux8t383tGE/rHmIC+cS+4jR+4jR/VBrlF1WlHe1QCqjOuNQqupEOkCLfbcKqRZYGgNg8XP3Sw/2T7V/5cPz07J5Mablf3m3ygwWIiyYfwc4epHD8WFOV6FCx89FBfm2DB4rDnIC+eS+8iR+8hRfZBrVJ1WlHc1gCrjeqPQaipEukCLPbcKaxYYh7ffrxT2TSyVp7fvl8Ndvvy46cT0fpncsjRmX/fLZE5faGxjIcqG8XOEtii6HgqtSO9SYPBYc5AXziX3kSP3kaP6INeoOq0o72oAVcb1RqHVU4h0gRZ7bhXaLDCO/vbnykcGtWNs7VJZsWW1vLJ7r7z7Xju2blstT29cKrcpj2nG2Es/lwPmW4EKwkKUDePnCG1RdD0UWoHepcDgseYgL5xL7iNH7iNH9UGuUXVaUd7VAKqM641Cq6cQ6QIt9twqvFngO3Yo5uOD+g3zcUaH+v84o5RYiLJh/ByhLYquh0Ir0LsUGDzWHOSFc8l95Mh95Kg+yDWqTivKuxpAlXG9UWj1FCJdoMWeW+U0C5pm9so/bMjSNLhZVmzdK9N/DvZXMBaibBg/R2iLouuh0Ar0LgUGjzUHeeFcch85ch85qg9yjarTivKuBlBlXG8UWj2FSBdosedWuc2CpmNH5MD21bJi/ViKxsGY3LdxtUxOHZETJTUJmliIsmH8HKEtiq6HQivQuxQYPNYc5IVzyX3kyH3kqD7INapOK8q7GkCVcb1RaPUUIl2gxZ5bg2kWWE7MzsrR6anQdxZMyWFzW8ovQC4KC1E2jJ8jtEXR9VBoBXqXAoPHmoO8cC65jxy5jxzVB7lG1WlFeVcDqDKuNwqtnkKkC7TYc8uJZoGrGJtsGD9HaItiXvHyOfLAPWfL5Munypx2f7+h0Ar0cXHle3+UP/3lL/JVpvha/vm9Her+tcDgseYgL5xL7iNH7iNH9UGuUXVaUd7VAKqM641Cq6cQ6QIt9tyiWZCAscmG8XOEtijmFAdXXCoLFo768b0Vp6vb9BUKrUAfF7d+eFS+Ch7Xv7/Ibz/cq+5fCwweaw7ywrnkPnLkPnJUH+QaVacV5V0NoMq43ii0egqRLtBizy2aBQkYm2wYP0doi2IucZpsuK7RKFiwcERWrde26TMUWoE+PnbIo0fmMjQM/iJ/OPK+XKnuWw8M3lCvOfvHW403E6v2B7e3HJBVofsXPHEguD2FmS2yzHvMsomZ4IaA9Zwd90dYz7/wXtmUtHlz+16O0yFcv9znao72PRE3l2Zk012hOXTXFu8WS5d1YGbi3oTHN+Zc59oxOMyj+iDXqLqrJ34gI0ph3rUwxwlUGdcbxa7z9JoKkRy7vh0MIAx7btEsSMDYZMP4OUJbGPOIybP8AqRftBidL/u0bfoNhVagT45+Gwa9NwpMYPCGds3xC4Sh4rv9c1AEbBcg7Z+TmeKlmaeR7e3nCBoKsYVG7/5NofsaRcv4hkGrqEmzAAVxK0fRRkDn3Azub80H+2dPt3XAn6Pjsq/xg//48PPENykGh3lUH+QaVffw7nG1OO9aPLL7qeCIgWrieqOY+s96TYVIjqmlwQDCsOcWzYIEjE02jJ8jtIUxdZwk+x5cIPeNn9px3+xPL2gVRhbcM6/xnQVvnimrrr9QJiei2/YcCq1A3z16bRj01ygwgcEbzjWns+hn+AX+ZiHRLxo2i4QNfjFe+8tkm3nsXeOyKvIc+nOm3qcv4a+Yg6LmqvC/Ychw/XKfSzlqzx19bmlzuDFPms2A7uuAeY7I/Wafzfll9pV67paHeVQf5BpV9/HRI3LV5lvUAr0rccXmm+XIsengiIFq4nqjOP6hyDvn6nUVQo93zhH56uNgAGHYc4tmQQLGJhvGzxHa4pgqTpY9yy8JGgIjsizSMDhZ3lpibm/EAz89WWTbGbLq2uC20YtkU5aGgUIr0KeLtA2D/hsFJjB4Q7nmRAqGbZHCfYpmgV9U7CgWmoK+2bddiGz83FHoj/zlcrd3L8Q1C9r7jjQ8hgzXL/e5maPuRf+20BxKsQ7ENwvMc3Y+1gXMo/og16iDQ18clis33+LgxxH9B++4bvYbGkDVcb2JcezXIu98W2Rn5x95EuHwxued80S+/CAYODTZc4tmQQLGJhvGzxHqItktTpW3ljUbBY1YvPyMxrsHTGybJytb910kmya92ybOkmWj7e0XjC6QNS+fZO03ZSi0An366NYwyNYoMIHBG8o1R/uLYyNye6MA2S42dhbyO5sF4aKlXcDUC5qN52wWHZObBXpzIloUpVmAIrmZI21uxcy38O1p1gFlTTCNho4mgkOYR/VBrlEXh4/+Xh7Z85RcM/EDpWhffpjj+O/e8fCOAtQF15sExw+JTP1X3mUQF2Zc3l/GOwpi2HOLZkECxiYbxs8R2kKZGKfKptsvk1bRf+GI3Lri9HajwMT6+TLSvP/6s+XT5u0T35RHmu8uMDF6sTy97uT249KGQivQ9xZxDYPsjQITGLyhXHPSFAl9jeJgc251Kw5GC/WdxUr/L5Yjf8ncaA6k+h6CmOcP/xW0QbMARXIzR1pjQLvNCN2ech0Iz0F/boXeDeTPt4T5OQjMo/og1wCAMnC9AYphzy2aBQkYm2wYP0doxfi42HaabLhlpF2MWHiJPPJM51vZDq64tLXNDY+dFr3/zTNkzfXRfax8/pToNt1CoRXoe48d8trRYIdNR/81c6PABAZvKNecNEVC5SNK/MKg8pf9hl20jxQlQyKFR/NckY8hStZ8bOtjiJR/B80CFMnNHBXbLIhqPL757oL2XDONPzc+loh5VB/kGgBQBq43QDHsuUWzIAFjkw3j5witGB8Tc+vPl8Wt4qEXN54jB7fZ250mG65rbnOprHnZvv+vZOan35WrQvsZueVbMmNtkxgKrUDfT2z8U7DDpj8dUbfrNTB4Q7nmpPisclN07yw0hj7vPKL5DoG4SGgGmMJkTANC024GNIqW+vOZcKNw2QuuX+5zM0d6Y0BvnIXmcIp1wNZuEJjn7Gwmdq4N5WMe1Qe5BgCUgesNUAx7btEsSMDYZMP4OUIrxifE7Lr5kYbByHXzZYf5ToLmNhvPlhua94/Ol32hx8rOk+TDxy6UReHH33JW+2OK0oZCK9D3EzQLqms41xy96N9uEOjFx/hmgSZuH2FptonSC6Bt3e53Gdcv97mZI30eqUX/yDt5uq0DlshjaRZg8Mg1AKAMXG+AYthzi2ZBAsYmG8bPEVoxvkvMvXyu3Br+suJFF8qmicZ9M+MXtW+/Z17ouwxOlj0PXtz+LgMvFi/7Zu+NAhMKrUDfT9AsqK5hXXP8QmL4L/7tjx7xf+4sBoa38X+OfVeAUsDcv6Vzf5HHN4qXzcfseyJ0PIZ/TMkFSX+fNAtQEDdzFNd0i84nbbuu60BL47HhuReZazHvUhgE5lF9kGsAQBm43gDFsOcWzYIEjE02jJ8jtGJ8ipjbeLYsCzcMrjtHPtx5sry1pH3byudPam0/+/x3o42Ce+b19tFD4VBoBfp+gmZBdQ3zmtMoFDbnj1IgDIrzcdv03iyw9tdR1I8WN6PHZ6J7MZJmAYrkZo7imgVGY04155C2Tdd1wKPPq8bzNh/rwrsKDOZRfZBrAEAZuN4AxbDnFs2CBIxNNoyfI7RifNqYOEvuWzQqC66dL/vMdxdsmycrW4WMC+StN6Pbfzp+kYwsHJEbHjxTZkO39xwKrUDfT9AsqC7WHOSFc8l95Mh95Kg+yDUAoAxcb4Bi2HOLZkECxiYbxs8RWjG+l5g8XQ4G31kwt+477XcP3HKW8s6Bk+TTl08NfTRRn6HQCvT9BM2C6mLNQV44l9xHjtxHjuqDXAMAysD1BiiGPbdoFiRgbLJh/ByhFeP7jH3LR1ofc3DDY6ep2+QSCq1A30/QLKgu1hzkhXPJfeTIfeSoPsg1AKAMXG+AYthzi2ZBAsYmG8bPEVoxvq84XdZc0/wIoktlzcvaNjmFQivQ9xNX7vxI/vl4sFODZkFlsOYgL5xL7iNH7iNH9UGuAQBl4HoDFMOeWzQLEjA22TB+jtCK8f3EttNlw5IFcpX50uNrzpWD2jZ5hUIr0Pcfu+TxI8flK7NjmgWVwZqDvHAuuY8cuY8c1Qe5BgCUgesNUAx7btEsSMDYZMP4OUIrxmeKk2TWfNmxel9OodAK9Fnjum0H5M7/o9/Xa2DwWHOQF84l95Ej95Gj+iDXAIAycL0BimHPLZoFCRibbBg/R2jFeNdDoRXoXQoMHmsO8sK55D5y5D5yVB/kGgBQBq43QDHsuUWzIAFjkw3j5witGO96KLQCvUuBwWPNQV44l9xHjtxHjuqDXAMAysD1BiiGPbdoFiRgbLJh/ByhFeNdD4VWoHcpMHisOcgL55L7yJH7yFF9kGsAQBm43gDFsOcWzYIEjE02jJ8jtGK866HQCvQuBQaPNQd54VxyHzlyHzmqD3INACgD1xugGPbcolmQgLHJhvFzhFaMdz0UWoHepcDgseYgL5xL7iNH7iNH9UGuAQBl4HoDFMOeWzQLEjA22TB+jvjVQr0g72qY41VcMbFDLdK7EObYMHisOcgL55L7yJH7yFF9kGsAQBm43gDFsOcWzYIEjE02jJ8jPnxYL8q7Gh/8ODjwqEfffV8t1LsQK9+dCo4Sg8Sag7xwLrmPHLmPHNUHuQYAlIHrDVAMe27RLEjA2GTD+Dli7vciey7WC/Ouxa8uaxyvYvrLr+Tfbt6uFusHGVdO7PSPDYPHmoO8cC65jxy5jxzVB7kGAJSB6w1QDHtu0SxIwNhkw/g5xBTgzV/su/qRROa4zPHFNAqaTFHe/BW/Cx9JZI7BHAuNAnew5iAvnEvuI0fuI0f1Qa4BAGXgegMUw55bNAsSMDbZMH4AysSag7xwLrmPHLmPHNUHuQYAlIHrDVAMe27RLEjA2GTD+AEoE2sO8sK55D5y5D5yVB/kGgBQBq43QDHsuUWzIAFjkw3jB6BMrDnIC+eS+8iR+8hRfZBrAEAZuN4AxbDnFs2CBIxNNowfgDKx5iAvnEvuI0fuI0f1Qa4BAGXgegMUw55bNAsSMDbZMH4AysSag7xwLrmPHLmPHNUHuQYAlIHrDVAMe27RLEjA2GTD+AEoE2sO8sK55D5y5D5yVB/kGgBQBq43QDHsuUWzIAFjkw3jB6BMrDnIC+eS+8iR+8hRfZBrAEAZuN4AxbDnFs2CBIxNNowfgDKx5iAvnEvuI0fuI0f1Qa4BAGXgegMUw55bNAsSMDbZMH4AysSag7xwLrmPHLmPHNUHuQYAlIHrDVAMe27RLEjA2GTD+AEoE2sO8sK55D5y5D5yVB/kGgBQBq43QDHsuUWzIAFjkw3jB6BMrDnIC+eS+8iR+8hRfZBrAEAZuN4AxbDnFs2CBIxNNowfgDKx5iAvnEvuI0fuI0f1Qa4BAGXgegMUw55bNAsSMDbZMH4AysSag7xwLrmPHLmPHNUHuQYAlIHrDVAMe27RLEjA2GTD+AEoE2sO8sK55D5y5D5yVB/kGgBQBq43QDHsuUWzIAFjkw3jB6BMrDnIC+eS+8iR+8hRfZBrAEAZuN4AxbDnFs2CBIxNNowfgDKx5iAvnEvuI0fuI0f1Qa4BAGXgegMUw55bfrOAIAiCIAiCIAiCIAiCIAiCIIh6Rdg3gv8CAAAAAAAAAICaolkAAAAAAAAAAEDN0SwAAAAAAAAAAKDWRP4/GQEFr0IkjpUAAAAASUVORK5CYII=)"
      ]
    },
    {
      "cell_type": "markdown",
      "metadata": {
        "id": "UpIFIvZxlzF4"
      },
      "source": [
        "![tests.PNG](data:image/png;base64,iVBORw0KGgoAAAANSUhEUgAAANEAAAO8CAYAAADXuFH2AAAAAXNSR0IArs4c6QAAAARnQU1BAACxjwv8YQUAAAAJcEhZcwAAEnQAABJ0Ad5mH3gAAEkySURBVHhe7bw9ax1J26irH3E2m3M2G/bOhhOf5A1PMPHEw/MkA2YiG4bhmWQGw+BABicjh8oUjFFmB84UCMYgHNrG2H9Btv5E7/rsrs/u6nWvai1L1wUF6q/q6vu+r6pekpeP/uu//mug0Wi7NySi0YTt6P/5n/9r+L/++/89AMBuIBGAECQCEIJEAEKQCEAIEgEIQSIAIUgEIASJAIQgEYAQJAIQgkQAQpAIQMidlejpH8Pwwz9uA6AjXSXShXw003oW+b4lOv+r/5jh22SzlehaFZ8uwrduuzf7ksiP+/yT6g+JoMBBSZSuXKVzfT9j+9sdUGTHkrZaACXOkVqBrvXPN0gEZQ5DokKBvlVypOePq4I636P3PVXFnrL3z0RIBBUOQiIjjJ/xA1IRaueVQCLYioOQqFbw5sN86XWtQSQkgq24fYlccRo5Si2QyKA/p8wddyARbMVBr0RL+M9NJZGQCLbiICRKX9vWUPucJOmzCBJBhYOQyL+iLRWoFiO9Xq84JVn8KhX+Jk8EEkGFw5BI44pUnxO2VAIjTdDmitr/K4OWc4tUxuTb3gSFb5rNJAK4qyARgBAkAhCCRABCkAhACBIBCEEiACFIBCAEiQCEIBGAECQCEIJEAEKQCEAIEgEIQSIAIUgEIASJbpuvb4Ynv70YPrjNe42JxePh4dlnt+PboLtEXy6fDw91YExbWyyfh9Px2sfDk8vgq6Q+4GH7xoJvWCtR8tynH91+TRqTZ2+GL+6Qpykfvp/C9YaPL+z1zfG2eZzGejNcPCv07++b9BuPWbfnw8VXd/AA6CuRCfaUqA9nhcBVsYEexXEBHhOht5v7OmDMc7VKpGMSFJCJb72gTLzDgmzKh4376Zk6txhfLcRzdVwV9o4SGSlW5C49f+31vekoUSKBxhRM4yySJFwTFYVYoniVW5uUeHYMn0n3q8btpC/27WfysbVKlJLO8DFmjGOht+VjLFA9xkJMfA7ivpcIxlmZNEy/Lh7RGBWZNJU+bouOEunApcVlg1RLekiaJLOtr/fBFEqkk5Ymqxl179Pg2jjJ/jl9kpNCTwtXVBBJ3xFuRRmPNeQjHFtJomBi202iZCUtUMpLKtG6e/dnA4lsMn2yWot3DJSftXUQw4IzP9t+bVtXiGbmE0gYEYmQFmv8zNnzCyQqPkO4ykXHlvMRjS2TKJZyF4n0PZdyn8VHYe7ln8m03eLVi84STcmypLNjnTFwYSJLs6PDnr8muFMxxWNsIb7Wtm0lanreYOVYzEca22Q7lSbdnsfe+/RjHpuUqkTp2Bb62ZJtPxMVCqxKVACW2cQJZnS/qrWKpBMdJXXjlcgK1BLHcCzz+TDP5CRLm30NKx9rH0cg68zzNkkUyn8AdJQoT3YeDIUr4Gy/C/wkTZCIDJfk5pkxZa7vHFNw4718gbVJFMfAPeMKidoFyuPdlA9PujIlmGtXr0R2a+6+TRItiLg1XSXS2MTpQlGtFLiqRBpfZLaFRR71q1oa+Hnifldf78fs2ull+0o0SaebPk+f31oQ+bhN87EzxVXYH7CYD09HicoTjxtT0KKJJzrWNolsxdH/+z/+/+F//7f/z20CwFqQCEAIEgEIQSIAIUgEIASJAIQc/fnnn8PPP//sNgFgLUgEIASJAIQgEYAQJAIQgkQAQpAIQAgSAQhBIgAhG0n0fjg+/374TrUHV9duX867C3vO2F69HvJv+Ux9+Rb1+ekkOha240/unOF6ePmqdM7J8M6dUbpP2uaeBe4P20hkCvtkeHn1aEGMsIgVX18PxyVBLt67HZabK9W3/5KWO2cSpoSTKOpnEqt07Y0eezo+AMUmEpkVRheskuLB+aOp4B12BVoqUCdaIlDGzhJp3D0KoiMR1NhAIluYtqht8cavQfuUQyGSyO1HIlhBf4lMUU/FZ1adsEgb5WhbrRT7WIkKQiMR1Ogu0fgq5zFFHrzSdZIob+FrZEkit69yDySCGp0lsjP77Ovbba5ERq6gFVYgDxJBjb4SVVcF3VxBml82qO2ZAtbYIl6WbZVEC/cMQSKo0VWi7POPJyr0+deokUbZkAi2pqNEpVc5T/JK5wVJizT5O5FfjdLi38/fieZBIqjRTyJTzPnfhDz5Z5zC55TSKjYKN7Wd/8UCEsEe6PyLBYC7DxIBCEEiACFIBCAEiQCEIBGAECQCEIJEAEKQCEAIEgEIQSIAIUgEIASJAIQgEYCQOyvR0z+G4Yd/3AZAR7pKpAv5aKb1LPK9SXSj+knGfZ59yQnuM5utRNeqoHUBvnXbvdmLRE6gUJq3fyMSxByUROnKVTrX9zM2VdSe7FjS9rky8aoInsOQqFCYfsYPz/d9hKuA3ve08P8pdPtMhESQcBASGWH+Uue4bU8qQu28Et0kUsLq5yiJC/eTg5CoVvDnSpji61qDSL0k0v3WngPuJ7cvkXs9MnKUWiCRwa0E1eOOHhJ5gfilAoQc9Eq0hP/cVBJp3xKZVVH1yWscpByEROlr2xpqn5MkfaYgEMxxEBL5V7SllUMXc3q9ecUqyOJXKemrFwLBEochkaby2SiVwH8u8W1OPC9Ay7lF0s9fSeOzEWg2kwjgroJEAEKQCEAIEgEIQSIAIUgEIASJAIQgEYAQJAIQgkQAQpAIQAgSAQhBIgAhSAQgBIkAhCARgBAkum2+vhme/PZi+OA27zUmFo+Hh2ef3Y5vg+4Sfbl8PjzUgTFtbbF8Hk7Hax8PTy6Dr5L6gIftGwu+Ya1EyXOffnT7NWlMnr0ZvrhDnqZ8+H4K1xs+vrDXN8fb5nEa681w8azQv79v0m88Zt2eDxdf3cEDoK9EJthToj6cFQJXxQZ6FMcFeEyE3m7u64Axz9UqkY5JUEAmvvWCMvEOC7IpHzbup2fq3GJ8tRDP1XFV2DtKZKRYkbv0/LXX96ajRIkEGlMwjbNIknBNVBRiieJVbm1S4tkxfCbdrxq3k77Yt5/Jx9YqUUo6w8eYMY6F3paPsUD1GAsx8TmI+14iGGdl0jD9unhEY1Rk0lT6uC06SqQDlxaXDVIt6SFpksy2vt4HUyiRTlqarGbUvU+Da+Mk++f0SU4KPS1cUUEkfUe4FWU81pCPcGwliYKJbTeJkpW0QCkvqUTr7t2fDSSyyfTJai3eMVB+1tZBDAvO/Gz7tW1dIZqZTyBhRCRCWqzxM2fPL5Co+AzhKhcdW85HNLZMoljKXSTS91zKfRYfhbmXfybTdotXLzpLNCXLks6OdcbAhYkszY4Oe/6a4E7FFI+xhfha27aVqOl5g5VjMR9pbJPtVJp0ex5779OPeWxSqhKlY1voZ0u2/UxUKLAqUQFYZhMnmNH9qtYqkk50lNSNVyIrUEscw7HM58M8k5MsbfY1rHysfRyBrDPP2yRRKP8B0FGiPNl5MBSugLP9LvCTNEEiMlySm2fGlLm+c0zBjffyBdYmURwD94wrJGoXKI93Uz486cqUYK5dvRLZrbn7Nkm0IOLWdJVIYxOnC0W1UuCqEml8kdkWFnnUr2pp4OeJ+119vR+za6eX7SvRJJ1u+jx9fmtB5OM2zcfOFFdhf8BiPjwdJSpPPG5MQYsmnuhY2ySyFd0lArjrIBGAECQCEIJEAEKQCEAIEgEIQSIAIUgEIOTol1//M/z4r3+7TQBYy9Hvv/8+/PTTT24TANaCRABCkAhACBIBCEEiACFIBCBkI4neD8fn3w/fqfbg6trty3l3Yc8Z26vXQ/4tn6kv36I+P51Ex8J2/MmdM1wPL1+VzjkZ3rkzSvdJ29yzwP1hG4lMYZ8ML68eLYgRFrHi6+vhuCTIxXu3w3Jzpfr2X9Jy50zClHASRf1MYpWuvdFjT8cHoNhEIrPC6IJVUjw4fzQVvMOuQEsF6kRLBMrYWSKNu0dBdCSCGhtIZAvTFrUt3vg1aJ9yKEQSuf1IBCvoL5Ep6qn4zKoTFmmjHG2rlWIfK1FBaCSCGt0lGl/lPKbIg1e6ThLlLXyNLEnk9lXugURQo7NEdmaffX27zZXIyBW0wgrkQSKo0Vei6qqgmytI88sGtT1TwBpbxMuyrZJo4Z4hSAQ1ukqUff7xRIU+/xo10igbEsHWdJSo9CrnSV7pvCBpkSZ/J/KrUVr8+/k70TxIBDX6SWSKOf+bkCf/jFP4nFJaxUbhprbzv1hAItgDnX+xAHD3QSIAIUgEIASJAIQgEYAQJAIQgkQAQpAIQAgSAQhBIgAhSAQgBIkAhCARgBAkAhByZyV6+scw/PCP2wDoSFeJdCEfzbSeRb4viUrPcJ59yQnuM5utRNeqoHUBvnXbvem1Er39G5Eg5qAkSmf90rm+n7GpovZkx5K2F6mUPD+ovp7Ofv0c7hOHIZErzLDI/Ywfnu/7CFcBva9U0L1WIiSClIOQyAjzlzrHbXtSEWrnlegl0bm6f+sY4H5wEBLVCt4UbOl1raGI9ymRGYe+r2vF1RTuLbcvkXs9Cos0aoFEBvUaNXvc0e11zt2/S9/wTXLQK9ES/nNTSaRuEinWvFbC3ecgJEpf29ZQK2hJn0sgEYQchEStr0hajPR6veKUZPGr1L7/nuOfg9/OgecwJNJUPhulEhhpgjYnXvoLgdWvd6UxsQJBwmYSAdxVkAhACBIBCEEiACFIBCAEiQCEIBGAECQCEIJEAEKQCEAIEgEIQSIAIUgEIASJAIQgEYAQJAIQgkS3zdc3w5PfXgwf3Oa9xsTi8fDw7LPb8W3QXaIvl8+Hhzowpq0tls/D6Xjt4+HJZfA1Vx/wsH1jwTeslSh57tOPbn/Ch7Py8fl8zMTbE93/+XDx1e2fxfY7jeVmuHimrn/2Zvji9hgqEsVjXnPfbegr0ccX6oGnRJnEpoGrYgM9JtIFeEyE3m7u64Axz9UqkY5JUEAmvoWC0vufvRhOVfwiiWbzkcQ7K3xF7X6LxH0ZKVbkLj1/7fW96ShRmhSFKZjGJCQJ15ik+1lKLFE8665NSjw7hs+k+1XjdtIX+zbP5q/VrVWilEKhj/ts/KdjC/koxNs847gqJAKvIhhnZdLwK6du6QqYSVPp47boKJEOXFpcNkhx0svECQyK1gdTKJFOWpqsZtS9T4Nr4yT75/RJDgpIExbuuL0/iaaJJpVoIR9aopLsYbzVOC98HnRrjr8f57KIpbykEqW1cdtsIJFNpk9Wa/GOgfKztg5iWHDmZ5dM09YVoim25iJYIBIhLdb4mbPnF0iUPUPUV02iWj58oduz/fbYv8vDNHbXT1Mxu76i68tk8VGME+jYdotXLzpLZB96Skya2Dpj4MIiKc2WDnv+muBOxRSPsYX4Wtu2lSh/3jS26XZDPvyE5Z9Hb3tJSrGfyUeMvffpxzw2KVWJ0jpY6GdLtv1MVCiwKiZQcXGZYNZmPsGMbq8Ni2senegoqdG9+0tkBUri6J5hkiBoZqzr86HvM55fGudqidSPhbyGNEmUTRC3S0eJ8mTnwVD45GfJsIGfpAkSkWGD2vZqUWKu7xwj0Xgvd+9GieIYuGdcIVEa0zp5oTXlw5EfSyVMt+eI4zt33yaJFkTcmq4SaWzidKGoVgpcVSKNLzLb8oKYjrUl0xP3u/r6ZNY/vQxn6XmJJul00+fp81sLIh+3acXY5RJp6vkIx6VacUKK798eM3vdNBZ/rzBmU79p/2mu2yaR7eguEcBdB4kAhCARgBAkAhCCRABCkAhACBIBCEEiACFIBCAEiQCEIBGAECQCEIJEAEKQCEAIEgEI2Uii98Px+ffDd6o9uLp2+3LeXdhzxvbq9ZB/Y2Xqy7eoz08n0bGwHX9y5wzXw8tXpXNOhnfujNJ90jb3LHB/2EYiU9gnw8urRwtihEWs+Pp6OC4JcvHe7bDcXKm+/Ze03DmTMCWcRFE/k1ila2/02NPxASg2kcisMLpglRQPzh9NBe+wK9BSgTrREoEydpZI4+5REB2JoMYGEtnCtEVtizd+DdqnHAqRRG4/EsEK+ktkinoqPrPqhEXaKEfbaqXYx0pUEBqJoEZ3icZXOY8p8uCVrpNEeQtfI0sSuX2VeyAR1OgskZ3ZZ1/fbnMlMnIFrbACeZAIavSVqLoq6OYK0vyyQW3PFLDGFvGybKskWrhnCBJBja4SZZ9/PFGhz79GjTTKhkSwNR0lKr3KeZJXOi9IWqTJ34n8apQW/37+TjQPEkGNfhKZYs7/JuTJP+MUPqeUVrFRuKnt/C8WkAj2QOdfLADcfZAIQAgSAQhBIgAhR7/8+p/hx3/9220CwFqO/vzzz+Hnn392mwCwFiQCEIJEAEKQCEAIEgEIQSIAIUgEIASJAIQgEYCQOyvR0z+G4Yd/3AZAR7pKpAv5aKb1LPIeEr392439L/2NJADLZivRtSpoXYBv3XZv9i7RJycQEkHCQUmUrlylc30/Y1Orgyc7ljSJVOdKHH0vsxohEQQchkQ3qsCTIvevTuH5vo/z4Dvjet/Twv+nsM+VKBw7EkHKQUhUK8xUhDUFvDeJnOBeVCSClIOQqFbw/hXK4/toKeJ9SZRKg0SQcvsSuZneyFFqgUSG8AN+6bhjLxK5e4Wvj0gEKQe9Ei1hCroi0j4kKvWBRJByEBKlr21rqBW1pE9DuuKVGjKB4iAk8gW7tHJoMdLr9WpRksWvUuGr2D5gJYKUw5BIU/lslEpgpAnanHhmNWo8txUkgpTNJAK4qyARgBAkAhCCRABCkAhACBIBCEEiACFIBCAEiQCEIBGAECQCEIJEAEKQCEAIEgEIQSIAIUgEIASJbpuvb4Ynv70YPrjNe42JxePh4dlnt+PboLtEXy6fDw91YExbWSwfXwTXPh8uvrr9w81w8czvD1t4zjfCrhL5gnv2ZvjidnmimCfHP5z5WC0cU+30ozsQ4u9rWmu8Pw+nUX8uf+nYKxLFNbTmvtvQVyIjwVQgJkmFpJfRgZ+utYGcKbbkXt8MO0lki/D0TD1zSYRKjE0Mg2Pm3Nqsb8aVFKuJ8S4FHEuUjmOJ9Py11/emo0Q20U8ug/8koZSYVhau1QUR3WsRm9hxdluZFCu1vz4cl5Pfz6qlvqMVVrd1Eo1FpPsJ+9b3rD5HuhoozBhr99bnh8+l87lj7sJ7V+4ZroJpHjNpZse9PR0lSpNgA6mDVHxNWMIErpLEHYK6XroAdb/T4No4yf45/XiCAtKkz7F27OH1iURmHGdvolfd6RnTfGhK+xwlQdU4L8LJoypsio/BsoilvKQS2ec8nM9NG0jk3n9NEHctXtdHJXC79GlmvuYiWCASIS/McHzZWFdKFF2fFLp5pvDepu9JYHM8iGF2vo+zkySa7NzqOY19PicxVqL4+jJZfBRGGne9besmzN50lsg+9JQMG/goOQ2YZNcKPpyZVzFTMIvE19q2gUTp6lCQKC3AeN+UE/vMert2b/uM47XpvTWlfUXsfe395nNVeoZ0JbJC75LzPmz7mahQYEvooM7NPOa4dGlPZuwlzD3DpEYi5M8YFkZWJCsksrEoNz320mtOdr8Qfe8ZCaL+SuNcLZH60Qgwn89FiXacjHvRUSK/DE8FlQdD4Qq4lAxbNDMFZq7dx4wUJLkBM66xWP2q1CZRHAN739lnnCMt4jQec/FZjF0ak3RSLE2SNeK+inXgaJJoQcSt6SqRxoqkC0W1UuBqEvn9aUuLd6dVyBfv1NqKwZGM7fRSb7dJNEmnmz5Pn78niTSmwML+3X5FlIvsnuG4bMsnlThu7TGLJZruFcZs6jftPx63bnPyb093iQDuOkgEIASJAIQgEYAQJAIQgkQAQpAIQAgSAQhBIgAhSAQgBIkAhCARgBAkAhCCRABCkAhAyEYSvR+Oz78fvlPtwdW125fz7sKeM7ZXr4f8GytTX75FfX46iY6F7fiTO2e4Hl6+Kp1zMrxzZ5Tuk7a5Z4H7wzYSmcI+GV5ePVoQIyxixdfXw3FJkIv3bofl5kr17b+k5c6ZhCnhJIr6mcQqXXujx56OD0CxiURmhdEFq6R4cP5oKniHXYGWCtSJlgiUsbNEGnePguhIBDU2kMgWpi1qW7zxa9A+5VCIJHL7kQhW0F8iU9RT8ZlVJyzSRjnaVivFPlaigtBIBDW6SzS+ynlMkQevdJ0kylv4GlmSyO2r3AOJoEZniezMPvv6dpsrkZEraIUVyINEUKOvRNVVQTdXkOaXDWp7poA1toiXZVsl0cI9Q5AIanSVKPv844kKff41aqRRNiSCrekoUelVzpO80nlB0iJN/k7kV6O0+Pfzd6J5kAhq9JPIFHP+NyFP/hmn8DmltIqNwk1t53+xgESwBzr/YgHg7oNEAEKQCEAIEgEIQSIAIUgEIASJAIQgEYAQJAIQgkQAQpAIQAgSAQhBIgAhSAQg5M5K9PSPYfjhH7cB0JGuEulCPpppPYt8XxLVnuHp7Jf+4D6x2Up0rQpaF99bt92bfUrEigZzHJRE6axfOtf3M7a/3QFFdixpu8iARLDEYUh0owo1Kda3So70fN/HefCdcb2v9GrFSgRbcRASGWH+Uue4bU9awLXzSuxTIj3usPF5CEIOQqJawZ8rYYqvaw0i9VpB/BhYncBz+xK5VzkjR6kFEhnUKjB73NFLIo2Ru3FFhLvPQa9ES/jPTSWRekpU+rwG95eDkCh9bVtD7XOSpM8ltKC9+oZvj4OQyL+iLa0cWoz0+lpB+9Ui/E3ePjBy1p4D7iWHIZGm8tkolcBIE7Q58XzBt5xbpDQmViBIOPrl1/8MP/7r324TANZy9Pvvvw8//fST2wSAtSARgBAkAhCCRABCkAhACBIBCEEiACFIBCAEiQCEIBGAECQCEIJEAEKQCEAIEgEIQSIAIUh023x9Mzz57cXwwW3ea0wsHg8Pzz67Hd8G3SX6cvl8eKgDY9raYvk8nI7XPh6eXAZfc/UBD9s3FnzDWomS5z796PZr0pg8ezN8cYcMH19Mx3TL4hXHO8vXUv9VbL/TWG+Gi2eF633/ybjiGtLt+XDx1R08APpKZJI2JeLDWSFwVWygR3FcgMdE6O3mvg4Y81ytEumYBAVk4lsvKBPv6sSSxNdth1LG12sRwnul188RS2SkWJG79Py11/emo0SFIJuCaZxFEgE1UVLFEiWz7sq+4tkxfCbdrxq3k77Yd7oiNEuUks7wMWaMVYlsPKf8pJIk1xdkj6+fIxhnZdIwuXXxSPvMpKn0cVt0lChNig2kDlIt6SFpAYxF64MplKi9AAqoe58G18ZJ9s/pkxwUkMYUQBAXUUEkfUfkK0tMmh9fyG4sZlzh9ba/8TkXVsEYP07dx/w1pbykEqW1cdtsIJELvktIa/GOgfKztg5iWHAuyeaYaesK0RSMQMKISIRycfpnzp5fIFHxGcJVrvB842SkW6kQx+vLxT5dv2bMViJ93VLuS/URjXn1vfvTWSL70OlsVp8dJ8bAhYWgE1wpfHv+muBOcsdjbCG+1rZtJWp6XiNE/RzTRxDPSEon0zRW98xOPJ+ftrjZWjj9mMcmpSpRWgcL/WzJtp+JCgVWpVAAJpi1ZVwwo/tVrVWkqNg0G69EtoBb4rgQ7/De5ufk3DAHtXxUJrUYL5H6sdBPSJNEKybjLegoUZ7sYtBdAefJsIGfpAkSkRHPkuuZ6zvHSDTey69KvjDywg0LI46Be8aZokpJYzpHMd4B0XO4PIQxMMf99dnsvybmcXznxtUk0YKIW9NVIo1Nui6UICEhVYk0vshsCxMc9ataGvh54n5XX+/H7Nrppd5uk2iSTjd9nj6/tSDycZsWFXphvyONWSaA9PoqdtxT/koTT9Cva9HEEx1rm0S2ortEAHcdJAIQgkQAQpAIQAgSAQhBIgAhSAQgBIkAhCARgBAkAhCCRABCkAhACBIBCEEiACFIBCBkI4neD8fn3w/fqfbg6trty3l3Yc8Z26vXQ/4tn6kv36I+P51Ex8J2/MmdM1wPL1+VzjkZ3rkzSvdJ29yzwP1hG4lMYZ8ML68eLYgRFrHi6+vhuCTIxXu3w3Jzpfr2X9Jy50zClHASRf1MYpWuvdFjT8cHoNhEIrPC6IJVUjw4fzQVvMOuQEsF6kRLBMrYWSKNu0dBdCSCGhtIZAvTFrUt3vg1aJ9yKEQSuf1IBCvoL5Ep6qn4zKoTFmmjHG2rlWIfK1FBaCSCGt0lGl/lPKbIg1e6ThLlLXyNLEnk9lXugURQo7NEdmaffX27zZXIyBW0wgrkQSKo0Vei6qqgmytI88sGtT1TwBpbxMuyrZJo4Z4hSAQ1ukqUff7xRIU+/xo10igbEsHWdJSo9CrnSV7pvCBpkSZ/J/KrUVr8+/k70TxIBDX6SWSKOf+bkCf/jFP4nFJaxUbhprbzv1hAItgDnX+xAHD3QSIAIUgEIASJAIQgEYAQJAIQgkQAQpAIQAgSAQhBIgAhSAQgBIkAhCARgBAkAhByZyV6+scw/PCP2wDoSFeJdCEfzbSeRb5vid7+HY/96eyX/uA+sdlKdK0KWhffW7fdm71JdKP60eIoiQBKHJRE6cpVOtf3M7aguLNjSdtFqvO/1LUIBDMchkRutg+L3L8+hef7Ps6D74zrfaVXq72sRKrf9H4AKQchkRFGzfjpf2mSilA7r8Q+JBrH7GQaW+MY4H5wEBLVCj59lfJ9tBTxPiQaf5kQjEGj+0Yk8Ny+RP6De60lBexfsarHHfuUKBszr3kQcNAr0RK1lUKzD4mqY0YiCDgIiSS/Aat9TtrLb9Uqssw9C9w/DkIiX6xLK4cWI73efD4pyOJXKelqYWQMJXWvn9JVDu4OhyGRxhWnPidsqQRGmqDNFbMRoPHcOdJ++NcKELKZRAB3FSQCEIJEAEKQCEAIEgEIQSIAIUgEIASJAIQgEYAQJAIQgkQAQpAIQAgSAQhBIgAhSAQgBIkAhCDRbfP1zfDktxfDB7d5rzGxeDw8PPvsdnwbdJfoy+Xz4aEOjGlri+XzcDpe+3h4chl8zdUHPGzfWPANayVKnvv0o9uf8OFs7vjNcPFMH38+XHx1uwx+v2u1eH58MX88w+ZxGou7z7M3wxe3x1CRKK4h3dJx3y59JTLBngrEJDYNXBUb6FEcF+AxEXq7ua8DZpVEOiZBAZn4FgpK73/2YjhV8StJZIryTB1PrjX5GQvYFn40cRn0/ufD6ZnuYzeJzP1X5C49f+31vekoUSKBxhRM4yySCKiJkiyWKF7l1iYlnh3DZ9L9qnE76Yt9+5l8bCtWooi4OC1+n41/JtGYA31eMO5CbkrF6nNgju0ikblP/rx+5dQtFTcbR6WP26KjREmSXCB1kEqzY0qapLFofTB1IFcWfohOWj7LNqLufRpcGyfZP6dPclBAmrRYRQWR9K2YJpqSROHEluTHrF5BPEfRg7EFE9tuEiUraYFSXlKJ1t27PxtIZBPn5Wkt3jFQPpk6iGHBmZ9tv1myGzDFJpAwIhIhKU5F+MzZ8wskyp4h6qsgUSRKRaIxrrqf8Jy4v10k0nlayn2pPsy9xjz7sR0OR7/8+p/hx3/9223ukylwUyILia0wBi4skqgIYuz5a4I7yR2PsYX4Wtv8vbeRKH/eNLbpdjquZNtPVmGfwdhSadLteWwtnH7MY5NSlSitg4V+tuTozz//HH7++We3uU9sEuOALAdxxAQqLq7ZxAlmdHttu0jzK0D+jPuWyAqUxNE9Qyy2a3qsoySFpmNqrk/6HCet0qThW0s+vUTqx0JeQ5okyiaI26WjRHmy82AofPLT/S7wkzRBIjJckptnxpS5vnOMROO9fIG1SRTHwD3jComKAhVZKrR0nO45xrHZ7bSgPWYczfGO41usA0eTRAsibk1XiTQ26bpQwgQFVCXS+CKzLSyIqF/VaskuE/e7+vpk1j+91NttEk3S6abP0+e3FkQ+btOKsVsrkSYc23xMJBJN9wljNt03vX+a67ZJZDu6SwRw10EiACFIBCAEiQCEIBGAECQCEIJEAEKQCEAIEgEIQSIAIUgEIASJAIQgEYAQJAIQgkQAQjaS6P1wfP798J1qD66u3b6cdxf2nLG9ej3k32iZ+vIt6vPTSXQsbMef3DnD9fDyVemck+GdO6N0n7TNPQvcH7aRyBT2yfDy6tGCGGERK76+Ho5Lgly8dzssN1eqb/8lLXfOJEwJJ1HUzyRW6dobPfZ0fACKTSQyK4wuWCXFg/NHU8E77Aq0VKBOtESgjJ0l0rh7FERHIqixgUS2MG1R2+KNX4P2KYdCJJHbj0Swgv4SmaKeis+sOmGRNsrRtlop9rESFYRGIqjRXaLxVc5jijx4peskUd7C18iSRG5f5R5IBDU6S2Rn9tnXt9tciYxcQSusQB4kghp9JaquCrq5gjS/bFDbMwWssUW8LNsqiRbuGYJEUKOrRNnnH09U6POvUSONsiERbE1HiUqvcp7klc4LkhZp8ncivxqlxb+fvxPNg0RQo59Eppjzvwl58s84hc8ppVVsFG5qO/+LBSSCPdD5FwsAdx8kAhCCRABCkAhACBIBCEEiACFIBCAEiQCEIBGAECQCEIJEAEKQCEAIEgEIQSIAIXdWoqd/DMMP/7gNgI50lUgX8tFM61nk+5Do7d/lcft2nn3ZCe4jm61E16qgdeG9ddu96bkSGbn+0l/tAzgwidKVq3Su72dsqqA92bGk7UUqtfr8sK++4E5wGBIVCtO/SoXn+z7C1yi972nh/1PotRKVxgX3m4OQqPZ6lIqw5jWqi0SsQlDgICSqFfy5Eqb4utYgUg+JWIWgxO1L5GZ3I0epBRIZ1Kvb7HHH3iViFYIKB70SLeFXhpJI+5aIVQhqHIRE6WvbGmqfkyR9ZrAKwQwHIZF/RVsqUi1Ger1ecUqy+JVjH38QZRWCOQ5DIk3ls1EqgZEmaHPimdWo8dwqflz7WtXgzrGZRAB3FSQCEIJEAEKQCEAIEgEIQSIAIUgEIASJAIQgEYAQJAIQgkQAQpAIQAgSAQhBIgAhSAQgBIkAhCDRbfP1zfDktxfDB7d5rzGxeDw8PPvsdnwbdJfoy+Xz4aEOjGlri+XzcDpe+3h4cln6rvfNcPFMH38+XHx1u74l1krkC821049uf8KHs7njtZj5/a7Vivnji/njGTaP01jcfZ69Gb64PYaKRHEN6XZYue4rkQn2VCAmsWngqthAj+K4AKdFYQJ89kIl6T5IpGMSPKeJb+G59f5nKiYqfiWJajEz+RkL2BZ+PnHp/c+H0zPdx24Smfs310F+/trre9NRokQCjSmYxmJPBNTESVaM/dnErpPIJnac3VYmxSRyvD68t+5XjdvPqqW+/Uw+thUrUURcnBa/z8Y/k6gWs0JuSsXqc2CO7SKRuU/+vH7l1C0VNxtHpY/boqNESZJcIHWQSrNjSpqksWjHYIaSpvdaRictn2UbUUk8Da6Nk+yf0yc5KCBNWqyigkj6VkwTTUmimZiZ1Sso1FH0YGzBxLabRPr+83kq5SWVaN29+7OBRDZxXp7W4h0D5ZOpgxgWXJT0pCAaMMUWFo2ESIR8LOEzZ88vkCh7hqivgkRzMfPHTB9envCcuL9dJNJ5XMp9qT7Mvdz1tu0Wr150lsg+9JTIQmIrjIELi2QsgrRQ0+0WJrnjMbYQX2vbthLZ+ITXpbFNtxdi5iersM9gbKk0u0h0+nE5T1WJ0jpYne9+bPuZaE2xm0DFxTUmbkx4oTUnNsDNvq0iza8A+TPuWyIrUBJH9wzFmOixLsXMXJ/0qa8xz1maNHxryaeXSP1YyGtIk0TZBHG7dJQoT3YeDIVPfrrfBX6SIkhExgo5i8z1nWMkGsflC6xNojgG7hlXSFQUqMhSoaXjdM8xjs1upwXtMeNonrDi+BbrwNEk0YKIW9NVIo1Nui6UMEEBVYk0vshsay+IJeJ+dasVS5Fk1j+91NttEk3S6abP0+e3FkQ+btOKsVsrkSYc23xMJBJN9wljNt03vX9UQ6atyXV/uksEcNdBIgAhSAQgBIkAhCARgBAkAhCCRABCkAhACBIBCEEiACFIBCAEiQCEIBGAECQCEIJEAEI2kuj9cHz+/fCdag+urt2+nHcX9pyxvXo95N9omfryLerz00l0LGzHn9w5w/Xw8lXpnJPhnTujdJ+0zT0L3B+2kcgU9snw8urRghhhESu+vh6OS4JcvHc7LDdXqm//JS13ziRMCSdR1M8kVunaGz32dHwAik0kMiuMLlglxYPzR1PBO+wKtFSgTrREoIydJdK4exRERyKocfTLr/8ZfvzXv91mD2xh2qK2xRu/Bu1TDoVIIrcfiWAFR7///vvw008/uc0OmKKeis+sOmGRNsrRtlop9rESFYRGIqjRXaLxVc5jijx4peskUd7C18iSRG5f5R5IBDU6S2Rn9tnXt9tciYxcQSusQB4kghp9JaquCrq5gjS/bFDbMwWssUW8LNsqiRbuGYJEUKOrRNnnH09U6POvUSONsiERbE1HiUqvcp7klc4LkhZp8ncivxqlxb+fvxPNg0RQo59Eppjzvwl58s84hc8ppVVsFG5qO/+LBSSCPdD5FwsAdx8kAhCCRABCkAhACBIBCEEiACFIBCAEiQCEIBGAECQCEIJEAEKQCEAIEgEIQSIAIXdWoqd/DMMP/7gNgI50lUgX8tFM61nk+5To/K9k7Gq79FVDuJ9sthJdq4LWBfjWbfdmXxKZieBvt+Ew+xAJHAclUbpylc71/YwtKPDsWNJWS/XJXneefL126wkBDpvDkEgV6Q9Jkb9VcqTn+z7Cotb7nhb+P4W9rEROorR/MzZWInAchES1okxFWFO8e5FI4WX2ffntdHWC+8tBSFQrePOBXhWtx/fRItK+JDK4Fck3XuMg5PYlcq9yYZFGLZDIkBR0dtyx75XIv9L539TtTVD45jnolWgJX+AlkfYhkR9z8TOR2s8rHWgOQqL0tW0NpqALr3eSPj01WWpywf3kICTyr2hLK4cWI71erzglWfayWvhXx6R/c0/Vis8C947DkEhT+WyUSuAL2Lc58fznl5Zzq3iRwlZY+eD+splEAHcVJAIQgkQAQpAIQAgSAQhBIgAhSAQgBIkAhCARgBAkAhCCRABCkAhACBIBCEEiACFIBCAEiQCEINFt8/XN8OS3F8MHt3mvMbF4PDw8++x2fBt0l+jL5fPhoQ6MaWuL5fNwOl77eHhyWfqu981w8Uwffz5cfHW7viXWSuQLzbXTj25/woezueO1mPn9rtWK+eOL+eMZNo/TWNx9nr0Zvrg9hopEcQ3pdli57iuRCfZUICaxaeCq2ECP4rgAp0VhAnz2QiXpPkikYxI8p4lv4bn1/mcqJip+JYlqMTP5GQvYFn4+cen9z4fTM93HbhKZ+zfXQX7+2ut701GiRAKNKZjGYk8E1MRJVoz92cSuk8gmdpzdVibFJHK8Pry37leN28+qpb79TD62FStRRFycFr/Pxj+TqBazQm5KxepzYI7tIpG5T/68fuXULRU3G0elj9uio0RJklwgdZBKs2NKmqSxaMdghpKm91pGJy2fZRtRSTwNro2T7J/TJzkoIE1arKKCSPpWTBNNSaKZmJnVKyjUUfRgbMHEtptE+v7zeSrlJZVo3b37s4FENnFentbiHQPlk6mDGBZclPSkIBowxRYWjYRIhHws4TNnzy+QKHuGqK+CRHMx88dMH16e8Jy4v10k0nlcyn2pPsy93PW27RavXnSWyD70lMhCYiuMgQuLZCyCtFDT7RYmueMxthBfa9u2Etn4hNelsU23F2LmJ6uwz2BsqTS7SHT6cTlPVYnSOlid735s+5loTbGbQMXFNSZuTHihNSc2wM2+rSLNrwD5M+5bIitQEkf3DMWY6LEuxcxcn/SprzHPWZo0fGvJp5dI/VjIa0iTRNkEcbt0lChPdh4MhU9+ut8FfpIiSETGCjmLzPWdYyQax+ULrE2iOAbuGVdIVBSoyFKhpeN0zzGOzW6nBe0x42iesOL4FuvA0STRgohb01UijU26LpQwQQFViTS+yGxrL4gl4n51qxVLkWTWP73U220STdLpps/T57cWRD5u04qxWyuRJhzbfEwkEk33CWM23Te9f1RDpq3JdX+6SwRw10EiACFIBCAEiQCEIBGAECQCEIJEAEKQCEAIEgEIQSIAIUgEIASJAIQgEYAQJAIQgkQAQjaS6P1wfP798J1qD66u3b6cdxf2nLG9ej3k32iZ+vIt6vPTSXQsbMef3DnD9fDyVemck+GdO6N0n7TNPQvcH7aRyBT2yfDy6tGCGGERK76+Ho5Lgly8dzssN1eqb/8lLXfOJEwJJ1HUzyRW6dobPfZ0fACKTSQyK4wuWCXFg/NHU8E77Aq0VKBOtESgjJ0l0rh7FERHIqixgUS2MG1R2+KNX4P2KYdCJJHbj0Swgv4SmaKeis+sOmGRNsrRtlop9rESFYRGIqjRXaLxVc5jijx4peskUd7C18iSRG5f5R5IBDU6S2Rn9tnXt9tciYxcQSusQB4kghp9JaquCrq5gjS/bFDbMwWssUW8LNsqiRbuGYJEUKOrRNnnH09U6POvUSONsiERbE1HiUqvcp7klc4LkhZp8ncivxqlxb+fvxPNg0RQo59Eppjzvwl58s84hc8ppVVsFG5qO/+LBSSCPdD5FwsAdx8kAhCCRABCkAhACBIBCEEiACFIBCAEiQCEIBGAECQCEIJEAEKQCEAIEgEIQSIAIUe//Pqf4cd//dtt3h2e/jEMP/zjNgA6cvTnn38OP//8s9vcL7qQj2ZazyLfp0Tnf8XjPs++5AT3ma4ShVyrgtYF+NZt92ZfEpmJ4G+3oflkn+Pp7Ddn4T5xUBKlK1fpXN/P2IICz44lba1Ub1XfR2oVSr/gblamwn64nxyGROr16IekyE0BJ+f7PsLXKb2vtCrsYyUysoSrkGP2WeDecRAS1Wb8VITaeSX2IVHtfiWZ4f5yEBLVCj5dCXwfLSLtQyL/+Sfqx62aSASe25coKMpiS1+nXGFXjzv2IpEmvZ8S+G3tWeBectAr0RL+c1NJpL1JVGDNayXcfQ5CotoH+BZqBS3pcwktKL/iBs9BSFT87FFAi5Ferwu6JItfpfb6uaVxnHC/OAyJNJXPRqkERpqgzRW0WY0azy1SGFN1/HBv2UwigLsKEgEIQSIAIUgEIASJAIQgEYAQJAIQgkQAQpAIQAgSAQhBIgAhSAQgBIkAhCARgBAkAhCCRABCkOi2+fpmePLbi+GD27zXmFg8Hh6efXY7vg26S/Tl8vnwUAfGtLXF8nk4Ha99PDy5DL7m6gMetm8s+Ia1EiXPffrR7U/4cDZ3/Ga4eKaPPx8uvrpdBr/ftVo8P76YP55h8ziNxd3n2Zvhi9tjqEgU15Bu6bhvl74SmWBPBWISmwauig30KI4L8JgIvd3c1wGzSiIdk6CATHwLBaX3P3sxnKr4lSQyRXmmjifXmvyMBWwLP5q4DHr/8+H0TPexm0Tm/ityl56/9vredJQokUBjCqZxFkkE1ERJFksUr3JrkxLPjuEz6X7VuJ30xb79TD62FStRRFycFr/Pxj+TaMyBPi8YdyE3pWL1OTDHdpHI3Cd/Xr9y6paKm42j0sdt0VGiJEkukDpIpdkxJU3SWLQ+mDqQKws/RCctn2UbUfc+Da6Nk+yf0yc5KCBNWqyigkj6VkwTTUmicGJL8mNWryCeo+jB2IKJbTeJkpW0QCkvqUTr7t2fDSSyifPytBbvGCifTB3EsODMz7bfLNkNmGITSBgRiZAUpyJ85uz5BRJlzxD1VZAoEqUi0RhX3U94TtzfLhLpPC3lvlQf5l5jnv3YDofOEtmHnhJZSGyFMXBhkURFEGPPXxPcSe54jC3E19rm772NRPnzprFNt9NxJdt+sgr7DMaWSpNuz2Nr4fRjHpuUqkRpHSz0syXbfiYqFFgVE6i4uGYTJ5jR7bXtIs2vAPkz7lsiK1ASR/cMsdiu6bGOkhSajqm5PulznLRKk4ZvLfn0EqkfC3kNaZIomyBul44S5cnOg6HwyU/3u8BP0gSJyHBJbp4ZU+b6zjESjffyBdYmURwD94wrJCoKVGSp0NJxuucYx2a304L2mHE0xzuOb7EOHE0SLYi4NV0l0tik60IJExRQlUjji8y2sCCiflWrJbtM3O/q65NZ//RSb7dJNEmnmz5Pn99aEPm4TSvGbq1EmnBs8zGRSDTdJ4zZdN/0/mmu2yaR7eguEcBdB4kAhCARgBAkAhCCRABCkAhACBIBCEEiACFIBCAEiQCEIBGAECQCEIJEAEKQCEAIEgEI2Uii98Px+ffDd6o9uLp2+3LeXdhzxvbq9ZB/o2Xqy7eoz08n0bGwHX9y5wzXw8tXpXNOhnfujNJ90jb3LHB/2EYiU9gnw8urRwtihEWs+Pp6OC4JcvHe7bDcXKm+/Ze03DmTMCWcRFE/k1ila2/02NPxASg2kcisMLpglRQPzh9NBe+wK9BSgTrREoEydpZI4+5REB2JoMYGEtnCtEVtizd+DdqnHAqRRG4/EsEK+ktkinoqPrPqhEXaKEfbaqXYx0pUEBqJoEZ3icZXOY8p8uCVrpNEeQtfI0sSuX2VeyAR1OgskZ3ZZ1/fbnMlMnIFrbACeZAIavSVqLoq6OYK0vyyQW3PFLDGFvGybKskWrhnCBJBja4SZZ9/PFGhz79GjTTKhkSwNR0lKr3KeZJXOi9IWqTJ34n8apQW/37+TjQPEkGNfhKZYs7/JuTJP+MUPqeUVrFRuKnt/C8WkAj2QOdfLADcfZAIQAgSAQhBIgAhSAQgBIkAhCARgBAkAhCCRABCkAhACBIBCEEiACFIBCAEiQCE3FmJnv4xDD/84zYAOtJVIl3IRzOtZ5HvW6Lzv5bHnD7vefZlKLiLbLYSXavi04X11m33Zl8S+XGff1L91fpUsuhjR3+7bcVb9TMi3Q8OSqJ0Ji+d6/sZW1C42bGkrZZKiXOkViDzvVknSqkPI4w/L8CsXsH44G5yGBIVCtTP5OH546oQzO5639PC/6ew79e5OYmK99ICqv3VZ4Y7w0FIVJvJ0+KsnVdiM4nc/lDk8VmdSLzS3W0OQqJawaevQ76PFpFuS6JozEh0L7h9iVwRGjlKLZDIELwmFY87bkOi7J5IdC846JVoCf+5qSTSZhIp9L30ONLPZnPPDHeHg5BI8luszX4zNiPRZmOAg+QgJPKvPUsrhy7K9HqzChQK1a9Se3uVmpGodMzfn1Xo7nMYEmlcIepzwpZK4F+dfJsTz6wEjecWqYzJt2hshXMR6H6wmUQAdxUkAhCCRABCkAhACBIBCEEiACFIBCAEiQCEIBGAECQCEHL0y6//GX7817/dJgCs5ej3338ffvrpJ7cJAGtBIgAhSAQgBIkAhCARgBAkum2+vhme/PZi+OA27zUmFo+Hh2ef3Y5vg+4Sfbl8PjzUgTFtbbF8Hk7Hax8PTy6Tr7kaboaLZ/r48+Hiq9v1LbFWIl9orp1+dPsTPpwVjifXmhYUrL/Gt2LfUR+tMbd5nPpzOXv2Zvji9hgqEsU1tOa+29BXoo8v1ANPBWKSlAauig30KI4LcJpYE+CzFypJ90EiHZPgOU18C8+t9z9TMVHxyyRqjb8ZV9J37X6LxBKZnDXXQX7+2ut701GiRAJNKTE1EgE1RsJwlhr700lam9x4lVublHh2DO+t+1XjNmOr9G2ezV+r24qVKCKd4TV+n43/zhKZfsLnSgReRTBOE5f8ecNVMH3jyKSp9HFbdJQoTYINpA5SnPQyJnCBMGPRjsEMJU3vtYxOWvn1sAGVxNPg2jjJ/jl9koMC0pgCCMYqKoikb8U00QglMqtZXrgX4eTR2tc4zmURS3lJJUpr47bZQCKbTC9Pa/GOgfKztg5iWHBRkv29zEYTptiai2CBSIR8LOEzZ88vkCh7hqivikReANPS+0658vkacXmYxu7ObSpmK1F8fZlSfYwT6Nh2i1cvOktkH3pKRiGxFcbAhUUyipMW6nqJZgtmkfha27aVyMYnvC6N7XKs8z5C7PXjWNOVSVPaV8TWwunH5TxVJUrrYHW++7HtZ6I1xW4CFSfYBDNcnUptl2XezdCtIs2vAP0lssWfxDFbZYJWK/SFe4/x1pTOXS2R+rGQ15AmiRomiC3pKFGe7DwYCp/8LBk28JMUQSIyVshZZK7vHCPROC6b0NaVKI6Be8YVEqUxrbNUaG7c1UknjUk6Kabbc8R9FevA0STRgohb01UijU26LhTVSoGrSqTxRWZbvSDywp0n7le3tmJwJLP+6WU4S+djiQvDS6ebPk+f31oQ+bhNK8YulyjKhWrxM4fjsi2Pd3z/9pjZ61Ih44ln6jftPx33Ib3KabpLBHDXQSIAIUgEIASJAIQgEYAQJAIQgkQAQpAIQAgSAQhBIgAhSAQgBIkAhCARgBAkAhCCRABCNpLo/XB8/v3wnWoPrq7dvpx3F/acsb16PeTfWJn68i3q89NJdCxsx5/cOcP18PJV6ZyT4Z07o3SftM09C9wftpHIFPbJ8PLq0YIYYRErvr4ejkuCXLx3Oyw3V6pv/yUtd84kTAknUdTPJFbp2hs99nR8AIpNJDIrjC5YJcWD80dTwTvsCrRUoE60RKCMnSXSuHsUREciqLGBRLYwbVHb4o1fg/Yph0IkkduPRLCC/hKZop6Kz6w6YZE2ytG2Win2sRIVhEYiqNFdovFVzmOKPHil6yRR3sLXyJJEbl/lHkgENTpLZGf22de321yJjFxBK6xAHiSCGn0lqq4KurmCNL9sUNszBayxRbws2yqJFu4ZgkRQo6tE2ecfT1To869RI42yIRFsTUeJSq9ynuSVzguSFmnydyK/GqXFv5+/E82DRFCjn0SmmPO/CXnyzziFzymlVWwUbmo7/4sFJII90PkXCwB3HyQCEIJEAEKQCEAIEgEIQSIAIUgEIASJAIQgEYAQJAIQgkQAQpAIQAgSAQhBIgAhd1aip38Mww//uA2AjnSVSBfy0UzrWeT7luj8r4Yx36jj7tnOsy9CwV1ls5XoWhWfLq63brs3+5LIj/v8kxWk1qeRTLW3/nwkujcclETpylU61/cztr/dAUV2LGmrpVLiaDHM92bdKlPq460ag98/SodE94bDkKhQoLow0/NLBar3PS38fwp7/0w0I1EIEt0/DkIiI4yf8QNSEWrnlUAi2IqDkKhW8OZzRul1rUEkJIKtuH2JXHEaOUotkMigP6fMHXcgEWzFQa9ES/jPTSWRkAi24iAkSl/b1lD7nCTpswgSQYWDkMi/oi0VqBYjvV6vOCVZ/Cq1t2JGIqhwGBJpXJHqc8KWFqORJmhzRW1Wo8Zzi1TG5Jsfm3+2YiusknC32EwigLsKEgEIQSIAIUgEIASJAIQgEYAQJAIQgkQAQpAIQAgSAQhBIgAhSAQgBIkAhCARgBAkAhCCRABCkOi2+fpmePLbi+GD27zXmFg8Hh6efXY7vg26S/Tl8vnwUAfGtB2KZSGwH850v8+Hi69ux7fGSons807t9KM74Pn4Ijiex6WaDx/ntD17M3xxpyz1XefzcKqumcZ6M1w8S/rWVHIdj3ntvfvTVyIT9ClRpgDSwM1ggqfOv9DXZRK5xFzqwN8fiSLMtcGzJ9u2+IK+V+bDHB/jruM9XZv1PUsskc/r2jrw56+9vjcdJbKzzZPL4D9JSJM+hz7XJTBOpuXDmetnTZ8RNrHj7LYyKbaI/PXh/V2xmXFV+o5mdN1aizFF32u6dx6nsHjX5iPuO2NV3INxmOvy5zVjd/GIxqjIpKn0cVt0lChNgg2kDlL2CrJASaKRVcmc0H2myWpG3fM0uDZOsn9On+SggDTpeCUFoWUc72slmWLrXpnGolyXD/NMtZhrVsXdx0CPaf6aUl5SiRbHtjEbSDQlUydrl+LtJVG2QuxKJEJarPEzZ8+/WqIpnrEAk0Tm2dQxfZ+p4NbkI3+GGNdHcyFbifyY5iiNxzyDu962w1mFNJ0lsg9dSvQaTFHsWaJ6MbYQX2vbVhKF2HHY/qYxhf1P92vPRzrzp5h8rJqA7L1PP+axScnio8jGY16Hd8l5H7b9TFQosBZM0vYuUYDpo12krIgiEbaUKH61yeMUStKaD1/wbjPB3GP1eIM+k19upGTxUeRSl+W/LTpK5JfhKUnFGc4V8NzMlhdHwD4kWiiclHg8NqGtK1EcA3vf3V9PknG7X1jE21PfLfko5sixm0CaeJxL91iUaEHErekqkcYmTgdftVLgqhL5AkuaK96o37G1ypT3nSZuFj9m1+yv2dskmqTTTZ+nz28tiPBad+9UfCeSbXm/s/lwz1WcTJJnHlttcouIJSpPPEm/qkUTT3SsNc/b0F0igLsOEgEIQSIAIUgEIASJAIQgEYCQo19+/c/w47/+7TYBYC1Hf/755/Dzzz+7TQBYCxIBCEEiACFIBCAEiQCEIBGAECQCEIJEAEI2kuj9cHz+/fCdag+urt2+nHcX9pyxvXo95N/ymfryLerz00l0LGzHn9w5w/Xw8lXpnJPhnTujdJ+0zT0L3B+2kcgU9snw8urRghhhESu+vh6OS4JcvHc7LDdXqm//JS13ziRMCSdR1M8kVunaGz32dHwAik0kMiuMLlglxYPzR1PBO+wKtFSgTrREoIydJdK4exRERyKosYFEtjBtUdvijV+D9imHQiSR249EsIL+EpminorPrDphkTbK0bZaKfaxEhWERiKo0V2i8VXOY4o8eKXrJFHewtfIkkRuX+UeSAQ1OktkZ/bZ17fbXImMXEErrEAeJIIafSWqrgq6uYI0v2xQ2zMFrLFFvCzbKokW7hmCRFCjq0TZ5x9PVOjzr1EjjbIhEWxNR4lKr3Ke5JXOC5IWafJ3Ir8apcW/n78TzYNEUKOfRKaY878JefLPOIXPKaVVbBRuajv/iwUkgj3Q+RcLAHcfJAIQgkQAQpAIQAgSAQhBIgAhSAQgBIkAhCARgBAkAhCCRABCkAhACBIBCEEiACF3VqKnfwzDD/+4DYCOdJVIF/LRTOtZ5PuW6Pyv+TFfq/3R86nzS19HhLvHZiuRL7K3brs3+5LIj/v8k+qv0qc5J5HGTCCIdC84KInSlat0bjbj/+0OKLJjSVstlRJnFOGmLlGJUb7sq7lw1zgMiQoF+lbJkZ5fKky972nh/1PY9+scEkGNg5DICFN49UlFqJ1X4rYlKk0CcDc5CIlqBW8+zJde1xpEulWJ9GugHmcwdri73L5ErjhN0ZVaWoi+QGvHHbcmkR9f44oJ3z4HvRIt4V+ZSiLdikTBhMBr3P3hICRKX9vWUPucJOmzyJJECHRvOQiJ/CvQ0sqhxUiv1ytOSRa/Su3tt2NzEiHQveYwJNIEhRi2VAIjTdDmxPP/yqDl3CKVMfnmxza+VpZaYZWEu8VmEgHcVZAIQAgSAQhBIgAhSAQgBIkAhCARgBAkAhCCRABCkAhACBIBCEEiACFIBCAEiQCEIBGAECQCEIJEt83XN8OT314MH9zmvcbE4vHw8Oyz2/Ft0F2iL5fPh4c6MKatK5YPZ/46354PF1/dweFmuHgWHPvGAj+yRiJfZGl79mb4Yk74PJxWj1nSmJ5+dAcUca7y44ZoDGE+5rDjmvpyuUvGVpMoH1frfbehr0QfX6gHngrEJDAN3Az6/CyJDh3YJ5f+u+M2SdP2N8QaiQqYmI5Fp+NQ78sUY1igSX7imBYw5+9SwLFEZhwr6iA9f+31vekokZ1toqSYgmlPwpxEKXExtZDM2iuTYhI5Xh8+kyvkcMZO+zbF6K/VbVeJ9L0K93ZbKTpGeT5aJdL53HUFCCSqTBomfy4e6RgyaYQTz77pKFEpwTZIa8ToJVFWUGtQSTwNro2T7J/TJzkoII0pgCAugoIw942eWd9rpi8nrx2Le6UKrp+VyI3zQt/T5bF94vExWBaxlJdUovy5b5cNJHLJcslbU7xGDJ8w1arX7fCaYfpuLoIFIhH8c5sNQ/jM2fPvLFF+H1+sU8xKMZnOKRZreH1YqE7A6Zpcwjr1e6aU6iMb146TTi86S2QfelpNbOBbV5cY21+WBFOEu/Q5yR2PsYX4Wtu2lSidnYukk0u07fJT7SORRF+bnlvaV8Te6/RjHpuUqkThfdLnumW2/UxUKLA1lAswD/pqVoqoxxElNRJhC4l8UbrNKuFYavmo9xO9NpXGuVoi9aMRoP68TRK5Z1k38fWjo0R+GZ4Kqjh7ugJeTEY6+7jrxAIZWovSYiQaX2P8qtQmURwDe9+1ryfFOBYw4xzPS1YWzdyM7uI7xSSVsCRljTi+c+NvkmhBxK3pKpHGBMAUSpjQgKpEvsB8i4NmCiQ6rlulIDLSvlfK6Mfs2uml3m6TaJJON32ePn9FQWTFHWCKaxpX/nklfe5wnOG40mOe+Pr2mNnrUiHjiWfqN+0/qiHTWvO8Dd0lArjrIBGAECQCEIJEAEKQCEAIEgEIQSIAIUgEIASJAIQgEYAQJAIQgkQAQpAIQAgSAQhBIgAhG0n0fjg+/374TrUHV9duX867C3vO2F69HvJvrEx9+Rb1+ekkOha240/unOF6ePmqdM7J8M6dUbpP2uaeBe4P20hkCvtkeHn1aEGMsIgVX18PxyVBLt67HZabK9W3/5KWO2cSpoSTKOpnEqt07Y0eezo+AMUmEpkVRheskuLB+aOp4B12BVoqUCdaIlDGzhJp3D0KoiMR1NhAIluYtqht8cavQfuUQyGSyO1HIlhBf4lMUU/FZ1adsEgb5WhbrRT7WIkKQiMR1Ogu0fgq5zFFHrzSdZIob+FrZEkit69yDySCGp0lsjP77Ovbba5ERq6gFVYgDxJBjb4SVVcF3VxBml82qO2ZAtbYIl6WbZVEC/cMQSKo0VWi7POPJyr0+deokUbZkAi2pqNEpVc5T/JK5wVJizT5O5FfjdLi38/fieZBIqjRTyJTzPnfhDz5Z5zC55TSKjYKN7Wd/8UCEsEe6PyLBYC7DxIBCDn65df/DD/+699uEwDWwkoEIASJAIQgEYAQJAIQgkQAQpAIQAgSAQhBIgAhSAQgBIkAhCARgBAkAhCCRABCkAhACBIBCEEiABHD8H8A4ebTI/PlGR4AAAAASUVORK5CYII=)"
      ]
    }
  ]
}