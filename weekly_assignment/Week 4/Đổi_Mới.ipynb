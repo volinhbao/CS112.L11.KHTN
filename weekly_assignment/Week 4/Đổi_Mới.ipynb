{
  "nbformat": 4,
  "nbformat_minor": 0,
  "metadata": {
    "colab": {
      "name": "Đổi_Mới.ipynb",
      "provenance": [],
      "authorship_tag": "ABX9TyNqCUO04fZExTB3OwIn+njo",
      "include_colab_link": true
    },
    "kernelspec": {
      "name": "python3",
      "display_name": "Python 3"
    }
  },
  "cells": [
    {
      "cell_type": "markdown",
      "metadata": {
        "id": "view-in-github",
        "colab_type": "text"
      },
      "source": [
        "<a href=\"https://colab.research.google.com/github/volinhbao/CS112.L11.KHTN/blob/master/Week%204/%C4%90%E1%BB%95i_M%E1%BB%9Bi.ipynb\" target=\"_parent\"><img src=\"https://colab.research.google.com/assets/colab-badge.svg\" alt=\"Open In Colab\"/></a>"
      ]
    },
    {
      "cell_type": "markdown",
      "metadata": {
        "id": "o5dbBaeRGJGa"
      },
      "source": [
        "#**NHÓM 7**\n",
        "| STT |Họ và tên            | Description |Role|\n",
        "| ----| --------------------|------------ |----|\n",
        "| 1   | Nguyễn Quốc Cường   | 1852|Leader|\n",
        "| 2   | Nguyễn Trung Hiếu   | 1852|Member|\n",
        "| 3   | Võ Linh Bảo         | 18520503|Member|"
      ]
    },
    {
      "cell_type": "markdown",
      "metadata": {
        "id": "dyLS5QJKFv1X"
      },
      "source": [
        "#ĐỔI MỚI\n",
        "Thành phố quyết định chặt hạ hết n cây xanh hiện có trong thành phố để trồng chỉ một loại cây mới. Nhiệm vụ được giao cho Công ty Cây xanh thành phố. Do hạn chế về thiết bị Công ty chỉ tổ chức được 2 đội đốn hạ cây. Đội I hạ được a cây mỗi ngày, nhưng cứ mối ngày thứ k thì phải nghỉ để bảo dưỡng kỹ thuật, tức là đội I sẽ nghỉ vào các ngày $k$, $2k$, $3k$, . . . Đội II hạ được b cây mỗi ngày, nhưng cứ mỗi ngày thứ m thì phải nghỉ để bảo dưỡng kỹ thuật, tức là đội II sẽ nghỉ vào các ngày $m$, $2m$, $3m$, . . . Ở ngày nghỉ, số cây chặt hạ của đội sẽ là 0. Cả hai đội bắt đầu công việc vào cùng một ngày và làm việc song song với nhau.\n",
        "\n",
        "Công việc trồng cây mới sẽ bắt đầu sau khi toàn bộ cây cũ đã bị đốn hạ.\n",
        "\n",
        "Hãy xác định sau bao nhiêu ngày thì có thể bắt đầu việc trồng mới cây.\n",
        "\n",
        "Dữ liệu: Vào từ thiết bị nhập chuẩn gồm một dòng chứa 5 số nguyên $a, k, b, m$ và $n (1 ≤ a, b ≤ 109, 2 ≤ k, m ≤ 1018, 1 ≤ n ≤ 1018)$.\n",
        "\n",
        "Kết quả: Đưa ra thiết bị xuất chuẩn một số nguyên – số ngày tính được.\n",
        "\n",
        "## EXAMPLE\n",
        "![image.png](data:image/png;base64,iVBORw0KGgoAAAANSUhEUgAAAiUAAACWCAIAAACOzm9OAAAalklEQVR4Ae2cC3QUVZ7G6xxHZhZ1SRQGHBScyHQ3kAYa5JFkeGgMDgFRHisPR8AgMHERjCIkCAERA8iQgEIyQYYDgqLCEXGMqKPiA4UlSp/1+JhlZl0cnV2coyvumm7dcbf2VFen6Nx/knokqfrX7Y+To1VdXXXv/er7f7+u6lutqI3/6vEPCkABKAAFoED7KdCIl+T/FWO9vr4+rkbxBwW8VaC+vt7wZJosoPS8tRxa7yAFaC2DN0AsLwWoR6WnDnjTQXmHw3qrAK1l8IZX2nrrDw6tU4+CNxzOC/oABewqQGsZvAFveClAPQre2K1zvB8KcFCA1jJ4wyttObjE2z5Qj4I33p4RtA4FnClAaxm8AW94KUA9Ct44q3bsBQW8VYDWMnjDK2299QeH1qlHwRsO5wV9gAJ2FaC1DN6AN7wUoB4Fb+zWOd4PBTgoQGsZvOGVthxc4m0fqEfBG2/PCFqHAs4UoLUM3oA3vBSgHgVvnFU79oIC3ipAaxm84ZW23vqDQ+vUo+ANh/OCPkABuwrQWgZvwBteClCPgjd26xzvhwIcFKC1DN7wSlsOLvG2D9Sj4I23ZwStQwFnCtBaBm/AG14KUI+CN86qHXtBAW8VoLUM3vBKW2/9waF16lHwhsN5QR+ggF0FaC2DN+ANLwWoR8Ebu3WO90MBDgrQWgZveKUtB5d42wfqUfDG2zOC1qGAMwVoLYM34A0vBahHwRtn1Y69oIC3CtBaBm94pa23/uDQOvUoeMPhvKAPUMCuArSWwRvwhpcC1KPgjd06x/uhAAcFaC2nL29eLMsLhML0b9DIZfWqFsFfPzc7nHiD8Upcjf71wKxAKJzde2rtlyfjavSPO6c2OcLg4Tnjb1iw5v4XPvun5Pl+7+6coNbK2HsfNxzw9eG5+pEnPXworkafvWtYk4M07dVte183dkyHBepR8CYdzrs+xj8fr1hSdF3OsMHBAcNzr59x774DZxLFGFej36i/XTRAK6VB1654r/HF2Nebbk7US+TmjWcay7OlahpWXB1Xow3q7qWRAcZ7gtmRIXlXT5g9d8OBZFsx9bW9cwbpZb7rG63ME3s9s378wEAoPODKojo1GvvLmuv7NZMe+mEHDis52tjD9Dl3dKS0lsEb0TQGXQze9M0as/z4cV1NE940oqL/gKnb/vSutgt4Y7PwqEfBG1rJUr5yqm5uTv8m9RgMRsaXPaIjp4N4Y4AnEAoX3KO1Bd60l7toLacvb069UVFVXV5Zs2TOaO3DTt9AwbzK8qrq8s2PPfpJIiIN3gRC4asXPnI28WJLvJm44tePHqx8ZOeS+dcP0R2cV1yt7WKBN1pPtpdXbS+v3Hrr2MSHpn45M1YnXqmqXfvUn5Koay8TMD8O9Sh4w/yUtUv3YvGaBcO0SgwGI2MXFJctu2l04mrG+LRnhTdnT1dX1yZK6ZFzdX3bQ9orVdvLa149nHp90y9nRuX+ykefWLtu1TSdc/36FFaeftcSb/5n/54dycMun52jd/v6ZSuTDe1NZki7KOPfg9BaTl/e6Gcxpr5U8w+Ja+es6fu+S14765tSeRPud8sTiSvrZnkTDEZuP3gsecDP10/pq31GG5hbot2Xs8Abw08N3/9mTuLzXWT8mj/YvCwwDuL3BepR8Mbv59RK/z99cqZ+k3nMomr9gubTA7P0V3IXaR/drPDGaKiVujbupw28OnnnPK6eeLFstM6MogOvW+GN0VBcjZ7cODYQCocCw5ceeSf1dSzTWgZvTHjTN1Aw/ZacYDAya/fLLX1/k8qbhv99SGfGgBELtXu44I1NcFKPgjdpkFwn9G8xQ33yjNQ2Skn/OqQjeRM9lmBGIBSetRe8abcJRLSWwRsT3vTPmrjxuZIxgbB+zdH69c3Zhude3DhZ/1AWmVqh3ZcDb8AbM2DW19enAVFaSzHjcqR/1sStf0l88al9sX9gzRjtDlt21vR935/sMN6c+OTDjfPztYY02r3xDq5v2suN4I1oesPomqebu5/WP2vils8Prh8/sG+gYN0f3m2WN6lfOerLocDwoqe06yHwxq53qUfN4tr328GbBvWZ9b/QZn9l956aMiWsbvPE5Iu1X7Y/b2jZDhitzSsDb+zWbEvvp7WM6xvz65utZ07q854LVu76tPX50In5aaHBBb/67b7kPE5c3+D6xgyI4I3nvAkGI3kz7zj0mXZpBd60xA+7r4M3Tq5vtp45GfvmoTmDwuHBRbsem9Hs8zcTV/x6z9Nbn3px56sfvvB5asK+d/eYgDZ9oPnnb7bVpZ5CzBeIq1HqUbO49v128Ma4zeDm/bTk/LRntx5684n3v2p8YE7jzdHWnr8Jac/fpJYt5gukqpG6TGsZ1zeWrm9i6tH9i3ODwcik2eMpb1LnC6TKrS2fWqlPcR5TusvY9NfGJ0ln7Ujcc2u0L3gD3hgmSbOF5uYLNE7X1OcLNKi77xmqfcuSMq8sGmucDjp0/hb9iQVdNwNg9D55c/PTmvAjrp7Yv3Boapnrz3uuuTbRenjh7xsLVm8LvGnJq+CNYKxoK77U50NrH7jOaPOkz769SP+lgFQj6vfZWuFNw7eN09VGlxz9m3acBLq0yZehwPBFLydnUesnDLwBb1oqXelfN+ZDX70w+YCnMR9af5StQa3bPFn7OqdfcGLl6eScglNPJWdRF9x/7vc7ElXW4udIC7yJHltfoFfo3MeSnwi/+tfkDwrQZxXAm5bMCd6c480fX3lg3ZayiocXz0w87xkKjZn3YNm6LWVbdu1Ofd7T4I02WybxAccWbwyeaZ/Lxs5YeN/td9x8jT6BzXimxzhb4A14Y5gh3RZi35g876k96VJVqH/J33do4fzSRXeXTNCf0wz1ybvnzSYf3Yy6c3R9c+7DZahv3uRFxWXLby4YlvzhgwkV+4VTA94Ighir4M053lj8/TSDN3E1+kHNDbrdhd9Pa+X6Jq5GPz+5bGziSenU+TDBYOSmrQeME6MvgDfgjWCJtFo9dUj8PZtAKDw+8Rszug6x/95xxyjtppbwlzt7o/B8dBt5E1Nf2ntbrtCK9kEzr+hg4y+qGacGvDGkEBbAmzbxJvbl+ilhzeu2eKMh58ONy4snjM4ZrD3DHMkbM33WhqcPGT9EaJwk8Aa8McyQngva73XOui5ncOPvde5tnOdpfGXy1WPV5dMmjB6enR0OZkdyC6cuerjmX4ytjQtt5I1+R+5QzbyZhT/XG7pqZOGty+9/9YsmP0GinyPwpiWvgjfneNOSRnjdWwWoR30//8xsAJif5q3l0HoHKUBrOd3np3WQ0DisYwWoR83i2vfbwRvHbsGOnBWgtQze4IqHlwLUo77nidkAwBvOoYm+OVaA1jJ4wyttHZ9aaXakHjWLa99vB2+kcS8GkqoArWXwBrzhpQD1qO95YjYA8CY1pLAsjQK0lsEbXmkrjdUcD4R61Cyufb8dvHHsFuzIWQFay+ANeMNLAepR3/PEbADgDefQRN8cK0BrGbzhlbaOT600O1KPmsW177eDN9K4FwNJVYDWMngD3vBSgHrU9zwxGwB4kxpSWJZGAVrL4A2vtJXGao4HQj1qFte+3w7eOHYLduSsAK1l8Aa84aUA9ajveWI2APCGc2iib44VoLUM3vBKW8enVpodqUfN4tr328EbadyLgaQqQGsZvAFveClAPep7npgNALxJDSksS6MArWXwhlfaSmM1xwOhHjWLa99vB28cuwU7claA1jJ4A97wUoB61Pc8MRsAeMM5NNE3xwrQWgZveKWt41MrzY7Uo2Zx7fvt4I007sVAUhWgtQzegDe8FKAe9T1PzAYA3qSGFJalUYDWMnjDK22lsZrjgVCPmsW177eDN47dgh05K0BrGbwBb3gpQD3qe56YDQC84Rya6JtjBWgtgze80tbxqZVmR+pRs7j2/XbwRhr3YiCpCtBaBm/AG14KUI/6nidmAwBvUkMKy9IoQGsZvOGVttJYzfFAqEfN4tr328Ebx27BjpwVoLUM3oA3vBSgHvU9T8wGAN5wDk30zbECtJbBG15p6/jUSrMj9ahZXPt+O3gjjXsxkFQFaC2DN+ANLwWoR33PE7MBgDepIYVlaRSgtQze8EpbaazmeCDUo2Zx7fvt4I1jt2BHzgrQWgZvwBteClCP+p4nZgMAbziHJvrmWAFay+ANr7R1fGql2ZF61Cyufb8dvJHGvRhIqgK0lsEb8IaXAtSjvueJ2QDAm9SQwrI0CtBaBm94pa00VnM8EOpRs7j2/XbwxrFbsCNnBWgtgzfgDS8FqEd9zxOzAYA3nEMTfXOsAK1l8IZX2jo+tdLsSD1qFte+3w7eSONeDCRVAVrL4A14w0sB6lHf88RsAOBNakhhWRoFaC2DN7zSVhqrOR4I9ahZXPt+O3jj2C3YkbMCtJbBG/CGlwLUo77nidkAwBvOoYm+OVaA1jJ4wyttHZ9aaXakHjWLa99vB2+kcS8GkqoArWXwBrzhpQD1qO95YjYA8CY1pLAsjQK0lsEbXmkrjdUcD4R61Cyufb8dvHHsFuzIWQFay+ANeMNLAepR3/PEbADgDefQRN8cK0BrGbzhlbaOT600O1KPmsW177eDN9K4FwNJVYDWchPe1OMfFIACUAAKQIF2UkD4MNiEN6lowjIU8EQB+plIsKx8q7i+8cRpaLSjFaC1DN7gfhovBahH5QOMMCLwpqODD8f3RAFay+ANr7T1xBasGqUeFdJZvlXwhpUD0Zn2UoDWMngD3vBSgHpUPsAIIwJv2ivgcBxWCtBaBm94pS0ru3jSGepRIZ3lWwVvPHEaGu1oBWgtgzfgDS8FqEflA4wwIvCmo4MPx/dEAVrL4A2vtPXEFqwapR4V0lm+VfCGlQPRmfZSgNYyeAPe8FKAelQ+wAgjAm/aK+BwHFYK0FoGb3ilLSu7eNIZ6lEhneVbBW88cRoa7WgFaC2DN+ANLwWoR+UDjDAi8Kajgw/H90QBWsvgDa+09cQWrBqlHhXSWb5V8IaVA9GZ9lKA1jJ4A97wUoB6VD7ACCMCb9or4HAcVgrQWgZveKUtK7t40hnqUSGd5VsFbzxxGhrtaAVoLYM34A0vBahH5QOMMCLwpqODD8f3RAFay+ANr7T1xBasGqUeFdJZvlXwhpUD0Zn2UoDWMngD3vBSgHpUPsAIIwJv2ivgcBxWCtBaBm94pS0ru3jSGepRIZ3lWwVvPHEaGu1oBWgtgzfgDS8FqEflA4wwIvCmo4MPx/dEAVrL4A2vtPXEFqwapR4V0lm+VfCGlQPRmfZSgNYyeAPe8FKAelQ+wAgjAm/aK+BwHFYK0Fq2xJv/+KCyasWUwpHBXj0ylMyMHn2y82+Zu/O919oytuim0ZmK9i8rsvh91U7kfVy1euGEa3KCgd7dMjMzelwe+Pn109Y/e+grOweJqW8cqZ1z66Qh2f16du+akdm1W3BIzsyylW+fPWlrUFaUOb2zQB9pYrjJ/3RSus56+h1bbaXJm6lHhXSWb7Ul3sTUo3vmRQKhMP0LBYYvPQL/2MkNO/mQJrXW0cOktWyJN4fvvDI1K/XlC7oEbn/miLMex04vze/aST+OXd6c2VfYTHx37vaLir3WkdOg7ikNXUAH1TPrxse+tIEcK8qAN7ZMQj0qH2CEEYE3thyCN/tFAVrL1nizOHTF4FG/Wrfy8Rdr645sWjdvUPdEVF/Wq+hl+58aYmrd5rE/MbLeNm8ev3HAsFHTF89dtaW0cvtdS+cP7XXBeYqidFfG7fmbVVQ0qE+WjgxeM23S4rUllbVllQ/OnhTRx6SMWv6U9dN52IIyOm8yuo+Y/+DCVRsa/9aXHPz4XesNpc87qUeFdJZvtSXexNUT7z6/uqq63PirrP3HKUMHBELh7D5Ta+18MEof/2CkfBSgtWyJN2fOvJR66aCFdfhCRVEuUUY+bN/0H22/truiXDx8VH7g75zcTxMJd3zf7MsVRblYGfHAZ84TPPZJSd6FP1AUZcDN1dZPmBVldN5c1qvoqNhz3A1oRgHqUfkAI4yoZd4QfU6tHNtPu72WO3/LGdgJCvBWgNayJd4I+dugPnNfTldFUbop+Y/ErV5S6AeJfX5/YY9OXZTI8uj2kj6d28yb4x+/t65o4MWKovTs+UsHF1vJocWfe75iVPcLz+ukdL1h+wvCeK2vNquMzptOl/T8WfDHmZkZvbMjU0rvf6vBnm7W++D3d1KPCuks36pl3pw4ct+YQCgc6pO39LVjfj/R6L/0CtBadsKb/3y/+KqLtEuBwLgVH9sBbINaV3NDz/OVLiOX7vlC3dMm3rw+Xb+Npt+Xu2xgYdU/v233/DWodevzuxl39n6UecV192y2NSKhxWaVafb7m16hX9Z9DeSQz+9qlHpUPsAII7LIm4bvdywYpt1MG5hbgmtlofSwylABWsu2eRM7u604cT2RkTGi8pS9+1en9xT2uuC83j8rekWNNrQfb7r9dETxlhoHnEjlTafO3YZNbdOku5aUOb2zMJh77YJVJZWPllc+OPOafsnpDkPmVKfepWRoF0+6RD0qpLN8qxZ58+mBWeHEXLVJDx/y5NSgUShgSwFay/Z4E/tuR2luD0VRLuqcfedL9ianxb7cMLnnDy9Ssu88+la87bz589Z1axeuWj371nEhPb/7jVthb161GtVmRe++Y9UDty0tGXtV7x/q4yp5Veue3T/ryjT814aZvX+kKMqlyo377Tdkt2O+ez/1qHyAEUZkhTfavYHJAzFTwHd+TucO01q2wZvYd3tKR2uwuTDTNmziavTYA0MURflJ+MaK7WWVtWWbaubk99Ii/uKs/FW15W2YrHX88JJsRVE6K1fc/orzJxL0L5YURbkyb6ndSyW7yhxckKUoShclUvFv9i4Q08G71KNCOsu3aoU38VOlmCmQDv6XaYy0lq3yJvbdntX5lyqK8vddI6VH7F3Z6AoeuzdsfFMiLJyvdJm2+6hzod+aFeh83vlKl3GbnnF8kJj6cs3YH2vzDpSbfmfnssOBMud4Y/OGpOPR+WhH6lH5ACOMyAJvThxZmZwpcM+bmClg+/aDj/wvU1dpLVvijRGpGRkjVh91+LMC7cSb42e+eF04JR9Vaz9VcL7S5cZth4VNLa7Gfv/x/zVxbey7HcUBbb5cz0wb89wsKHP87LdN5gXEvt4840ptInh3ZRzup9ETRD0qpLN8q6a8afj+NwuGaDMFBo1cVm/nwxCVF69AAdcUoLVszhvtxnFhbyUR6AMn3bJq7ULjb3XFyldjTcLU+kiczRdITDjuETSe99x219J5eYEMbbJcFyWy6kOrt6e+fWHypT0C+TdNX7y2ZN220oqU5z2zp274d2slbUUZbZjZWXk3TV+2vnTb7vLKinPzBQbPw3yBJsjXzUM9Kh9ghBGZ8ubTJ2fqMwWmbauzXmJ4JxTwVgFay1Z4k5y4LNwEa+M3EG3gjfboj/DvfKVL3pIai5yIq9FvX5ic/DmBpge65PL8bZa/UzGG0PQY2prx3UxL7/npsKLnnKLaWw91dOvUo0I6y7faOm8a1LrN+kyB0PRdNn/fr6NPFo4PBVpRgNayz3gTV4+f/N2SxXPG5Eayel2Wof9eZ97ESaufPmBvbvFXj1atmDKpIBwO9Oye+YPk73UuWXnkCxuXay2xJJU3MfXl57fNmT5piNZQ14zMS3oG8kYVb9ryQdO7ea2cs3TbRD0qH2CEEbXOm/hHpWP6a78pkFdcjd8USLdy8PV4aS2b88bXA0bnfacA9aiQzvKtmvDG2t1d351odFh6BWgtgzfNfIUgvQ84D5B6VD7ACCMCbzgbEn1zrACtZfAGvOGlAPWokM7yrYI3jhMNO3JWgNYyeMMrbTm7x52+UY/KBxhhROCNO9ZCKy4rQGsZvAFveClAPSqks3yr4I3LOYjm3FGA1jJ4wytt3fEB51aoR+UDjDAi8IazIdE3xwrQWgZvwBteClCPCuks3yp44zjRsCNnBWgtgze80paze9zpG/WofIARRgTeuGMttOKyArSWwRvwhpcC1KNCOsu3Ct64nINozh0FaC2DN7zS1h0fcG6FelQ+wAgjAm84GxJ9c6wArWXwBrzhpQD1qJDO8q2CN44TDTtyVoDWMnjDK205u8edvlGPygcYYUTgjTvWQisuK0BrGbwBb3gpQD0qpLN8q+CNyzmI5txRgNYyeMMrbd3xAedWqEflA4wwIvCGsyHRN8cK0FoGb8AbXgpQjwrpLN8qeOM40bAjZwVoLYM3vNKWs3vc6Rv1qHyAEUYE3rhjLbTisgK0lsEb8IaXAtSjQjrLtwreuJyDaM4dBWgtgze80tYdH3BuhXpUPsAIIwJvOBsSfXOsAK1l8Aa84aUA9aiQzvKtgjeOEw07claA1jJ4wyttObvHnb5Rj8oHGGFE4I071kIrLitAaxm8AW94KUA9KqSzfKvgjcs5iObcUYDWMnjDK23d8QHnVqhH5QOMMCLwhrMh0TfHCtBaBm/AG14KUI8K6SzfKnjjONGwI2cFaC2DN7zSlrN73Okb9ah8gBFGBN64Yy204rICtJbBG/CGlwLUo0I6y7cK3ricg2jOHQVoLYM3vNLWHR9wboV6VD7ACCMCbzgbEn1zrACtZfAGvOGlAPWokM7yrYI3jhMNO3JWgNYyeMMrbTm7x52+UY/KBxhhROCNO9ZCKy4rQGsZvAFveClAPSqks3yr4I3LOYjm3FGA1jJ4wytt3fEB51aoR+UDjDAi8IazIdE3xwrQWgZvwBteClCPCuks3yp44zjRsCNnBWgtgze80paze9zpG/WofIARRgTeuGMttOKyArSWwRvwhpcC1KNCOsu3Ct64nINozh0FaC2DN7zS1h0fcG6FelQ+wAgjAm84GxJ9c6wArWXwBrzhpQD1qJDO8q2CN44TDTtyVoDWMnjDK205u8edvlGPygcYYUTgjTvWQisuK0BrGbwBb3gpQD0qpLN8q+CNyzmI5txRgNYyeMMrbd3xAedWqEflA4wwIvCGsyHRN8cK0FoGb8AbXgpQjwrpLN8qeOM40bAjZwVoLYM3vNKWs3vc6Rv1qHyAEUYE3rhjLbTisgK0lv8fPOR8tQk4jNgAAAAASUVORK5CYII=)"
      ]
    },
    {
      "cell_type": "markdown",
      "metadata": {
        "id": "Z4ahCCfHGeSp"
      },
      "source": [
        "##ABSTRACTION\n",
        "Dựa trên số cây chặt được mỗi ngày và ngày nghỉ của 2 đội, tính ra số ngày cần đợi để dọn sạch $n$ cây xanh"
      ]
    },
    {
      "cell_type": "markdown",
      "metadata": {
        "id": "41UZDsvdHFhO"
      },
      "source": [
        "## Pattern recognition\n",
        "Dựa trên dữ liệu bài toán, ta có thể quy bài toán về công thức đơn giản: $a*(day - floor(day/k)) + b*(day - floor(day/m)) >= n$\n"
      ]
    },
    {
      "cell_type": "markdown",
      "metadata": {
        "id": "ixaFCpg6HoQm"
      },
      "source": [
        "## Algorithm Design \n",
        "Ta có thể dùng công thức trên (bỏ đi operator floor) để giải ra biến $day$ một số gần đáp án, rồi kiểm tra 3 giá trị day+1, day-1, day"
      ]
    },
    {
      "cell_type": "code",
      "metadata": {
        "id": "o1bph6YlGac3",
        "outputId": "f0f23ef5-9fd5-46de-841b-80a94bdc1e90",
        "colab": {
          "base_uri": "https://localhost:8080/",
          "height": 53
        }
      },
      "source": [
        "a,k,b,m,n = map(int, input().split())\n",
        "def foo(res):\n",
        "    global a,k,b,m,n\n",
        "    return a*(res - res//k) + b*(res - res//m) >= n\n",
        "res = (n*k*m) // (a*m*(k-1) + b*k*(m-1))\n",
        "if foo(res-1):\n",
        "    print(res - 1)\n",
        "else:\n",
        "    if not foo(res):\n",
        "        print(res + 1)\n",
        "    else:\n",
        "        print((n*k*m) // (a*m*(k-1) + b*k*(m-1)))"
      ],
      "execution_count": 1,
      "outputs": [
        {
          "output_type": "stream",
          "text": [
            "2 4 3 3 25\n",
            "7\n"
          ],
          "name": "stdout"
        }
      ]
    }
  ]
}