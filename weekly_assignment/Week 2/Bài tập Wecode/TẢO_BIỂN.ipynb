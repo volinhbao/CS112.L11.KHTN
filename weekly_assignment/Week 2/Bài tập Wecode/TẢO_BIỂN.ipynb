{
  "nbformat": 4,
  "nbformat_minor": 0,
  "metadata": {
    "colab": {
      "name": "TẢO BIỂN.ipynb",
      "provenance": [],
      "authorship_tag": "ABX9TyPve/L+7lyVycm8pTOvkSGH",
      "include_colab_link": true
    },
    "kernelspec": {
      "name": "python3",
      "display_name": "Python 3"
    }
  },
  "cells": [
    {
      "cell_type": "markdown",
      "metadata": {
        "id": "view-in-github",
        "colab_type": "text"
      },
      "source": [
        "<a href=\"https://colab.research.google.com/github/volinhbao/CS112.L11.KHTN/blob/master/T%E1%BA%A2O_BI%E1%BB%82N.ipynb\" target=\"_parent\"><img src=\"https://colab.research.google.com/assets/colab-badge.svg\" alt=\"Open In Colab\"/></a>"
      ]
    },
    {
      "cell_type": "markdown",
      "metadata": {
        "id": "n8Cw_YZVfDwB",
        "colab_type": "text"
      },
      "source": [
        "#Giới thiệu\n",
        "###Lớp: CS112.L11.KHTN\n",
        "###Nhóm bao gồm 3 thành viên:\n",
        "* Nguyễn Quốc Cường\n",
        "* Nguyễn Trung Hiếu\n",
        "* Võ Linh Bảo"
      ]
    },
    {
      "cell_type": "markdown",
      "metadata": {
        "id": "RJ6YCBwf4ruw",
        "colab_type": "text"
      },
      "source": [
        "#Đề bài: TẢO BIỂN\n",
        "Tảo biển sinh sản rất nhanh khi có môi trường thuận lợi với chúng và có những loài còn tiết ra môi trường những chất độc hại.\n",
        "\n",
        "Một loại tảo nâu trong môi trường nước bị ô nhiễm nặng sinh sản theo quy luật sau:\n",
        "\n",
        "*   Ngày đầu tiên (ngày 0) có n cá thể ở mức 1\n",
        "*   Ở mỗi ngày tiếp theo, mỗi cá thể mức i sinh ra i cá thể mức 1, các cá thể mới sinh sẽ sinh sôi, phát triển từ ngày hôm sau\n",
        "* Bản thân các cá thể mức i phát triển thành mức i+1 và chu kỳ phát triển trong ngày chấm dứt\n",
        "\n",
        "Hãy xác định sau k ngày trong nước biển có bao nhiêu cá thể.\n",
        "\n",
        "##Dữ liệu: \n",
        "\n",
        "Vào từ thiết bị nhập chuẩn gồm một dòng chứa 2 số nguyên n và k (1 ≤ n ≤ 1000, 1 ≤ k ≤ 1018).\n",
        "\n",
        "##Kết quả: \n",
        "\n",
        "Đưa ra thiết bị xuất chuẩn một số nguyên – số lượng cá thể  tảo theo mô đun 109+7.\n",
        "\n",
        "## Ví dụ\n",
        ">INPUT | OUTPUT\n",
        ">--- | ---       \n",
        ">3 2   | 5"
      ]
    },
    {
      "cell_type": "markdown",
      "metadata": {
        "id": "2rQ-PZxT6E1Q",
        "colab_type": "text"
      },
      "source": [
        "#Abstraction\n",
        "Với n cá thể ban đầu và quy luật sinh sản theo từng ngày, với hệ số: 1 -> 2 -> 5 -> 13 -> 34 -> ..., xác định sau k ngày có bao nhiêu cá thể đang tồn tại.\n",
        "\n"
      ]
    },
    {
      "cell_type": "markdown",
      "metadata": {
        "id": "oUxSuFg050R4",
        "colab_type": "text"
      },
      "source": [
        "#Pattern Recognition & Decomposition\n",
        "Ta nhận thấy quy luật sinh sản thuộc chuỗi fibonacci với bước nhảy là 2\n",
        "> **1** 1 **2** 3 **5** 8 **13** 21 **34** 55\n",
        "\n",
        "Vậy số cá thể sau k ngày sẽ có dạng $n * Fib(2*k)$\n",
        "\n",
        "**Ta quy về bài toán tìm số Fibonacci thứ i để giải trước**\n",
        "Kết quả của bài toán sẽ là $n * Fib(2*k)$ "
      ]
    },
    {
      "cell_type": "markdown",
      "metadata": {
        "id": "zAZCtZ0t8krA",
        "colab_type": "text"
      },
      "source": [
        "#Algorithm Design\n",
        "\n",
        "## Bài toán tìm số Fibonacci thứ i\n",
        "### Hướng 1: Sử dụng đệ quy (độ phức tạp $O(n)$)\n",
        "\n",
        "Ta đặt 2 điều kiện dừng úng với n = 0 và n = 1. Tất cả giá trị n còn lại được tính bằng $Fibonacci(n-1)+Fibonacci(n-2) $"
      ]
    },
    {
      "cell_type": "code",
      "metadata": {
        "id": "yC7FhKwl4liZ",
        "colab_type": "code",
        "colab": {}
      },
      "source": [
        "def Fibonacci(n): \n",
        "    if n<0: \n",
        "        print(\"Incorrect input\") \n",
        "    # First Fibonacci number is 0 \n",
        "    elif n==0: \n",
        "        return 0\n",
        "    # Second Fibonacci number is 1 \n",
        "    elif n==1: \n",
        "        return 1\n",
        "    else: \n",
        "        return Fibonacci(n-1)+Fibonacci(n-2) "
      ],
      "execution_count": null,
      "outputs": []
    },
    {
      "cell_type": "markdown",
      "metadata": {
        "id": "46-Isz9YELqs",
        "colab_type": "text"
      },
      "source": [
        "### Hướng 2: Sử dụng tính chất ma trận $O(n)$, $O(log(n))$\n",
        "Để giải bài toán Fibonacci với runtime complexity tốt nhất ta phải thực hiện 2 công việc sau: **Nhân ma trận và sử dụng ma trận [[0 1], [1 1]]**\n",
        "#### Nhân ma trận\n",
        "\n",
        "Ta mô phỏng lại cách thức nhân 2 ma trận với ngôn ngữ lập trinh như sau:\n",
        "\n",
        "\n",
        "*   Với phép nhân 2 ma trận A (mxn) * B(nxk), ma trận kết quả thu được là C(mxk) với phần tử $c_{ij}$ là phép nhân vector hàng i của A và vector cột j của B.\n",
        "\n",
        "\n",
        "\n"
      ]
    },
    {
      "cell_type": "code",
      "metadata": {
        "id": "Abs1WitlcGX2",
        "colab_type": "code",
        "colab": {}
      },
      "source": [
        "def matrix_mul(x,y):\n",
        "\tret = []\n",
        "\tret.append([(x[0][0]*y[0][0]+x[0][1]*y[1][0])%modulo,\\\n",
        "\t\t\t\t(x[0][0]*y[0][1]+x[0][1]*y[1][1])%modulo])\n",
        "\tret.append([(x[1][0]*y[0][0]+x[1][1]*y[1][0])%modulo,\\\n",
        "\t\t\t\t(x[1][0]*y[0][1]+x[1][1]*y[1][1])%modulo])\n",
        "\treturn ret"
      ],
      "execution_count": null,
      "outputs": []
    },
    {
      "cell_type": "markdown",
      "metadata": {
        "id": "2nClVWRTF5pO",
        "colab_type": "text"
      },
      "source": [
        "> 0 1\n",
        "> ---\n",
        "> 1 1\n",
        "> ---\n",
        "Lợi dụng sự đặc biệt của ma trận trên, khi lấy mũ của ma trận trên cho ra kết quả như sau\n",
        "> $F(n-1)$,  $F(n)$\n",
        "> ---\n",
        "> $F(n)$,  $F(n+1)$\n",
        "> ---\n",
        "\n",
        "Thuật toán trên có độ phức tạp $O(n)$. **Tuy nhiên có thể tối ưu toán tử power (lấy mũ) với đệ quy quay lui với điều kiền chẵn lẻ. Thuât toán cải tiến có độ phức tạp $O(log(n))$.**"
      ]
    },
    {
      "cell_type": "code",
      "metadata": {
        "id": "cdQOTi3dH_UV",
        "colab_type": "code",
        "colab": {}
      },
      "source": [
        "#PSEUDO-CODE\n",
        "coef = [[0 , 1],\n",
        "        [1, 1]]\n",
        "\n",
        "# Phép lấy mũ ma trận coef\n",
        "matrix_power(x):\n",
        "  if x = 1\n",
        "    return coef\n",
        "  tmp = matrix_fib( floor(x/2) ) \n",
        "  if x odd\n",
        "    return (tmp x tmp) x coef\n",
        "  elif x even\n",
        "    return tmp x tmp\n",
        "\n",
        "# Trích xuất số Fibonacci thứ n từ ma trận được trả về\n",
        "\n",
        "Fib(n) = matrix_power(n)[1][0] + matrix_power(n)[1][1]\n"
      ],
      "execution_count": null,
      "outputs": []
    },
    {
      "cell_type": "markdown",
      "metadata": {
        "id": "u8BQBEngcLoT",
        "colab_type": "text"
      },
      "source": [
        "#Tóm tắt quá trình\n",
        "\n",
        "**Bước 1**: Nhận ra bài toán có dạng $n * Fibonacci(2 * k)$ với k là ngày đang xét\n",
        "\n",
        "**Bước 2**: Ta giải bài toán tìm số Fibonacci thứ i với độ phức tạp $O(log(n))$ như sau:\n",
        "\n",
        "* Mô phỏng lại phép nhân 2 ma trận\n",
        "* Thực hiện lấy mũ ma trận [[0 1],[1 1]] với đệ quy quay lui kết hợp điều kiện chẵn lẻ\n",
        "\n",
        "**Bước 3**: Xuất kết quả $n * Fibonacci(2 * k)$\n",
        "\n",
        "Python Code cho thuật toán:\n"
      ]
    },
    {
      "cell_type": "code",
      "metadata": {
        "id": "BBlimJg5djgk",
        "colab_type": "code",
        "colab": {
          "base_uri": "https://localhost:8080/",
          "height": 51
        },
        "outputId": "ef230c78-02fa-43d9-e53f-a6edc6fc1f98"
      },
      "source": [
        "n,k = input().split()[:2]\n",
        "n = int(n)\n",
        "k = int(k)\n",
        "modulo = 10**9+7\n",
        "\n",
        "coef = [[0,1],[1,1]]\n",
        "k *= 2\n",
        "\n",
        "def matrix_mul(x,y):\n",
        "\tret = []\n",
        "\tret.append([(x[0][0]*y[0][0]+x[0][1]*y[1][0])%modulo,\\\n",
        "\t\t\t\t(x[0][0]*y[0][1]+x[0][1]*y[1][1])%modulo])\n",
        "\tret.append([(x[1][0]*y[0][0]+x[1][1]*y[1][0])%modulo,\\\n",
        "\t\t\t\t(x[1][0]*y[0][1]+x[1][1]*y[1][1])%modulo])\n",
        "\treturn ret\n",
        "\n",
        "def matrix_pw(x):\n",
        "\tif x == 1:\n",
        "\t\treturn coef\n",
        "\ttmp = matrix_pw(x//2)\n",
        "\tif x%2==1:\n",
        "\t\treturn matrix_mul(matrix_mul(tmp,tmp),coef)\n",
        "\telse:\n",
        "\t\treturn matrix_mul(tmp,tmp)\n",
        "\n",
        "bf = matrix_pw(k-1)\n",
        "bf = bf[1][0] + bf[1][1]\n",
        "\n",
        "print((bf*n)%modulo)"
      ],
      "execution_count": null,
      "outputs": [
        {
          "output_type": "stream",
          "text": [
            "3 2\n",
            "15\n"
          ],
          "name": "stdout"
        }
      ]
    }
  ]
}