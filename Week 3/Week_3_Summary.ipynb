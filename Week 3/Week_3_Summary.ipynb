{
  "nbformat": 4,
  "nbformat_minor": 0,
  "metadata": {
    "colab": {
      "name": "Week 3 - Summary.ipynb",
      "provenance": [],
      "authorship_tag": "ABX9TyODFTRK2EChzsYtMBmrcA24",
      "include_colab_link": true
    },
    "kernelspec": {
      "name": "python3",
      "display_name": "Python 3"
    }
  },
  "cells": [
    {
      "cell_type": "markdown",
      "metadata": {
        "id": "view-in-github",
        "colab_type": "text"
      },
      "source": [
        "<a href=\"https://colab.research.google.com/github/volinhbao/CS112.L11.KHTN/blob/master/Week%203/Week_3_Summary.ipynb\" target=\"_parent\"><img src=\"https://colab.research.google.com/assets/colab-badge.svg\" alt=\"Open In Colab\"/></a>"
      ]
    },
    {
      "cell_type": "markdown",
      "metadata": {
        "id": "IPFVEVS4DcEB"
      },
      "source": [
        "# Tóm tắt tuần 3 (23-09-2020)\n",
        "## TÓM TẮT\n",
        "- Tiếp tục giải các bài tập\n",
        "- Thông báo về seminar: mỗi nhóm có 90 phút, bắt đầu lúc 7h45 (thầy Duy yêu cầu lúc 9h)\n",
        "- Các nhóm giải được bài *Đếm sao* lần lượt lên trình bày cách làm của mình, các nhóm còn lại lắng nghe, đặt câu hỏi, sau đó có 10 phút để giải\n",
        "\n",
        "## GHI CHÚ\n",
        "- Khi seminar phải làm cho các bạn hiểu được, làm được\n",
        "- Chọn 3 bài toán để trình bày, 3 bài để các bạn luyện tập\n",
        "- Phải trình bày bài toán theo computational thinking\n",
        "\n",
        "## THẢO LUẬN\n",
        "- Kỹ thuật làm bài H_index: sort, chặt nhị phân\n",
        "- Tìm hiểu tại sao code bài Water_supply bị sai 3 test nhỏ và Runtime error\n",
        "- Phân chia công việc cho buổi seminar"
      ]
    }
  ]
}