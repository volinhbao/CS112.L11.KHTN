{
  "nbformat": 4,
  "nbformat_minor": 0,
  "metadata": {
    "colab": {
      "name": "H_index.ipynb",
      "provenance": [],
      "authorship_tag": "ABX9TyOXv4GV7bRjOaQGUpEcvzVE",
      "include_colab_link": true
    },
    "kernelspec": {
      "name": "python3",
      "display_name": "Python 3"
    }
  },
  "cells": [
    {
      "cell_type": "markdown",
      "metadata": {
        "id": "view-in-github",
        "colab_type": "text"
      },
      "source": [
        "<a href=\"https://colab.research.google.com/github/volinhbao/CS112.L11.KHTN/blob/master/Week%203/H_index/H_index.ipynb\" target=\"_parent\"><img src=\"https://colab.research.google.com/assets/colab-badge.svg\" alt=\"Open In Colab\"/></a>"
      ]
    },
    {
      "cell_type": "code",
      "metadata": {
        "id": "0RBgmNjuOqLE"
      },
      "source": [
        ""
      ],
      "execution_count": null,
      "outputs": []
    },
    {
      "cell_type": "markdown",
      "metadata": {
        "id": "cGmt3OV9PZeg"
      },
      "source": [
        "#**NHÓM 7**\n",
        "| STT |Họ và tên            | Description |Role|\n",
        "| ----| --------------------|------------ |----|\n",
        "| 1   | Nguyễn Quốc Cường   | 1852|Leader|\n",
        "| 2   | Nguyễn Trung Hiếu   | 1852|Member|\n",
        "| 3   | Võ Linh Bảo         | 18520503|Member|"
      ]
    },
    {
      "cell_type": "markdown",
      "metadata": {
        "id": "GteHGFnvVlND"
      },
      "source": [
        "# **ĐỀ BÀI**\n",
        "Làm thế nào để đánh giá sự thành công của một nhà khoa học?  Dựa vào số bài báo được công bố hay dựa vào số lần một bài báo được trích dẫn tới ở công trình của những người khác? Cả hai tham số đó đều quan trọng.\n",
        "\n",
        "Một bài báo có điểm số trích dẫn là **c** nếu nó được trích dẫn tới **c** lần trong các công trình của những nhà khoa học khác. Một trong số các cách đánh giá sự thành công của một nhà khoa học là tính chỉ số ảnh hưởng **H_Index** dựa trên sự kết hợp giữa số lượng bài báo và chỉ số trích dẫn của các bài báo đó.\n",
        "\n",
        "Chỉ số **H_Index** của một nhà khoa học bằng **k** lớn nhất nếu người đó có **k** bài báo, mỗi bài có điểm số trích dẫn không nhỏ hơn **k**. Ví dụ, một người có 10 bài báo, mỗi bài báo được trích dẫn không dưới 10 lần thì **H_Index** của người đó ít nhất là bằng 10.\n",
        "\n",
        "Một người có **n** bài báo, bài báo thứ **$i$** có điểm trích dẫn là $ci, i = 1 ÷ n$. Hãy xác định **H_Index** của người đó.\n",
        "\n",
        "***Dữ liệu:*** Vào từ thiết bị nhập chuẩn:\n",
        "\n",
        "- Dòng đầu tiên chứa một số nguyên **n**, $(1 ≤ n ≤ 5×105)$\n",
        "- Dòng thứ hai chứa **n** số nguyên $c1, c2, . . ., cn (0 ≤ ci ≤ 106, i = 1 ÷ n)$\n",
        "\n",
        "***Kết quả:*** Đưa ra thiết bị xuất chuẩn một số nguyên – **H_Index** tìm được.\n",
        "\n",
        "| INPUT | OUTPUT |\n",
        "| - | - |\n",
        "| 5 | 4 |\n",
        "| 8 5 3 4 10 | |"
      ]
    },
    {
      "cell_type": "markdown",
      "metadata": {
        "id": "_zuhsHgUV_Tz"
      },
      "source": [
        "## **1. Abstraction**\n"
      ]
    }
  ]
}