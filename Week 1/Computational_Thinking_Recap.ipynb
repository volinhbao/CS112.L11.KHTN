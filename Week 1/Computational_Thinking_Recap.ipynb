{
  "nbformat": 4,
  "nbformat_minor": 0,
  "metadata": {
    "colab": {
      "name": "Computational Thinking_Recap.ipynb",
      "provenance": [],
      "collapsed_sections": [],
      "toc_visible": true,
      "authorship_tag": "ABX9TyNPgWBk5uyWMPJC4RHYnADl",
      "include_colab_link": true
    },
    "kernelspec": {
      "name": "python3",
      "display_name": "Python 3"
    }
  },
  "cells": [
    {
      "cell_type": "markdown",
      "metadata": {
        "id": "view-in-github",
        "colab_type": "text"
      },
      "source": [
        "<a href=\"https://colab.research.google.com/github/volinhbao/CS112.L11.KHTN/blob/master/Week%201/Computational_Thinking_Recap.ipynb\" target=\"_parent\"><img src=\"https://colab.research.google.com/assets/colab-badge.svg\" alt=\"Open In Colab\"/></a>"
      ]
    },
    {
      "cell_type": "markdown",
      "metadata": {
        "id": "RUq3hgxp8z49",
        "colab_type": "text"
      },
      "source": [
        "# **Computational Thinking Recap**\n",
        "---"
      ]
    },
    {
      "cell_type": "markdown",
      "metadata": {
        "id": "fI92MvIF9HBD",
        "colab_type": "text"
      },
      "source": [
        "Computational Thinking is a set of **problem-solving** methods that problems and solutions are expressed in ways which are **comprehensive** for human and **executable** for computers [1].\n",
        "\n",
        "---\n",
        "\n"
      ]
    },
    {
      "cell_type": "markdown",
      "metadata": {
        "id": "HTcJgOB7CjTs",
        "colab_type": "text"
      },
      "source": [
        "## **Pillars of Computational Thinking**\n",
        "1. Decomposition\n",
        "2. Pattern Recognition\n",
        "3. Abstraction\n",
        "4. Algorithms"
      ]
    },
    {
      "cell_type": "markdown",
      "metadata": {
        "id": "u1vHPvMBDVTB",
        "colab_type": "text"
      },
      "source": [
        "### **Decompostition**\n",
        "Decomposition is the action of breaking a difficult, complicated problem into simple, manageable components."
      ]
    },
    {
      "cell_type": "markdown",
      "metadata": {
        "id": "npoxYfIIh1g8",
        "colab_type": "text"
      },
      "source": [
        "### **Pattern Recognition**\n",
        "When the problem is decomposed, we can find patterns, i.e., similarities or shared characteristics among the subproblems. Recognizing patterns help solve the whole problem easier, since the same solution can be applied for every occurence of the pattern."
      ]
    },
    {
      "cell_type": "markdown",
      "metadata": {
        "id": "LSMEP_GMhy9X",
        "colab_type": "text"
      },
      "source": [
        "### **Abstraction**\n",
        "In this step, we focus on important details and ignore ones that is not. It helps to create a representation that works for many problems."
      ]
    },
    {
      "cell_type": "markdown",
      "metadata": {
        "id": "QGDlbsjah8jA",
        "colab_type": "text"
      },
      "source": [
        "### **Algorithms**\n",
        "An algorithm is a set of ordered instructions that is able solve the problem after executing"
      ]
    },
    {
      "cell_type": "markdown",
      "metadata": {
        "id": "gvi8MmzsfmBF",
        "colab_type": "text"
      },
      "source": [
        "## **Computational Thinking in real life**\n",
        "###**Đặt vấn đề:** \n",
        "Mua được nguyên liệu làm bánh trung thu sao cho cân bằng giữa chất lượng và giá thành của bánh.\n",
        "\n",
        "### **Abstraction**\n",
        "Mua nguyên liệu làm bánh trung thu sao cho hiệu quả\n",
        "\n",
        "### **Decomposition**\n",
        "Ta cần hoàn thành các tác vụ sau:\n",
        "- **Task 1:** Lập list các cửa hàng có bán nguyên liệu làm bánh trung thu\n",
        "- **Task 2:** Đặt ra ngưỡng tiền tối đa có thể chi cho từng loại nguyên liệu, loại bỏ các cửa hàng không có nguồn gốc rõ ràng\n",
        "- **Task 3:** So sánh giá tiền từng loại nguyên liệu của các cửa hàng, cho ra cửa hàng có nguyên liệu có chất lượng tốt nhất nhưng thõa ngưỡng tiền tối đa có thể chi.\n",
        "-\t**Task 4:** Tổng hợp lại và đi mua nguyên liệu\n",
        "### **Pattern recognition**\n",
        "- **Task 1:** có thể hoàn thành bằng việc truy vấn Internet\n",
        "- **Task 2:** dựa vào kinh nghiệm mua bán\n",
        "- **Task 3:** dựa vào tính toán\n",
        "- **Task 4:** dựa vào phương tiện đi lại\n",
        "\n",
        "### **Algorithms**\n",
        "- **Step 1:** Lên Internet ghi chép lại thông tin (địa chỉ, công ty sản xuất, giấy phép kinh doanh) tất cả cửa hàng trong thành phố có bánh nguyên liệu làm bánh Trung Thu\n",
        "- **Step 2:** Loại bỏ những cửa hàng quá xa (>15km), những cửa hàng không rõ công ty sản xuất hay không có giấy phép kinh doanh\n",
        "- **Step 3:** Với từng loại nguyên liệu, dựa vào kinh nghiệm mua bán và làm bánh, đặt ra số tiền tối đa có thể chi cho nguyên liệu đó\n",
        "- **Step 4:** Với từng loại nguyên liệu, tìm kiếm tất cả cửa hàng có bán nó, chọn ra loại có chất lượng tốt nhất và thõa số tiền đã đặt\n",
        "- **Step 5:** Đi mua nguyên liệu.\n",
        "\n"
      ]
    }
  ]
}