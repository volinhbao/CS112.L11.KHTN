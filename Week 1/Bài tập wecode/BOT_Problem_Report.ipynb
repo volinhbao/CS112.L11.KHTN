{
  "nbformat": 4,
  "nbformat_minor": 0,
  "metadata": {
    "colab": {
      "name": "BOT Problem Report.ipynb",
      "provenance": [],
      "collapsed_sections": []
    },
    "kernelspec": {
      "name": "python3",
      "display_name": "Python 3"
    }
  },
  "cells": [
    {
      "cell_type": "markdown",
      "metadata": {
        "id": "7-I5V-5KfUak",
        "colab_type": "text"
      },
      "source": [
        "# Đề bài\n",
        "BOT (Built-Operation-Transfer, có nghĩa: Xây dựng-Vận hành-Chuyển giao) là hình thức Chính phủ kêu\n",
        "gọi các công ty bỏ vốn xây dựng trước (Built) thông qua đấu thầu, sau đó khai thác vận hành một thời\n",
        "gian (Operation) và sau cùng là chuyển giao (Transfer) lại cho nhà nước sở tại.\n",
        "Đường cao tốc xuyên quốc gia được xây dựng theo hình thức BOT. Công ty Đa quốc gia Modern Highway\n",
        "trúng thầu, chia toàn bộ con đường thành n đoạn. Theo tính toán của Công ty sau khi chuyển giao con\n",
        "đường cho chính phủ sở tại quản lý thì lãi thu được ở đoạn đường thứ $i$ là $a_i$, ai có thể dương, âm hoặc\n",
        "bằng 0, tức là với từng đoạn con có thể lãi, lỗ hoặc hòa vốn. Từng nhóm các đoạn đường liên tiếp nhau\n",
        "(gọi tắt là khoảng) được chia cho các công ty con thực hiện. Công ty con ASEAM Highway hiện đang có\n",
        "trụ sở ở nước sở tại được quyền chọn trước khoảng tùy ý (có thể là cả con đường).  \n",
        "Dĩ nhiên Ban Giám đốc ASEAM Highway muốn chọn khoảng bắt đầu từ đoạn $p$ đến hết đoạn q mang lại\n",
        "lợi nhuận cao nhất hoặc lỗ ít nhất nếu không có khoảng nào cho lãi.  \n",
        "Hãy chỉ ra khoảng cần chọn và lãi thu được. Nếu có nhiều cách chọn thì chỉ ra cách chọn có p nhỏ nhất.  \n",
        "Dữ liệu: Vào từ thiết bị nhập chuẩn:  \n",
        "- Dòng đầu tiên chứa số nguyên $n (1 ≤ n ≤ 106)$,  \n",
        "- Dòng thứ 2 chứa n số nguyên $a_1, a_2, . . ., a_n$ $(0 ≤ |a_i| ≤ 109, i = 1 ÷ n)$.  \n",
        "Kết quả: Đưa ra thiết bị xuất chuẩn trên một dòng 2 số nguyên p, q và lãi thu được."
      ]
    },
    {
      "cell_type": "markdown",
      "metadata": {
        "id": "G5F60kVbfwGT",
        "colab_type": "text"
      },
      "source": [
        "#Abstraction:\n",
        "Tìm đoạn con liên tiếp có tổng lớn nhất từ 1 dãy n số nguyên $a_1,a_2,...,a_n$  "
      ]
    },
    {
      "cell_type": "markdown",
      "metadata": {
        "id": "KlfgLTvugo7p",
        "colab_type": "text"
      },
      "source": [
        "# Pattern recognition\n",
        "*Tính tổng tiến tố*  \n",
        "*Toán*"
      ]
    },
    {
      "cell_type": "markdown",
      "metadata": {
        "id": "gUzhvZC1hBIX",
        "colab_type": "text"
      },
      "source": [
        "# Algorithm design\n",
        "## Input\n",
        "1. Số nguyên n chỉ độ dài dãy\n",
        "2. Dãy số nguyên $a_1,a_2,...,a_n$\n",
        "\n"
      ]
    },
    {
      "cell_type": "markdown",
      "metadata": {
        "id": "yGFco7a8ttg1",
        "colab_type": "text"
      },
      "source": [
        "## Output:\n",
        "1. Chỉ số bắt đầu, chỉ số kết thúc của dãy tìm được\n",
        "2. Tổng dãy tìm được"
      ]
    },
    {
      "cell_type": "markdown",
      "metadata": {
        "id": "ugdlWmUNtuix",
        "colab_type": "text"
      },
      "source": [
        "## Đánh giá:\n",
        "Thuật toán có độ phức tạp O(n)\n",
        "```\n",
        "// Đọc input\n",
        "input -> n\n",
        "for i <- 1 to n\n",
        "    input -> a[i]\n",
        "\n",
        "res <- -oo     //Tổng đoạn con liên tiếp nhỏ nhất\n",
        "p <- 1\n",
        "q <- 0   //Lưu chỉ số bắt đầu và kết thúc\n",
        "sum <- 0     //Lưu tổng tiền tố từ 1 đến i\n",
        "min_sum <- oo //Lưu giá trị nhỏ nhất trong các tổng tiền tố từ 1 đến i\n",
        "\n",
        "// Duyệt từ 1 đến n. Tại bước i cập nhật sum thành tổng từ a[i] đến a[i], cập nhật tổng dãy con lớn nhất với sum - min_sum\n",
        "for i <- 1 to n\n",
        "    sum += a[i]\n",
        "    if res < sum - min_sum\n",
        "        res <- sum - min_sum\n",
        "        q <- i\n",
        "    if sum < min_sum\n",
        "        min_sum <- sum\n",
        "        p <- i + 1\n",
        "\n",
        "// Xuất kết quả\n",
        "output <- p,q,res\n",
        "```"
      ]
    }
  ]
}