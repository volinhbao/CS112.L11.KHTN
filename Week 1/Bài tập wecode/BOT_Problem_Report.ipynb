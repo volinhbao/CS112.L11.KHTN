{
 "cells": [
  {
   "cell_type": "markdown",
   "metadata": {
    "colab_type": "text",
    "id": "7-I5V-5KfUak"
   },
   "source": [
    "# Đề bài\n",
    "BOT (Built-Operation-Transfer, có nghĩa: Xây dựng-Vận hành-Chuyển giao) là hình thức Chính phủ kêu\n",
    "gọi các công ty bỏ vốn xây dựng trước (Built) thông qua đấu thầu, sau đó khai thác vận hành một thời\n",
    "gian (Operation) và sau cùng là chuyển giao (Transfer) lại cho nhà nước sở tại.\n",
    "Đường cao tốc xuyên quốc gia được xây dựng theo hình thức BOT. Công ty Đa quốc gia Modern Highway\n",
    "trúng thầu, chia toàn bộ con đường thành n đoạn. Theo tính toán của Công ty sau khi chuyển giao con\n",
    "đường cho chính phủ sở tại quản lý thì lãi thu được ở đoạn đường thứ $i$ là $a_i$, ai có thể dương, âm hoặc\n",
    "bằng 0, tức là với từng đoạn con có thể lãi, lỗ hoặc hòa vốn. Từng nhóm các đoạn đường liên tiếp nhau\n",
    "(gọi tắt là khoảng) được chia cho các công ty con thực hiện. Công ty con ASEAM Highway hiện đang có\n",
    "trụ sở ở nước sở tại được quyền chọn trước khoảng tùy ý (có thể là cả con đường).  \n",
    "Dĩ nhiên Ban Giám đốc ASEAM Highway muốn chọn khoảng bắt đầu từ đoạn $p$ đến hết đoạn q mang lại\n",
    "lợi nhuận cao nhất hoặc lỗ ít nhất nếu không có khoảng nào cho lãi.  \n",
    "Hãy chỉ ra khoảng cần chọn và lãi thu được. Nếu có nhiều cách chọn thì chỉ ra cách chọn có p nhỏ nhất.  \n",
    "Dữ liệu: Vào từ thiết bị nhập chuẩn:  \n",
    "- Dòng đầu tiên chứa số nguyên $n (1 ≤ n ≤ 106)$,  \n",
    "- Dòng thứ 2 chứa n số nguyên $a_1, a_2, . . ., a_n$ $(0 ≤ |a_i| ≤ 109, i = 1 ÷ n)$.  \n",
    "Kết quả: Đưa ra thiết bị xuất chuẩn trên một dòng 2 số nguyên p, q và lãi thu được."
   ]
  },
  {
   "cell_type": "markdown",
   "metadata": {
    "colab_type": "text",
    "id": "G5F60kVbfwGT"
   },
   "source": [
    "#Abstraction:\n",
    "Tìm đoạn con liên tiếp có tổng lớn nhất từ 1 dãy n số nguyên $a_1,a_2,...,a_n$  "
   ]
  },
  {
   "cell_type": "markdown",
   "metadata": {
    "colab_type": "text",
    "id": "KlfgLTvugo7p"
   },
   "source": [
    "# Pattern recognition\n",
    "*Tính tổng tiến tố*  \n",
    "*Toán*"
   ]
  },
  {
   "cell_type": "markdown",
   "metadata": {
    "colab_type": "text",
    "id": "gUzhvZC1hBIX"
   },
   "source": [
    "# Algorithm design\n",
    "## Input:\n",
    "   1. Số nguyên n chỉ độ dài dãy  \n",
    "   2. Dãy số nguyên a[1],a[2],...,a[n]  \n",
    "## Output  \n",
    "   1. Chỉ số bắt đầu và kết thúc của chuỗi tìm được\n",
    "   2. Tổng của dãy tìm được\n",
    "```\n",
    "// Đọc input\n",
    "input -> n\n",
    "for i <- 1 to n\n",
    "    input -> a[i]\n",
    "\n",
    "res <- -oo     //Tổng đoạn con liên tiếp nhỏ nhất\n",
    "p <- 1\n",
    "q <- 0   //Lưu chỉ số bắt đầu và kết thúc\n",
    "sum <- 0     //Lưu tổng tiền tố từ 1 đến i\n",
    "min_sum <- oo //Lưu giá trị nhỏ nhất trong các tổng tiền tố từ 1 đến i\n",
    "\n",
    "// Duyệt từ 1 đến n. Tại bước i cập nhật sum thành tổng từ a[i] đến a[i], cập nhật tổng dãy con lớn nhất với sum - min_sum\n",
    "for i <- 1 to n\n",
    "    sum += a[i]\n",
    "    if res < sum - min_sum\n",
    "        res <- sum - min_sum\n",
    "        q <- i\n",
    "    if sum < min_sum\n",
    "        min_sum <- sum\n",
    "        p <- i + 1\n",
    "\n",
    "// Xuất kết quả\n",
    "output <- p,q,res\n",
    "```\n",
    "## Đánh giá:\n",
    "   Thuật toán "
   ]
  },
  {
   "cell_type": "code",
   "execution_count": null,
   "metadata": {},
   "outputs": [],
   "source": []
  }
 ],
 "metadata": {
  "colab": {
   "collapsed_sections": [],
   "name": "BOT Problem Report.ipynb",
   "provenance": []
  },
  "kernelspec": {
   "display_name": "Python 3",
   "language": "python",
   "name": "python3"
  },
  "language_info": {
   "codemirror_mode": {
    "name": "ipython",
    "version": 3
   },
   "file_extension": ".py",
   "mimetype": "text/x-python",
   "name": "python",
   "nbconvert_exporter": "python",
   "pygments_lexer": "ipython3",
   "version": "3.7.3"
  }
 },
 "nbformat": 4,
 "nbformat_minor": 1
}
