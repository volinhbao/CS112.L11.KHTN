{
  "nbformat": 4,
  "nbformat_minor": 0,
  "metadata": {
    "colab": {
      "name": "BOT Problem Report.ipynb",
      "provenance": [],
      "collapsed_sections": [],
      "include_colab_link": true
    },
    "kernelspec": {
      "name": "python3",
      "display_name": "Python 3"
    }
  },
  "cells": [
    {
      "cell_type": "markdown",
      "metadata": {
        "id": "view-in-github",
        "colab_type": "text"
      },
      "source": [
        "<a href=\"https://colab.research.google.com/github/volinhbao/CS112.L11.KHTN/blob/master/Week%201/B%C3%A0i%20t%E1%BA%ADp%20wecode/BOT_Problem_Report.ipynb\" target=\"_parent\"><img src=\"https://colab.research.google.com/assets/colab-badge.svg\" alt=\"Open In Colab\"/></a>"
      ]
    },
    {
      "cell_type": "markdown",
      "metadata": {
        "id": "7-I5V-5KfUak",
        "colab_type": "text"
      },
      "source": [
        "# Đề bài\n",
        "BOT (Built-Operation-Transfer, có nghĩa: Xây dựng-Vận hành-Chuyển giao) là hình thức Chính phủ kêu\n",
        "gọi các công ty bỏ vốn xây dựng trước (Built) thông qua đấu thầu, sau đó khai thác vận hành một thời\n",
        "gian (Operation) và sau cùng là chuyển giao (Transfer) lại cho nhà nước sở tại.\n",
        "Đường cao tốc xuyên quốc gia được xây dựng theo hình thức BOT. Công ty Đa quốc gia Modern Highway\n",
        "trúng thầu, chia toàn bộ con đường thành n đoạn. Theo tính toán của Công ty sau khi chuyển giao con\n",
        "đường cho chính phủ sở tại quản lý thì lãi thu được ở đoạn đường thứ $i$ là $a_i$, ai có thể dương, âm hoặc\n",
        "bằng 0, tức là với từng đoạn con có thể lãi, lỗ hoặc hòa vốn. Từng nhóm các đoạn đường liên tiếp nhau\n",
        "(gọi tắt là khoảng) được chia cho các công ty con thực hiện. Công ty con ASEAM Highway hiện đang có\n",
        "trụ sở ở nước sở tại được quyền chọn trước khoảng tùy ý (có thể là cả con đường).  \n",
        "Dĩ nhiên Ban Giám đốc ASEAM Highway muốn chọn khoảng bắt đầu từ đoạn $p$ đến hết đoạn q mang lại\n",
        "lợi nhuận cao nhất hoặc lỗ ít nhất nếu không có khoảng nào cho lãi.  \n",
        "Hãy chỉ ra khoảng cần chọn và lãi thu được. Nếu có nhiều cách chọn thì chỉ ra cách chọn có p nhỏ nhất.  \n",
        "Dữ liệu: Vào từ thiết bị nhập chuẩn:  \n",
        "- Dòng đầu tiên chứa số nguyên $n (1 ≤ n ≤ 10^6)$,  \n",
        "- Dòng thứ 2 chứa n số nguyên $a_1, a_2, . . ., a_n$ $(0 ≤ |a_i| ≤ 10^9, i = 1 ÷ n)$.  \n",
        "Kết quả: Đưa ra thiết bị xuất chuẩn trên một dòng 2 số nguyên p, q và lãi thu được."
      ]
    },
    {
      "cell_type": "markdown",
      "metadata": {
        "id": "G5F60kVbfwGT",
        "colab_type": "text"
      },
      "source": [
        "#Abstraction:\n",
        "Tìm đoạn con liên tiếp có tổng lớn nhất từ 1 dãy n số nguyên $a_1,a_2,...,a_n$\n",
        "\n",
        "**Chú thích:**  \n",
        "- Dãy con là 1 dãy với các phần tử thuộc dãy ban đầu, theo đúng thứ tự của dãy ban đầu\n",
        "- Dãy con liên tiếp của 1 dãy $a_1,a_2,...,a_n$ là 1 dãy $a_p,a_{p+1},...,a_q$  "
      ]
    },
    {
      "cell_type": "markdown",
      "metadata": {
        "id": "u-gw3haOMxeT",
        "colab_type": "text"
      },
      "source": [
        "**Ví dụ:** Với dãy $1,2,3$, các dãy $1; 2; 3; 1,2; 2,3; 1,2,3$ là các dãy con liên tiếp. Dãy con $1,3$ không phải là dãy con liên tiếp\n",
        "## Input\n",
        "1. Số nguyên n chỉ độ dài dãy\n",
        "2. Dãy số nguyên $a_1,a_2,...,a_n$  \n",
        "\n",
        "## Output:\n",
        "1. Chỉ số bắt đầu, chỉ số kết thúc của dãy tìm được\n",
        "2. Tổng dãy tìm được"
      ]
    },
    {
      "cell_type": "markdown",
      "metadata": {
        "id": "KlfgLTvugo7p",
        "colab_type": "text"
      },
      "source": [
        "# Pattern recognition\n",
        "Bài toán liên quan việc tìm tổng dãy con nên ta nhận định đây là bài toán dạng *tổng tiền tố*  \n",
        "## Thuật toán 1: Bruteforce  \n",
        "### Ý tưởng:\n",
        "Duyệt từng cặp chỉ số $p,q$ với $1 ≤ p ≤ q ≤ n$  \n",
        "1. Tính tổng đoạn con bằng cách duyệt từng phần tử trong đoạn $[p,q]$\n",
        "2. Cập nhật kết quả nếu tổng tìm được lớn hơn kết quả hiện tại   \n",
        "\n",
        "### Độ phức tạp: O($n^3$)"
      ]
    },
    {
      "cell_type": "code",
      "metadata": {
        "id": "OKSeirp0tuFa",
        "colab_type": "code",
        "colab": {
          "base_uri": "https://localhost:8080/",
          "height": 153
        },
        "outputId": "1d70dd77-74b0-4e34-b89b-441b66da3824"
      },
      "source": [
        "def _input():\n",
        "  print('Nhap n')\n",
        "  a = [0]\n",
        "  n = int(input())\n",
        "  print(\"Nhap day so nguyen\")\n",
        "  for i in range(n):\n",
        "    x = int(input())\n",
        "    a.append(x)\n",
        "  return n,a\n",
        "\n",
        "n,a = _input()\n",
        "\n",
        "# Duyệt tưng cặp p,q\n",
        "start_index = 0\n",
        "end_index = 0\n",
        "max_sum = -10000000009\n",
        "for p in range(1,n+1):\n",
        "  for q in range(p,n+1):\n",
        "    sum = 0 # biến lưu giá trị tổng dãy con\n",
        "    for i in range(p,q+1):\n",
        "      sum += a[i]\n",
        "      # Cập nhật kết quả nếu chuỗi tìm được có tổng lớn hơn giá trị hiện tại\n",
        "      if sum > max_sum:\n",
        "        max_sum = sum\n",
        "        start_index = p\n",
        "        end_index = q\n",
        "\n",
        "print(max_sum,start_index,end_index)\n"
      ],
      "execution_count": 3,
      "outputs": [
        {
          "output_type": "stream",
          "text": [
            "Nhap n\n",
            "4\n",
            "Nhap day so nguyen\n",
            "-1\n",
            "2\n",
            "3\n",
            "-1\n",
            "5 2 3\n"
          ],
          "name": "stdout"
        }
      ]
    },
    {
      "cell_type": "markdown",
      "metadata": {
        "id": "39u8Suc0wM0n",
        "colab_type": "text"
      },
      "source": [
        "## Thuật toán 2: Duyệt kết hợp tổng tiền tố  \n",
        "### Ý tưởng:\n",
        "1. Tính mảng tổng tiền tố prefix[$1...n$]\n",
        "2. Duyệt từng cặp chỉ số $p,q$ với $1 ≤ p ≤ q ≤ n$  \n",
        "    - Tính tổng đoạn con bằng cách dùng công thức $sum(p,q) = prefix[q]-prefix[p-1]$\n",
        "    - Cập nhật kết quả nếu tổng tìm được lớn hơn kết quả hiện tại   \n",
        "\n",
        "### Độ phức tạp: O($n^2$)"
      ]
    },
    {
      "cell_type": "code",
      "metadata": {
        "id": "zdOuq4xXwf3V",
        "colab_type": "code",
        "colab": {
          "base_uri": "https://localhost:8080/",
          "height": 153
        },
        "outputId": "49d08054-5213-4403-c188-b92c47f8a170"
      },
      "source": [
        "def _input():\n",
        "  print('Nhap n')\n",
        "  a = [0]\n",
        "  n = int(input())\n",
        "  print(\"Nhap day so nguyen\")\n",
        "  for i in range(n):\n",
        "    x = int(input())\n",
        "    a.append(x)\n",
        "  return n,a\n",
        "\n",
        "n,a = _input()\n",
        "\n",
        "# Tính mảng prefix\n",
        "prefix = [0]*(n+1)\n",
        "for i in range(1,n+1):\n",
        "  prefix[i] = prefix[i-1] + a[i]\n",
        "\n",
        "# Duyệt tưng cặp p,q\n",
        "start_index = 0\n",
        "end_index = 0\n",
        "max_sum = -10000000009\n",
        "for p in range(1,n+1):\n",
        "  for q in range(p,n+1):\n",
        "    for i in range(p,q+1):\n",
        "      sum = prefix[q] - prefix[p-1]\n",
        "      # Cập nhật kết quả nếu chuỗi tìm được có tổng lớn hơn giá trị hiện tại\n",
        "      if sum > max_sum:\n",
        "        max_sum = sum\n",
        "        start_index = p\n",
        "        end_index = q\n",
        "\n",
        "print(max_sum,start_index,end_index)"
      ],
      "execution_count": 6,
      "outputs": [
        {
          "output_type": "stream",
          "text": [
            "Nhap n\n",
            "4\n",
            "Nhap day so nguyen\n",
            "1\n",
            "-1\n",
            "2\n",
            "3\n",
            "5 1 4\n"
          ],
          "name": "stdout"
        }
      ]
    },
    {
      "cell_type": "markdown",
      "metadata": {
        "id": "iXCcwDFdxlEO",
        "colab_type": "text"
      },
      "source": [
        "## Thuật toán 3: Cải tiến thuật toán 2  \n",
        "### Ý tưởng:\n",
        "Nhận thấy ở thuật toán 2, ta có thể giản lược việc phải duyệt toàn bộ các cặp chỉ số bằng 1 số phân tích:\n",
        "\n",
        "- Tại bước lặp thứ i, mục đích của chúng ta là tìm ra dãy con liên tiếp có tổng lớn nhất kết thúc tại chỉ số i. Sau đó cập nhật kết quả nếu cần thiết. Cụ thể ta cần tìm:   \n",
        "    $max_{p*}(\\ sum(p*,i)\\ )\\ =\\ max_{p*}(prefix[i]\\ -\\ prefix[p*])\\ =\\ prefix[i] - min_{p*}prefix[p*]\\ \\forall p≤i$\n",
        "- Xuất phát từ phân tích trên, ta có thể dùng một biến $min\\_prefix$ để lưu lại giá trị $min(prefix(p*))$. Tại mỗi bước duyệt i\n",
        " - Tính $s\\ =\\ prefix[i]\\ -\\ min\\_prefix$\n",
        " - Cập nhật kết quả nếu $s$ lớn hơn giá trị hiện tại\n",
        " - Cập nhật $min\\_prefix$ với $prefix[i]$  \n",
        "\n",
        "\n",
        "### Độ phức tạp: O($n$)"
      ]
    },
    {
      "cell_type": "code",
      "metadata": {
        "id": "aomDdkxC0ph4",
        "colab_type": "code",
        "colab": {
          "base_uri": "https://localhost:8080/",
          "height": 153
        },
        "outputId": "e80ad5f0-1217-4992-969b-05bdec02e7b9"
      },
      "source": [
        "def _input():\n",
        "  print('Nhap n')\n",
        "  a = [0]\n",
        "  n = int(input())\n",
        "  print(\"Nhap day so nguyen\")\n",
        "  for i in range(n):\n",
        "    x = int(input())\n",
        "    a.append(x)\n",
        "  return n,a\n",
        "\n",
        "n,a = _input()\n",
        "\n",
        "# Tính mảng prefix\n",
        "prefix = [0]*(n+1)\n",
        "for i in range(1,n+1):\n",
        "  prefix[i] = prefix[i-1] + a[i]\n",
        "\n",
        "# Duyệt tưng chỉ số i\n",
        "start_index = 0\n",
        "end_index = 0\n",
        "max_sum = -10000000009\n",
        "min_prefix = 0\n",
        "for i in range(1,n+1):\n",
        "  s = prefix[i] - min_prefix\n",
        "  if s > max_sum:\n",
        "    max_sum = s\n",
        "    end_index = i\n",
        "  if prefix[i] < min_prefix:\n",
        "    min_prefix = prefix[i]\n",
        "    start_index = i+1\n",
        "  \n",
        "print(max_sum,start_index,end_index)"
      ],
      "execution_count": 7,
      "outputs": [
        {
          "output_type": "stream",
          "text": [
            "Nhap n\n",
            "4\n",
            "Nhap day so nguyen\n",
            "-1\n",
            "2\n",
            "3\n",
            "1\n",
            "6 2 4\n"
          ],
          "name": "stdout"
        }
      ]
    },
    {
      "cell_type": "markdown",
      "metadata": {
        "id": "gUzhvZC1hBIX",
        "colab_type": "text"
      },
      "source": [
        "# Algorithm design\n",
        "Ở đây xây dựng thuật giải bằng pseudo code cho giải thuật 3\n"
      ]
    },
    {
      "cell_type": "markdown",
      "metadata": {
        "id": "ugdlWmUNtuix",
        "colab_type": "text"
      },
      "source": [
        "## Pseudo code\n",
        "```\n",
        "// Đọc input\n",
        "input -> n\n",
        "for i <- 1 to n\n",
        "    input -> a[i]\n",
        "\n",
        "res <- -oo     //Tổng đoạn con liên tiếp nhỏ nhất\n",
        "p <- 1\n",
        "q <- 0   //Lưu chỉ số bắt đầu và kết thúc\n",
        "sum <- 0     //Lưu tổng tiền tố từ 1 đến i\n",
        "min_sum <- oo //Lưu giá trị nhỏ nhất trong các tổng tiền tố từ 1 đến i\n",
        "\n",
        "// Duyệt từ 1 đến n. Tại bước i cập nhật sum thành tổng từ a[i] đến a[i], cập nhật tổng dãy con lớn nhất với sum - min_sum\n",
        "for i <- 1 to n\n",
        "    sum += a[i]\n",
        "    if res < sum - min_sum\n",
        "        res <- sum - min_sum\n",
        "        q <- i\n",
        "    if sum < min_sum\n",
        "        min_sum <- sum\n",
        "        p <- i + 1\n",
        "\n",
        "// Xuất kết quả\n",
        "output <- p,q,res\n",
        "```"
      ]
    }
  ]
}