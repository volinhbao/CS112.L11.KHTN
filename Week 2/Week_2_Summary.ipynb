{
  "nbformat": 4,
  "nbformat_minor": 0,
  "metadata": {
    "colab": {
      "name": "Week 2 - Summary.ipynb",
      "provenance": [],
      "authorship_tag": "ABX9TyNCVPJz93t6GGvVifrfL6CP",
      "include_colab_link": true
    },
    "kernelspec": {
      "name": "python3",
      "display_name": "Python 3"
    }
  },
  "cells": [
    {
      "cell_type": "markdown",
      "metadata": {
        "id": "view-in-github",
        "colab_type": "text"
      },
      "source": [
        "<a href=\"https://colab.research.google.com/github/volinhbao/CS112.L11.KHTN/blob/master/Week%202/Week_2_Summary.ipynb\" target=\"_parent\"><img src=\"https://colab.research.google.com/assets/colab-badge.svg\" alt=\"Open In Colab\"/></a>"
      ]
    },
    {
      "cell_type": "code",
      "metadata": {
        "id": "YfClC4ujnjNf"
      },
      "source": [
        ""
      ],
      "execution_count": null,
      "outputs": []
    },
    {
      "cell_type": "markdown",
      "metadata": {
        "id": "_01f5NsKoMpf"
      },
      "source": [
        "# **Tóm tắt tuần 2 (17-09-2020)**\n",
        "## TÓM TẮT\n",
        "- Xem bài làm BOT của các nhóm, thầy nhận xét và rút kinh nghiệm\n",
        "- Các nhóm chọn đề tài seminar\n",
        "- Khảo sát bài toán *Tảo biển* và *Đếm sao*\n",
        "- Hướng dẫn cách làm việc nhóm trong các cuộc thi lập trình\n",
        "\n",
        "## GHI CHÚ\n",
        "- Quy hoạch động không phải là 1 pattern (vì QHĐ quá rộng, bao gồm nhiều bài toán nhỏ)\n",
        "- Bước Algorithm chỉ trình bày pseudo-code chứ không phải hiện thực code\n",
        "- Đối với những bài tập không quen thuộc, ta có thể chạy tay một vài bước để xem có phát hiện được gì không (như trong bài *Tảo biển*, chỉ cần chạy tay đến bước thứ 3 ta có thể nhận ra số lượng tảo sinh ra thuộc dãy Fibonacci)\n",
        "- Cách làm việc nhóm trong lập trình thi đấu:\n",
        "  - Nhóm 3 người: 3 người đọc đề để tìm bài dễ nhất, sau đó 1 người đưa ra thuật giải và 1 người code\n",
        "  - 1 người tiếp tục suy nghĩ các bài khác trong lúc 2 người test code và fix bug\n",
        "\n",
        "\n",
        "## THẢO LUẬN\n",
        "- Cách làm bài *Đếm sao*: cách xoay hệ trục tọa độ, làm thế nào để xác định điểm nằm trong góc tạo bởi 2 tia\n",
        "- Tìm hiểu về test, cách tạo test, những kinh nghiệm khi tạo test \n"
      ]
    }
  ]
}