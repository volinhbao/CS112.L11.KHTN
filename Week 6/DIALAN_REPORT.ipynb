{
  "nbformat": 4,
  "nbformat_minor": 0,
  "metadata": {
    "colab": {
      "name": "DIALAN_REPORT.ipynb",
      "provenance": [],
      "authorship_tag": "ABX9TyMS8cIVSU+HcyclZ1KVvMoa",
      "include_colab_link": true
    },
    "kernelspec": {
      "name": "python3",
      "display_name": "Python 3"
    }
  },
  "cells": [
    {
      "cell_type": "markdown",
      "metadata": {
        "id": "view-in-github",
        "colab_type": "text"
      },
      "source": [
        "<a href=\"https://colab.research.google.com/github/volinhbao/CS112.L11.KHTN/blob/master/Week%206/DIALAN_REPORT.ipynb\" target=\"_parent\"><img src=\"https://colab.research.google.com/assets/colab-badge.svg\" alt=\"Open In Colab\"/></a>"
      ]
    },
    {
      "cell_type": "markdown",
      "metadata": {
        "id": "zsT6zcKH2WFt"
      },
      "source": [
        "# Nhóm 7\n",
        "# Nguyễn Quốc Cường\n",
        "# Nguyễn Trung Hiếu\n",
        "# Võ Linh Bảo\n",
        "\n"
      ]
    },
    {
      "cell_type": "markdown",
      "metadata": {
        "id": "sEpr06_K2Yq6"
      },
      "source": [
        "#ĐỀ BÀI:\n",
        "Giáo sư Braun đã lai giống tạo ra n loại địa lan mới độc đáo. Mỗi loại địa lan được trồng trong một chậu riêng và được ghi một số thể hiện đặc điểm gene của loại hoa đó, chậu thứ i có số là ai, i = 1 ÷ n.\n",
        "\n",
        "Hội chợ hoa địa lan thế giới mời giáo sư tham gia và giới thiệu các thành quả nghiên cứu của ông. Các chậu hoa do ông mang tới sẽ được đặt trên k đôn dọc theo đường đi dẫn tới gian hàng chính của hội chợ. \n",
        "\n",
        "Muốn gây ấn tượng mạnh cho những người tham dự, đặc biệt là các nhà khoa học Giáo sư yêu cầu trợ lý của mình chọn k chậu sao cho khi thực hiện phép AND số trên các chậu hoa tới (nếu xét chúng ở dạng biểu diễn nhị phân) sẽ có kết quả bằng 0.\n",
        "\n",
        "Hãy xác định xem người trợ lý có thể chọn được k chậu như vậy hay không và đưa ra thông báo “YES” hoặc “NO”.\n",
        "\n",
        "Dữ liệu: Vào từ thiết bị nhập chuẩn:\n",
        "\n",
        "Dòng đầu tiên chứa 2 số nguyên $n$ và $k$ $(1 ≤ n ≤ 2×10^4, 1 ≤ k ≤ n)$,\n",
        "Dòng thứ 2 chứa $n$ số nguyên $a_1, a_2, . . ., a_n$ $(0 ≤ a_i < 2^{12}, i = 1 ÷ n)$.\n",
        "Kết quả: Đưa ra thiết bị xuất chuẩn thông báo tìm được.\n",
        "Ví dụ\n",
        "![image.png](data:image/png;base64,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)"
      ]
    },
    {
      "cell_type": "markdown",
      "metadata": {
        "id": "8pZGyjzJ24DD"
      },
      "source": [
        "#ABSTRACTION:\n",
        "Có tồn tại hay không 1 cách chọn k tập hợp từ n tập hợp sao cho hợp của những tập chọn ra có đúng l phần tử khác nhau  \n",
        "![image.png](data:image/png;base64,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)"
      ]
    },
    {
      "cell_type": "markdown",
      "metadata": {
        "id": "zfhWUSmq31Re"
      },
      "source": [
        "#PATTERN RECOGNITION\n",
        "Để xác định có hay không 1 cách chọn tối đa k tập hợp thỏa mãn yêu cầu, ta có thể tìm số tập hợp tối thiểu thỏa mãn yêu cầu. Nếu kết quả nhỏ hơn k, ta sẽ có đáp án là \"YES\".Ngược lại là \"NO\"   \n",
        "$\\rightarrow$ Bài toán tìm min/max "
      ]
    },
    {
      "cell_type": "markdown",
      "metadata": {
        "id": "GizZrId16aYS"
      },
      "source": [
        "#ALGORITHM DESIGN\n",
        "##Thuật toán 1:\n",
        "Duyệt qua tất cả các tổ hợp chập 1,2,3,...,k của n phần tử từ 1 đến n. Ứng với mỗi tổ hợp chọn được, ta thực hiên phép AND các phần tử của dãy a có chỉ số nằm trong tổ hợp chọn được  \n",
        "  \n",
        "Tập hợp n phần tử từ 1 đến n: ${(1,2,3,...,n)}$  \n",
        "Tập hợp con 2 phần tử của n phần tử từ 1 đến n: ${(1,2)},{(1,3)},...,{(1,n)},{(2,3)}...,{(n-1,n)}$\n",
        "...  \n",
        "Tập hợp con k phần tử của n phần tử từ 1 đến n: ${(1,2,3,...,k)},...,{(n-k,n-k+1,...,n)}$\n",
        "\n",
        "Giả sử ta đang xét tổ hợp $(3,5,8)$, ta xét $a_3$ AND $a_5$ AND $a_8$. Nếu kết quả là 0 và 3(độ dài tổ hợp $(3,5,8)$) bé hơn $k$. Ta có kết quả chắc chắn là YES\n",
        "\n",
        "ĐỘ PHỨC TẠP: O($(C_{1}^n+C_{2}^n+...+C_{k}^n)*n$)"
      ]
    },
    {
      "cell_type": "markdown",
      "metadata": {
        "id": "Ube4qgV6BUN_"
      },
      "source": [
        "## Thuật toán 2:\n",
        "Để dễ tưởng tượng, ta đảo bit của các phần tử $a_i$.Lúc này thay vì các phần tử AND ra 0, ta cần các phần tử OR ra $2^{12}-1$  \n",
        "Sử dụng quy hoạch động:\n",
        "- dp[i][x] là số phần tử trong tập $a_1,a_2,...,a_i$ OR nhau ra x\n",
        "- Trường hợp đơn giản: $dp[i][0]$ = 0\n",
        "- Công thức quy hoạch động:  $dp[i][x]$ = min($dp[i][x]$,$dp[i-1][x']+1$) $\\forall x'$ OR $a_i=x$\n",
        "\n",
        "ĐỘ PHỨC TẠP: O($2^{12}*n$)"
      ]
    },
    {
      "cell_type": "markdown",
      "metadata": {
        "id": "wTLPRhG8Dqu1"
      },
      "source": [
        "## PSEUDO CODE\n",
        "```\n",
        "input -> n,k\n",
        "input -> a1,a2,...,an\n",
        "inverse bit of elements of a\n",
        "dp[i][0] = 0\n",
        "for i:1->n:\n",
        "  for x:0->(2^12)-1:\n",
        "    dp[i][x] = min(dp[i][x],dp[i-1][x']+1) for x' OR ai = x\n",
        "  if dp[i][2^(12)-1] <= k:\n",
        "    print('YES')\n",
        "    exit\n",
        "print('NO')\n",
        "```"
      ]
    },
    {
      "cell_type": "markdown",
      "metadata": {
        "id": "HYcAlNH4Eqy5"
      },
      "source": [
        "## EXECUTION"
      ]
    },
    {
      "cell_type": "code",
      "metadata": {
        "id": "xLMQu-4X2H3l",
        "outputId": "bcd25f30-9f90-49dc-ceea-5ceba83d542d",
        "colab": {
          "base_uri": "https://localhost:8080/",
          "height": 68
        }
      },
      "source": [
        "n,k = map(int,input().split())\n",
        "a = list(map(int,input().split()))\n",
        "for i in range(n):\n",
        "\ta[i] = a[i]^((1<<12)-1)\n",
        "\n",
        "# print(a)\n",
        "# print(4090|4093)\n",
        "# print((1<<12)-1)\n",
        "\n",
        "dp = [-1 for i in range(1<<12)]\n",
        "accept = set()\n",
        "def process():\n",
        "\tdp[0] = 0\n",
        "\taccept.add(0)\n",
        "\tfor i in range(n):\n",
        "\t\ttmp = []\n",
        "\t\tfor mask in accept:\n",
        "\t\t\tnew_mask = mask | a[i]\n",
        "\t\t\tif (new_mask > a[i] or mask == 0) and new_mask > mask:\n",
        "\t\t\t\tif dp[new_mask] == -1:\n",
        "\t\t\t\t\tdp[new_mask] = dp[mask] + 1\n",
        "\t\t\t\t\ttmp.append(new_mask)\n",
        "\t\t\t\telse:\n",
        "\t\t\t\t\tdp[new_mask] = min(dp[new_mask],dp[mask] + 1)\n",
        "\t\taccept.update(tmp)\n",
        "\t\tif dp[(1<<12)-1] <= k and dp[(1<<12)-1]!=-1:\n",
        "\t\t\tprint('YES')\n",
        "\t\t\treturn\n",
        "\tprint('NO')\n",
        "\n",
        "process()"
      ],
      "execution_count": 2,
      "outputs": [
        {
          "output_type": "stream",
          "text": [
            "3 2\n",
            "5 4 3\n",
            "YES\n"
          ],
          "name": "stdout"
        }
      ]
    }
  ]
}