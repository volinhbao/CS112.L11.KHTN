{
  "nbformat": 4,
  "nbformat_minor": 0,
  "metadata": {
    "colab": {
      "name": "muc_do_giong_nhau.ipynb",
      "provenance": []
    },
    "kernelspec": {
      "name": "python3",
      "display_name": "Python 3"
    }
  },
  "cells": [
    {
      "cell_type": "markdown",
      "metadata": {
        "id": "uOKI1eJJMc2a"
      },
      "source": [
        "# **MỨC ĐỘ GIỐNG NHAU (0.2s, 50MB)**\n",
        "\n",
        "Một quần thể sinh vật ngoài hành tinh có gene tạo thành từ $26$ cơ sở ký hiệu từ $A$ tới $Z$. Mỗi gene là một xâu ký tự các chữ cái la tinh hoa. Hai cá thể khác nhau có gene khác nhau. Mức độ giống nhau của $2$ gene sẽ xác định độ huyết thống của chúng.\n",
        "\n",
        "Độ giống nhau của gene thứ nhất đối với gene thứ $2$ là số lượng cặp $2$ cơ sở liên tiếp nhau trong gene thứ nhất đồng thời là cặp $2$ cơ sở liên tiếp nhau trong gene thứ hai."
      ]
    },
    {
      "cell_type": "markdown",
      "metadata": {
        "id": "EoxAiBTSMqcA"
      },
      "source": [
        "![image.png](data:image/png;base64,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)"
      ]
    },
    {
      "cell_type": "markdown",
      "metadata": {
        "id": "UqaYYvrlMsAl"
      },
      "source": [
        "> Ví dụ, gene thứ nhất là **ABBACAB**, gene thứ 2 là **BCABB** thì mức độ giống nhau là 4.\n",
        "\n",
        "**Cho hai gene. Hãy xác định mức độ giống nhau của gene thứ nhất với gene thứ 2.**\n",
        "\n",
        "**Dữ liệu:** Vào từ thiết bị nhập chuẩn bao gồm 2 dòng chứa 2 xâu khác rỗng xác định gene thứ nhất và gene thứ 2, mỗi xâu chỉ chứa các ký tự chữ cái in hoa và có độ dài không quá 105.\n",
        "\n",
        "**Kết quả:** Đưa ra thiết bị xuất chuẩn một số nguyên – mức độ giống nhau của 2 genes."
      ]
    },
    {
      "cell_type": "markdown",
      "metadata": {
        "id": "DiComp8RNoug"
      },
      "source": [
        "**Ví dụ:**\n",
        "\n",
        "![image.png](data:image/png;base64,iVBORw0KGgoAAAANSUhEUgAAAe0AAAC/CAIAAABc5xPkAAAdYklEQVR4Ae3dCXgURaIH8Po+SGBDJEQSOUXEMDPATEgIRwKJBAmHEOWUSw45JUiEkEhWxBcIXgFWwN1FsnLKLSiwiiAolygBTUZ2fR7P5/Pa9z0R2BX4VmZGJ3lfTU96Kj2dpDOpGjo9/3x++9U03T1V/6n6TaW6O0sq8IMEkAASQAINOQHSkCuPuiMBJIAEkECFz/EE/CABJIAEkEDDSUD+BqviuMttx39IoE4JFBQUyJ0JhYKCgjqlh52RQMAJJCQkyCMOjuOrq14JwHF5LFVUVMDxgFXCgXVNAI7XS666xm3s/eE4HDd2D9dt6+A4HOeWAByH47qVztgVg+PcFDN2R9HSOjgOx7X0E+zDPQE4Dse5JQDH4Th3oXBCLQnAcW6KaYnb2PvAcThu7B6u29bBcTjOLQE4Dsd1K52xKwbHuSlm7I6ipXVwHI5r6SfYh3sCcByOc0sAjsNx7kLhhFoSgOPcFNMSt7H3geNw3Ng9XLetg+NwnFsCcByO61Y6Y1cMjnNTzNgdRUvr4Dgc19JPsA/3BOA4HOeWAByH49yFwgm1JGBkxx2/HSwa1t1ksSn+s9419tUrZZ50Luyf38tksdmsMw79S9pCUft641iTxTbt5eNSgscW9WPPYOvZb+hDM1fu3X+58k9C3jg002axDcjbyibObjy/YhB7BkXZYuqT89bH7LENtAzHDe/4lQurnpo2JKV3D3N8n/senLpil28UuNz200v6m82J8/dV6czyRmfFsQ0jVMajPBxs7Sds8wxDjLi6CmBkx50VJ98smpedOys77+EhiTZLXL/R82dm585amFN48kYVx83mxNlb3pWzU3V8wPS5eUuy8pZkzXlkSJLVZjYnZj61VaKcJVs+Cbvx64NP5C2aRWuSOyv78cwUs83SY9Aj0svcWY/nPL7zk1L5wIZbgOPGdvzy2UVD4m1mW7/Rc2fm5T08OCXebE4cv2rfjcoJjUw224fljc6Kk8deesw7CnJnZU9MM1ls3QeMlbcszCk89wsdmJLjGHFsjDWXjey43HLHbwdXDupuvWvsxh99k27Pv9L5uNmcaE2yJQxe+mm5d4XB33HFlPmyfWmmzdat04Prv6X+smTLb6q60eW2O35c/bDFlpCeX+pSVIbb+oZchyAX4LiBHZcGkcWSvvSd01K/cv5j3dy+8da4sZs8o6DW+biiN3oHyMIqv8VK+xxb1A8jThFXzS/heK8upkG5BePjzekrznp/H6zVcWf52R1z6BdAzqFzcFzuYXDcwI47y/IHmGwJDxZ+VTndcbnt51+gC4YT1h6W+oA89Za7RHW4+0aNNscx4thI/ctwnDr+bEnxgl7x/eatl9ZJ4Lh/R9GyBY4b2HFpUAxZsovtCTfemWuz2HrPXCctrcBxNpxgluE4dfyFspLzKwZZTRNe9Sy81Or49bKlY7CuUrkqKvdXOG5gx88vSzdZbOOL35Y/bpfb7vx7fno3uiYpTdLFOY4Rx8buX4bj1PGi0lLn/xQ+0NU26sWD1d2vIl91yZ6VmdKNXud8IF/rdU42d6yPs9gZuGyw/1+3Y4vpXVuzN59iO7PzSzpqEvp6L/ZwdNxksWHEsVHXXIbjlY5XnNw5o1f35JxzrjL/+bh8axS9SbFnvyHjqtxxpXpJU3UjrnMaGG5F0+C4RI8q7rWuj2PE1Qy34l/huNdxl9t+5Z25Pbv0W/jX0/6OK66eK0JUJVvamP575eV4zMcV3hn1pcEcv7XrKhhxigQUL+G4z3HHb/tW3Bffe+Kqks1jFM8B1ey46yi92qP6HJDiuhDm40ZV279dBnO8uuucSWbfdc7zy9LN5sTH9tObuOT/Ti/przp8vLMfbferyGfzFjDimIRdbjsc9znucts/Wz+ia9yw3KdH1c3xc4tSzLbUrFfkByLo7H7XRJPFu+DO9kLMx/3JM+QWgznu+kjlvkP781XuO/zsjyP81tAvvLmwd5dOvpt65bFQL8cx4uC43JNcbvockHSdU9rouLJuenebtXePOjnu+NlzVI8p+37wPpbp/PXwlqkplrh+i9+rMjfBfNyQZKs2ymCOO347uGJw9yrPAf3fesVzQDdOZieZbX0feu7TymfcnJ59bHFTXmP+7oU01urjOEYcgxj91cfI83GNz+WzjjvLz76Z6/1rKuzfV1H9xZCJ8sL5Fx+0WWyW3oOmL8jKWzxt0qAkk8XWd9Lz/+1UPrSJ+biqesbbaDDHXW775VPZ6d3oc/ljHs3Ky3s4M1n5XL40fZGetn90cVZezrjBvZX7yKOmPo673BhxvpUrgzuu8e9ksY7TTub5/bFO83FP17zw2cGnHh13X4/uNrM1se+gsQvWbfRHHPNx43ldXYuM57jLbf/Hh8/lTRuSkkj/TlbfzImKv5NF7yi/+c6x9bMnDUm1Wm3mxD73PTRz5YFD7HojJ8ftLjdGnI9yI8/H5R6DQnASwHNArOmGdDw4HQnvUtcE4LjvO62u2WF/RQJwHI4rugReBicBOA7HuSUAx+F4cNjCuygSgOPcFFMkG4Iv4TgcD8Fur4cmw3E4zi0BOA7H9YBaCNYBjnNTLAR7j6LJcByOK7oEXgYnATgOx7klAMfheHDYwrsoEoDj3BRTJBuCL+E4HA/Bbq+HJsNxOM4tATgOx/WAWgjWAY5zUywEe4+iyXAcjiu6BF4GJwE4Dse5JQDH4Xhw2MK7KBKA49wUUyQbgi/hOBwPwW6vhybDcTjOLQE4Dsf1gFoI1gGOc1MsBHuPoslwHI4rugReBicBOA7HuSUAx+F4cNjCuygSgOPcFFMkG4Iv4TgcD8Fur4cmw3E4zi0BOA7H9YBaCNYBjnNTLAR7j6LJcByOK7oEXgYnATgOx7klAMfheHDYwrsoEoDj3BRTJBuCL+E4HA/Bbq+HJsNxOM4tATgOx/WAWgjWAY5zUywEe4+iyXAcjiu6BF4GJwE4Dse5JQDH4Xhw2MK7KBKA49wUUyQbgi/hOBwPwW6vhybDcTjOLQE4Dsf1gFoI1gGOc1MsBHuPoslwHI4rugReBicBOA7HuSUAx+F4cNjCuygSgOPcFFMkG4Iv4TgcD8Fur4cmw3E4zi0BOA7H9YBaCNYBjnNTLAR7j6LJcByOK7oEXgYnATgOx7klAMfheHDYwrsoEoDj3BRTJBuCL+E4HA/Bbq+HJsNxOM4tATgOx/WAWgjWAY5zUywEe4+iyXAcjiu6BF4GJ4FqHS/ADxJAAkgACTSEBKp1PDhfI3gXIyWA+Tjm40bqzw2oLXAc6yrcEoDjcLwB2WekqsJxbooZqVsE1hY4DscD6zk4qp4JwHE4zi0BOA7H6+kRDg8sATjOTbHAPgAjHQXH4biR+nMDagsch+PcEoDjcLwB2WekqsJxbooZqVsE1hY4DscD6zk4qp4JwHE4zi0BOA7H6+kRDg8sATjOTbHAPgAjHQXH4biR+nMDagsch+PcEoDjcLwB2WekqsJxbooZqVsE1hY4DscD6zk4qp4JwHE4zi0BOA7H6+kRDg8sATjOTbHAPgAjHQXH4biR+nMDagsch+PcEoDjcLwB2WekqsJxbooZqVsE1hY4Xqvjzn+98nhqvMlis5j65Lz1cWA54ygkoEhAk+OOX9ZOim1CPD9xA5Z+V+6zz3F1RSZpLP0TIaRRZFSLdu3ikzPmFa394t9l3jc7NKqVvIdnn9Yd7u41dFTh9n3X3L5Tudx2Z8Xx4kzvvq3I/W9cqzwDs5uz/MypjXMmDrSY2rWIjontYLU+MGXewW9KqzTs/ZmmiEaEkDASlbHktSr/pLkyVY5iKoDt1SUAx2t23Fl+9tji/iaLDY5X14WwPbAENDnuOjFVYpEQ0orcv5PhVeE4wzXpOnjp55L4VemU9wknMfcv387Wm/3CiCAd5x9WTlicNw8Uj4yTzyAVwknMnH1V9ry4LEne557kxewXj0tzZdiKoawlAThes+OXT2Wnd6OIw3Et3Qn7aE9Ak+Pn822UxQSrLapx0/C28//6gfwGsuMd0uYdOF585MhLu//ySEanpoSQ5sS6vNQzTfbQGUai0rNWHvHss7VwiKkFncW3DR93+FffpPvasfEdmjVq1qRzUnwEISQ5p4ryzvKS80/1iPYIHR4R2ytz1NyciRMyLa2bxrKOOyoOr+sfSwjp3MvcipBYMnDLVd9bSI5rqYzcRhQ0JgDHa3DceW3n0oHxlrh+Ex8ZDsc19ijspjGB2h13VBxe2SeGMp699MmeLSmvczfJZ5cd7zyqSN54OtdKCPFNqCsdH73miLQPPWdfek46u//Fh6x04N3WrA2PmwkhneIXeGf0nmUNx7W1k9rS5Z0I0nHyq0flt7tU9vyhj3zrKrRKkWHhEbFjX1mUSegXz5w9vi8e2fFaKyOfHwWNCcDx6h2/cHrZIJPFlj5j3X/umQrHNfYo7KYxAQ2OX/KwSGKm7Dh5dG4nyqspy17hXdf2d/zaD688mUqNjiUD1/9QZT4u0eksL/n2oyeGtw6XpPadquJAYRL9nugxff1PO4e1IqQlSfOeweP49cN0tk4IUS6VVF28vr6fLse3JGl//N/dTyZEEkJ6zvZ98Sgcr64yGuPDbmwCcLw6x69/lD+kq80aP2XfD6VXdsHxKlfF2C6EcmAJ1O64ROrtJHnNV6U/bRsWTQgtf+ud/8qOy+vRUiG2c/Ki3Ye8dVJbkg4jUZ1SRm4o+1Cut+O7pzOaNA4jURM2nnB8l58a2TicxEzZdlLe4cs/pER7Ll3eq7h0yTjuLC+Rvmzat5/x4a8lB2fRL572cTPOuSpn/doqI78pCtoTgOOqjjuc+1YM7m4x9Zm1412X2w7Htfco7KkxgVocd5aXHJp2NyGkXZvJJ1xlzi8Wp0ZSaie+fEJ6A1XHm0Z3TBszpfiDU95KqNHZsp31gVn5R773rYdIXxJRJPGFz0sd7u2L7qFL5LaJa+R7WqRl+jASNfol77v7N9Lh3p5jaUYPHEsP/GnjoGhCokji819VvpG2yvifGVtqTQCOqzl+4fzzw0wWW7+Jq77yXPaH47V2JOxQ1wRqcVz21DKq6JrbfrN846IOvyOEdPUo6XLbZcc7pM2j1zCPFx/YlD064XZCSDRJLlJc58z2XOd896WtK8f2bEfXVTrGzTjpuT3RWV6yd3J7+oXR3POFUfWl1Cotjju/yJG+abxrOJ8u7Hkb/eLx0e9xnF7nrL4ydQ0R+0sJwHF/xx03X57bld4tPmn5is2bizZvLlqbM9RksZnNiQ/kF27Zu+cy89skOhISCCyBWhx32hf2akSXpBU/8n0msuPsdU7X+zNtTelRPaavp9WqpFO+tOhy2y8+kxxNSDiJmbblrMvzDTHvLvoNofjx3fTitkvrKoSQ/k9UvSWcGQnf/6m/dEOL4jxdhtPvIY2VCSxKHAXHVRy/8fL0ynsNpTsO2f9N6JtfKq/4Md0YfQkJ1CmBWhz/8g/qLEaSzk+W0Fu2VR13XPI+HOS9IKnm+PX9oyRwJZSdH2VJ9Cv8DSNRw587KDWp1uuczvIzr45srTiD9LItGXdYujFGQ2XqlCB2lhOA43Bc7gwoBDOBmhx3lp+Rnq68vWXash2r9+ym/21dNdQU0SiMRA36D8qrquMyynGpSy+Vq8/HpW8I+XnLi0V0eh5BOk5Y9Yz0Rrt2z8loQ9de7hniOYnbTu879DxWqrzvsPRF6b5Dx7//PKM1vTGxberkbZ7a7t7z7NrpXQkhkaTzolOeZ4XUHFdUJpgfgJHeC477O+7/+WJ93D8TbKlnAjU5Lj9d2TmjkHLs+b1P3hiXSh/Qlx2XngM6+nbxgW25M/p4n63vk+254a+STt9zQOsmZdxJwW0a3nb26x84K46vy7iDENKGjHy98nZy+oz+ULpRfoJU9Tmg6SPiO0RVPgfkee6Ufjes8E7haZ09z+jLXxjyIk91lalnoKF8OByH46Hc/29h22ty/PqxKR2a0an3wALferRsbity/66rZbLj/qsZLe8YuFW6PdHjuP8OhJC4fgvsrjLHtaIx0XTqHTfAO/WWEpEer/c9T+S2O28eWDeq2ufyzz9FnzuNIB1zj/se06dfPM0983rpAf3aKnMLP4yG/tZwHI439D7cQOtfk+PyY5ksiy63/fxy+tdLpKm0iuMxsWZbyti5+Ue/qrw33I/OFu3a2dLufWzZyk9+prd1Xz9EH/AJI1HKG8Mr/65LynzmAX3XmVObHpk40NKhdYvGLWLvMlszZy88+k1plWdEmb8AI3/xeB/Qr60yDfSD1EO14bgWx/XwSaEOBkugJscN1lQ0R3QCcByOi+5jOL9qAnAcjwhzSwCOw3FVZbBRdAJwnJtioj8q/Z8fjsNx/fdSQ9YQjsNxbgnAcThuSCX13yg4zk0x/X/YomsIx+G46D6G86smAMfhOLcE4DgcV1UGG0UnAMe5KSb6o9L/+eE4HNd/LzVkDeE4HOeWAByH44ZUUv+NguPcFNP/hy26hnAcjovuYzi/agJwHI5zSwCOw3FVZbBRdAJwnJtioj8q/Z8fjsNx/fdSQ9YQjsNxbgnAcThuSCX13yg4zk0x/X/YomsIx+G46D6G86smAMfhOLcE4DgcV1UGG0UnAMe5KSb6o9L/+eE4HNd/LzVkDeE4HOeWAByH44ZUUv+NguPcFNP/hy26hnAcjovuYzi/agJwHI5zSwCOw3FVZbBRdAJwnJtioj8q/Z8fjsNx/fdSQ9YQjsNxbgnAcThuSCX13yg4zk0x/X/YomsIx+G46D6G86smAMfhOLcE4DgcV1UGG0UnAMe5KSb6o9L/+eE4HNd/LzVkDeE4HOeWAByH44ZUUv+NguPcFNP/hy26hnAcjovuYzi/agJwHI5zSwCOw3FVZbBRdAJwnJtioj8q/Z8fjsNx/fdSQ9YQjsNxbgnAcThuSCX13yg4zk0x/X/YomsIx+G46D6G86smAMfhOLcE4DgcV1UGG0UnAMe5KSb6o9L/+eE4HNd/LzVkDeE4HOeWAByH44ZUUv+NguPcFNP/hy26hnAcjovuYzi/agJwHI5zSwCOKxwvwA8SCEoCcJybYqrfkyG1EY4rHGdfoowExCUAx+E4twTgODtQkQabBspCE4Dj3BQLqam3amMhFztWkQabBspCE4DjcJxbApCLHatIg00DZaEJwHFuiqlOUUNqI+RixyrSYNNAWWgCcByOc0sAcrFjFWmwaaAsNAE4zk2xkJp6qzYWcrFjFWmwaaAsNAE4Dse5JQC52LGKNNg0UBaaABznppjqFDWkNkIudqwiDTYNlIUmAMfhOLcEIBc7VpEGmwbKQhOA49wUC6mpt2pjIRc7VpEGmwbKQhOA43CcWwKQix2rSINNA2WhCdTkuKPiQGFyDGF+omNizbaUsdn5R74vVczInP98Y8/yMcOTOrWKaRHdqp25R8rknJVfOMvY3S4+kxztOVsE6Zh7/GP2n04vtDDvQ0h0i7vM1kGTZhZ/cErarU6VYc+MctASgFzsWEUabBooC02gbo7L1LZvO3LXjz6jnd+smdH1dvlfpUJLkrblKrNPxfF1GXfI+/R/4jXWF6XjlfvdFmHNffsDl9vu73jlLkRRGfa0KAczAcjFjlWkwaaBstAENDkeEzXwuaPFR44XH9j7ZNa9rQkhYSQqc+URyQhHxeF1GW0kVSNiTAMnT1iYPXp0cvs2VR13XCsaEx0eHhFr7dWJEBLXY/Hn5b7f6CXHI0nn6X/ZcOR48ZEDzxVN6S5N3rsML7rGOF5zZYLJFt5LkQDkYscq0mDTQFloApocb9d88glX5cz68PhWHrN9E+r3ZpoiGhFCbm+ZtvbvH0pj21le8rc9q0t+rjzKbb9+aHyHZo1akrQXN4xoRUhLkraemdFLjt9GrMtLvSs2N6+vyCSNCSH3JC/+rtw3H6+lMm7fd4NCGbwUnQDkYscq0mDTQFloAnV0/Opbe7K7EUKahreds4cud7jc9vP5Nmkynpa/vQYpjnpWwDuZss7+8HRGk8bhJGbqdu8ZXG670nHXmU82jZC+HpLnbmLXVXyOq1Wmhgrgn0QnALnYsYo02DRQFpqAJsfllWip8Ls2phFLXv7OsyriLD/z6ki60hJBOs4/XOXSJauGw73nyYRIQkj85PW0bKXlpMnr5X1U18ebNG/bd9TiU1fopL669XG2MvLZULglCUAudqwiDTYNlIUmUGfHwyNizenDluzYd80zGXdUHC5KjyWERJHEZX9T3sQia+L8enFqZOMwEjX6pRPO8pJD0+4khLRvP+Nc5XKNv+NhJKpNfMqsgrXSTS+qjisqI78dCrckAcjFjlWkwaaBstAENDkeEzXwxffodc4j+wt+P+yeaM+6yvg/H/JMkzU5/v2GjGhC5OVv6WUUSSyqpF9y3Hed883Va7NTOzSjy+49Jq65xKyP11CZW4IX3lROAHKxYxVpsGmgLDQBTY77lqTddscvaye1bUII6WDKsrvKtKyrOMvP7B3fXrE4o7jpRbk+7rY7K44XD6X3KUaT5DXflsrz8RoqI4OCwi1JAHKxYxVpsGmgLDSBujtecaAwqSUhpBW5f+cvdOW61uucN13rZ7Sm9Pv/WIYVXvKss/s77nLbpUuj0sq7uuN+lbklfuFNpQQgFztWkQabBspCE6iz4xTlO5uyjl8/oX7f4X/J9x2+T3cII1HJM5du2716z+7Vu/cW5PSlT4q2ISNf93wZ+Dvumem3k66g5h7/WNVx/8qA1FuYAORixyrSYNNAWWgCmhz3PXqzv2D5uC7S4zmd4hdID/KoPweUeqf8HNDFZUmEkEjSedEp3w0tF59Nivbc5SI9oO+/Pr4hb4B032EsGbjlxzLZ8ZorcwsVw1tDLnasIg02DZSFJqDJcf/1kGZNOj/2xklZLue3L1T3XD5Vvj+9oUWeenuPOjFVYlq661xy3P+NwkhU6qJN7POc/vsoKiPXCoUgJwC52LGKNNg0UBaaQB0d9/z5qoyHpxS/947CCOc/39i2fMzAnp1aRTeObkn/TtbMpfTvZDmursiMDKMP4qculW45lw6k10ubhxNC7u5F5/UKxxtFRrW+09Rr6Kglr+yQFtDl+bjP8eoro6gbXgYnAcjFjlWkwaaBstAEanI8OIMf72KYBCAXO1aRBpsGykITgOP4eyzcEoBc7FhFGmwaKAtNAI5zU8ww0+qAGwK52LGKNNg0UBaaAByH49wSgFzsWEUabBooC00AjnNTLOBprGEOhFzsWEUabBooC00AjsNxbglALnasIg02DZSFJgDHuSlmmGl1wA2BXOxYRRpsGigLTQCOw3FuCUAudqwiDTYNlIUmAMe5KRbwNNYwB0IudqwiDTYNlIUmAMfhOLcEIBc7VpEGmwbKQhOA49wUM8y0OuCGQC52rCINNg2UhSYAx+E4twQgFztWkQabBspCE4Dj3BQLeBprmAMhFztWkQabBspCE4DjcJxbApCLHatIg00DZaEJwHFuihlmWh1wQyAXO1aRBpsGykITgONwnFsCkIsdq0iDTQNloQnAcW6KBTyNNcyBkIsdq0iDTQNloQnAcTjOLQHIxY5VpMGmgbLQBOA4N8UMM60OuCGQix2rSINNA2WhCcBxOM4tAcjFjlWkwaaBstAE4Dg3xQKexhrmQMjFjlWkwaaBstAE4Dgc55YA5GLHKtJg00BZaAJwnJtihplWB9wQyMWOVaTBpoGy0ATgOBznlgDkYscq0mDTQFloAnCcm2IBT2MNcyDkYscq0mDTQFloAnAcjnNLAHKxYxVpsGmgLDQBOM5NMcNMqwNuCORixyrSYNNAWWgCcByOc0sAcrFjFWmwaaAsNAE4zk2xgKexhjkQcrFjFWmwaaAsNAE4Dse5JQC52LGKNNg0UBaaABznpphhptUBNwRysWMVabBpoCw0ATgOx7klALnYsYo02DRQFpoAHOemWMDTWMMcCLnYsYo02DRQFpoAHIfj3BKAXOxYRRpsGigLTQCOc1PMMNPqgBsCudixijTYNFAWmgAch+PcEoBc7FhFGmwaKAtNgHX8/wEnbEKgv6mJEAAAAABJRU5ErkJggg==)"
      ]
    },
    {
      "cell_type": "markdown",
      "metadata": {
        "id": "ybdWhhCZdLu0"
      },
      "source": [
        "## **Abstract**\n",
        "Tìm số substring (độ dài là 2) ở chuỗi gene thứ 1 trùng với substring ở chuỗi gene thứ 2."
      ]
    },
    {
      "cell_type": "markdown",
      "metadata": {
        "id": "Y04rILvyeKZ7"
      },
      "source": [
        "## Pattern Recognition\n",
        "Nếu ta coi từng cặp substring liền nhau là một phần tử riêng biêt, thì ta có thể giải bài toán này tương tự như bài toán đếm số phần tử giống nhau trong 2 mảng con "
      ]
    },
    {
      "cell_type": "markdown",
      "metadata": {
        "id": "7Qq2xRAEfGZ9"
      },
      "source": [
        "## ALGORITHM DESIGN ($O(n*m)$)\n",
        "\n",
        "Ta giải bài toán với các bước sau:\n",
        " > 1. Với từng cặp cơ sở liên tiếp nhau ở gene 2, ta tăng giá trị ứng với cặp cơ sở đó trong $dictionary$ lên 1\n",
        " > 2. Với từng cặp cơ sở liên tiếp nhau ở gene 1, nếu cặp cơ sở đó có trong $dictionary$, ta tăng biến $score$ lên 1\n",
        " > 3. In kết quả là biến $score$"
      ]
    },
    {
      "cell_type": "code",
      "metadata": {
        "id": "WIVUbueOdHWd",
        "outputId": "9af38a10-7304-4340-a700-c575fa00ee88",
        "colab": {
          "base_uri": "https://localhost:8080/",
          "height": 71
        }
      },
      "source": [
        "B = input()\n",
        "A = input()\n",
        "\n",
        "DICT_A = {}\n",
        "for i in range(0,len(A)-1):\n",
        "    if (A[i] + A[i+1]) not in DICT_A:\n",
        "        DICT_A[A[i]+A[i+1]] = 1\n",
        "    else:\n",
        "        DICT_A[A[i]+A[i+1]] += 1\n",
        "\n",
        "score = 0\n",
        "for i in range(0,len(B)-1):\n",
        "    if (B[i] + B[i+1]) in DICT_A:\n",
        "        score += 1\n",
        "\n",
        "print(score)"
      ],
      "execution_count": 2,
      "outputs": [
        {
          "output_type": "stream",
          "text": [
            "ABBACAB\n",
            "BCABB\n",
            "4\n"
          ],
          "name": "stdout"
        }
      ]
    }
  ]
}