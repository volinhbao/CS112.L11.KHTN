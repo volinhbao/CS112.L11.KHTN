{
  "nbformat": 4,
  "nbformat_minor": 0,
  "metadata": {
    "colab": {
      "name": "Khóa_Số.ipynb",
      "provenance": []
    },
    "kernelspec": {
      "name": "python3",
      "display_name": "Python 3"
    }
  },
  "cells": [
    {
      "cell_type": "markdown",
      "metadata": {
        "id": "GwdMnehXBOrc"
      },
      "source": [
        "#**NHÓM 7**\n",
        "| STT |Họ và tên            | Description |Role|\n",
        "| ----| --------------------|------------ |----|\n",
        "| 1   | Nguyễn Quốc Cường   | 1852|Leader|\n",
        "| 2   | Nguyễn Trung Hiếu   | 1852|Member|\n",
        "| 3   | Võ Linh Bảo         | 18520503|Member|"
      ]
    },
    {
      "cell_type": "markdown",
      "metadata": {
        "id": "TlyctvTTA7ld"
      },
      "source": [
        "#**KHÓA SỐ (0.15s, 100MB)**\n",
        "\n",
        "Để tăng độ an toàn chống hiện tượng cướp ngân hàng ngày càng phổ biến người ta dùng khóa số với mã mở khóa đơn giản nhưng rất hiệu quả. Trên cửa ra vào hiển thị một xâu khá dài các ký tự số. Các chữ số có thể di chuyển đổi chổ cho nhau hoặc bị xóa. Muốn mở khóa người ta phải di chuyển các chữ số và trong trường hợp cần thiết – xóa vài chữ số để nhận được xâu lớn nhất thỏa mãn điều kiện đã cài đặt. Điều kiện này được thay đổi thường xuyên. Hôm nay điều kiện đó là “Số nhận được phải chia hết cho $3$. Số nhận được có thể bắt đầu bằng các chữ số 0. Xâu “$000$” sẽ lớn hơn xâu “$00$”.\n",
        "\n",
        "**Hãy xác định khóa mở cửa.**\n",
        "\n",
        "> **Dữ liệu**: Vào từ thiết bị nhập chuẩn gồm một xâu ký tự số có độ dài lớn hơn $2$ và không vượt quá $10^5$.\n",
        "\n",
        "> **Kết quả**: Đưa ra thiết bị xuất chuẩn xâu khóa mở cửa."
      ]
    },
    {
      "cell_type": "markdown",
      "metadata": {
        "id": "rXfjJX-_Bl51"
      },
      "source": [
        "> **Ví dụ:**\n",
        "\n",
        "\n",
        "![Screenshot from 2020-10-14 23-51-36.png](data:image/png;base64,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)"
      ]
    },
    {
      "cell_type": "markdown",
      "metadata": {
        "id": "0QAKOtCqCHl5"
      },
      "source": [
        "# Abstraction:\n",
        "Tìm cách xóa 1 số ký tự (có thể không xóa) và hoán vị các ký tự còn lại từ 1 xâu ký tự số sao cho xâu kết quả có tổng các ký tự chia hết cho 3 và xâu có giá trị lớn nhất"
      ]
    },
    {
      "cell_type": "markdown",
      "metadata": {
        "id": "frKauQh2C0P5"
      },
      "source": [
        "# Pattern recognition:\n",
        "- Bài toán có đầu vào là 1 xâu  \n",
        "$\\rightarrow$ dạng bài xử lý chuỗi\n",
        "- Yêu cầu tìm cách để tổng chữ số chia hết cho 3  \n",
        "$\\rightarrow$ dạng bài số học\n"
      ]
    },
    {
      "cell_type": "markdown",
      "metadata": {
        "id": "oLl3DpsaDftF"
      },
      "source": [
        "# Algorithm design:\n",
        "## "
      ]
    },
    {
      "cell_type": "code",
      "metadata": {
        "id": "GhIDB_gPA17F"
      },
      "source": [
        ""
      ],
      "execution_count": null,
      "outputs": []
    }
  ]
}