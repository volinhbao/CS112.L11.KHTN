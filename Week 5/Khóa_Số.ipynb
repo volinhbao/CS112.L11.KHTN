{
  "nbformat": 4,
  "nbformat_minor": 0,
  "metadata": {
    "colab": {
      "name": "Khóa_Số.ipynb",
      "provenance": [],
      "collapsed_sections": [],
      "include_colab_link": true
    },
    "kernelspec": {
      "name": "python3",
      "display_name": "Python 3"
    }
  },
  "cells": [
    {
      "cell_type": "markdown",
      "metadata": {
        "id": "view-in-github",
        "colab_type": "text"
      },
      "source": [
        "<a href=\"https://colab.research.google.com/github/volinhbao/CS112.L11.KHTN/blob/master/Week%205/Kh%C3%B3a_S%E1%BB%91.ipynb\" target=\"_parent\"><img src=\"https://colab.research.google.com/assets/colab-badge.svg\" alt=\"Open In Colab\"/></a>"
      ]
    },
    {
      "cell_type": "markdown",
      "metadata": {
        "id": "GwdMnehXBOrc"
      },
      "source": [
        "#**NHÓM 7**\n",
        "| STT |Họ và tên            | Description |Role|\n",
        "| ----| --------------------|------------ |----|\n",
        "| 1   | Nguyễn Quốc Cường   | 18520206|Leader|\n",
        "| 2   | Nguyễn Trung Hiếu   | 1852|Member|\n",
        "| 3   | Võ Linh Bảo         | 18520503|Member|"
      ]
    },
    {
      "cell_type": "markdown",
      "metadata": {
        "id": "TlyctvTTA7ld"
      },
      "source": [
        "#**KHÓA SỐ (0.15s, 100MB)**\n",
        "\n",
        "Để tăng độ an toàn chống hiện tượng cướp ngân hàng ngày càng phổ biến người ta dùng khóa số với mã mở khóa đơn giản nhưng rất hiệu quả. Trên cửa ra vào hiển thị một xâu khá dài các ký tự số. Các chữ số có thể di chuyển đổi chổ cho nhau hoặc bị xóa. Muốn mở khóa người ta phải di chuyển các chữ số và trong trường hợp cần thiết – xóa vài chữ số để nhận được xâu lớn nhất thỏa mãn điều kiện đã cài đặt. Điều kiện này được thay đổi thường xuyên. Hôm nay điều kiện đó là “Số nhận được phải chia hết cho $3$. Số nhận được có thể bắt đầu bằng các chữ số 0. Xâu “$000$” sẽ lớn hơn xâu “$00$”.\n",
        "\n",
        "**Hãy xác định khóa mở cửa.**\n",
        "\n",
        "> **Dữ liệu**: Vào từ thiết bị nhập chuẩn gồm một xâu ký tự số có độ dài lớn hơn $2$ và không vượt quá $10^5$.\n",
        "\n",
        "> **Kết quả**: Đưa ra thiết bị xuất chuẩn xâu khóa mở cửa."
      ]
    },
    {
      "cell_type": "markdown",
      "metadata": {
        "id": "rXfjJX-_Bl51"
      },
      "source": [
        "> **Ví dụ:**\n",
        "\n",
        "\n",
        "![Screenshot from 2020-10-14 23-51-36.png](data:image/png;base64,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)"
      ]
    },
    {
      "cell_type": "markdown",
      "metadata": {
        "id": "0QAKOtCqCHl5"
      },
      "source": [
        "# Abstraction:\n",
        "Tìm cách xóa 1 số ký tự (có thể không xóa) và hoán vị các ký tự còn lại từ 1 xâu ký tự số sao cho xâu kết quả có tổng các ký tự chia hết cho 3 và xâu có giá trị lớn nhất"
      ]
    },
    {
      "cell_type": "markdown",
      "metadata": {
        "id": "92C0NPOoEEe9"
      },
      "source": [
        "#Decomposition:\n",
        "Yêu cầu bài toán gồm 2 thành phần chính:\n",
        "- Xóa 1 số ký tự để tổng các ký tự còn lại chia hết cho 3\n",
        "- Hoán vị các ký tự còn lại  \n",
        "Kết quả từ 2 bước trên cần phải lớn nhất"
      ]
    },
    {
      "cell_type": "markdown",
      "metadata": {
        "id": "frKauQh2C0P5"
      },
      "source": [
        "# Pattern recognition:\n",
        "- Bài toán có đầu vào là 1 xâu  \n",
        "$\\rightarrow$ dạng bài xử lý chuỗi\n",
        "- Yêu cầu tìm cách để tổng chữ số chia hết cho 3   \n",
        "$\\rightarrow$ dạng bài số học  \n",
        "\n",
        "![image.png](data:image/png;base64,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)\n"
      ]
    },
    {
      "cell_type": "markdown",
      "metadata": {
        "id": "oLl3DpsaDftF"
      },
      "source": [
        "# Algorithm design:\n",
        "**Đánh giá 1**: Xâu ký tự input có tổng ký tự rơi vào 3 trường hợp\n",
        "- Chia hết cho 3: Không cần xóa\n",
        "- Chia cho 3 dư 1: Xóa 1 số chia 3 dư 1 hoặc xóa 2 số chia 3 dư 2 (nếu đủ số lượng để xóa)\n",
        "- Chia cho 3 dư 2: Xóa 1 số chia 3 dư 2 hoặc xóa 2 số chia 3 dư 1 (nếu đủ số lượng để xóa)  \n",
        "\n",
        "**Đánh giá 2**: Trong 2 trường hợp tổng chuỗi ban đầu không chia hết (dư 1 hoặc dư 2), trong 2 lựa chọn tương ứng mỗi trường hợp (chỉ xét 1 lựa chọn nếu lựa chọn đó có đủ số ký tự cần thiết để xóa), ta ưu tiên lựa chọn xóa 1 số. Bởi vì sau khi xóa 1 số, ta luôn tạo được kết quả lớn hơn lựa chọn xóa 2 số (vì số chữ số còn lại lớn hơn)  \n",
        "\n",
        "**Đánh giá 3**: Ta có thể chọn xóa các ký tự nhỏ nhất có thể và sắp xếp các ký tự còn lại theo thứ tự giảm dần để thu được kết quả lớn nhất\n",
        "\n",
        "**Giải thuật**\n",
        "- Bước 1: Đọc chuỗi đầu vào, đếm số lần xuất hiện của từng chữ số\n",
        "- Bước 2: Kiểm tra chuỗi input thuộc trường hợp nào trong 3 trường hợp\n",
        "- Bước 3: Nếu thuộc trường hợp 2 hoặc 3, tiến hành xóa bằng 1 trong 2 lựa chọn\n",
        "- Bước 4: Sắp xếp giảm dần các ký tự còn lại "
      ]
    },
    {
      "cell_type": "markdown",
      "metadata": {
        "id": "WVVfgkkcNqiA"
      },
      "source": [
        "# Pseudo code in python\n",
        "```\n",
        "input --> s\n",
        "count number of occurences of each digit\n",
        "sum = sum of digit in s\n",
        "if sum % 3 == 0:\n",
        "  pass\n",
        "elif sum % 3 == 1:\n",
        "  if (number of digit mod 3 = 1) > 0:\n",
        "    delete minimum digit mod 3 = 1\n",
        "  else:\n",
        "    delete 2 minimum digit mod 3 = 2\n",
        "else:\n",
        "  if (number of digit mod 3 = 2) > 0:\n",
        "    delete minimum digit mod 3 = 2\n",
        "  else:\n",
        "    delete 2 minimum digit mod 3 = 1\n",
        "sort remain digit in descending order\n",
        "output <-- s\n",
        "```"
      ]
    },
    {
      "cell_type": "markdown",
      "metadata": {
        "id": "Rb0O_-i_O9rO"
      },
      "source": [
        "# Execution"
      ]
    },
    {
      "cell_type": "code",
      "metadata": {
        "id": "MnLLDIXeNoH9",
        "outputId": "aaf3a0e8-483d-4d9e-dfdd-27f83dd5f09e",
        "colab": {
          "base_uri": "https://localhost:8080/",
          "height": 51
        }
      },
      "source": [
        "s = input().strip()\n",
        "a = [int(x) for x in s]\n",
        "cnt = {}\n",
        "for i in range(0,10):\n",
        "\tcnt[i] = 0\n",
        "S = sum(a)\n",
        "for num in a:\n",
        "\tcnt[num] += 1\n",
        "\n",
        "def output():\n",
        "\tls = []\n",
        "\tfor i in range(9,-1,-1):\n",
        "\t\tfor j in range(cnt[i]):\n",
        "\t\t\tls.append(str(i))\n",
        "\tprint(''.join(ls))\n",
        "\n",
        "if S%3 == 0:\n",
        "\toutput()\n",
        "elif S%3 == 1:\n",
        "\tif cnt[1]:\n",
        "\t\tcnt[1] -= 1\n",
        "\telif cnt[4]:\n",
        "\t\tcnt[4] -= 1\n",
        "\telif cnt[7]:\n",
        "\t\tcnt[7] -= 1\n",
        "\telse:\n",
        "\t\ttmp = 0\n",
        "\t\tfor i in [2,5,8]:\n",
        "\t\t\tif tmp == 2:\n",
        "\t\t\t\tbreak\n",
        "\t\t\tresidual = min(2-tmp,cnt[i])\n",
        "\t\t\ttmp += residual\n",
        "\t\t\tcnt[i] -= residual\n",
        "\toutput()\n",
        "else:\n",
        "\tif cnt[2]:\n",
        "\t\tcnt[2] -= 1\n",
        "\telif cnt[5]:\n",
        "\t\tcnt[5] -= 1\n",
        "\telif cnt[8]:\n",
        "\t\tcnt[8] -= 1\n",
        "\telse:\n",
        "\t\ttmp = 0\n",
        "\t\tfor i in [1,4,7]:\n",
        "\t\t\tif tmp == 2:\n",
        "\t\t\t\tbreak\n",
        "\t\t\tresidual = min(2-tmp,cnt[i])\n",
        "\t\t\ttmp += residual\n",
        "\t\t\tcnt[i] -= residual\n",
        "\toutput()"
      ],
      "execution_count": 4,
      "outputs": [
        {
          "output_type": "stream",
          "text": [
            "015\n",
            "510\n"
          ],
          "name": "stdout"
        }
      ]
    }
  ]
}